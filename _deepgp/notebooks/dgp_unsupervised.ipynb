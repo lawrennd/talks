{
 "cells": [
  {
   "cell_type": "markdown",
   "metadata": {},
   "source": [
    "# Deep GP Unsupervised Learning\n",
    "\n",
    "## Zhenwen Dai and Neil D. Lawrence\n",
    "\n",
    "This notebook explores the deep Gaussian processes' capacity to perform unsupervised learning. We will look at a sub-sample of the MNIST digit data set.\n",
    "\n",
    "This notebook depends on [GPy](https://github.com/SheffieldML/GPy) and [PyDeepGP](https://github.com/SheffieldML/PyDeepGP). These libraries can be installed via pip:\n",
    "```\n",
    "pip install GPy\n",
    "pip install git+https://github.com/SheffieldML/PyDeepGP.git\n",
    "```"
   ]
  },
  {
   "cell_type": "code",
   "execution_count": 1,
   "metadata": {
    "collapsed": true
   },
   "outputs": [],
   "source": [
    "import deepgp\n",
    "import GPy\n",
    "import numpy as np\n",
    "%matplotlib inline\n",
    "from pylab import *\n",
    "from IPython.display import display"
   ]
  },
  {
   "cell_type": "code",
   "execution_count": 2,
   "metadata": {
    "collapsed": true
   },
   "outputs": [],
   "source": [
    "# Visualization Utility Functions\n",
    "def ax_default(fignum, ax):\n",
    "    if ax is None:\n",
    "        fig = figure(fignum)\n",
    "        ax = fig.add_subplot(111)\n",
    "    else:\n",
    "        fig = ax.figure\n",
    "    return fig, ax\n",
    "\n",
    "def meanplot(x, mu, color='#3300FF', ax=None, fignum=None, linewidth=2,**kw):\n",
    "    _, axes = ax_default(fignum, ax)\n",
    "    return axes.plot(x,mu,color=color,linewidth=linewidth,**kw)\n",
    "\n",
    "def gpplot(x, mu, lower, upper, edgecol='#3300FF', fillcol='#33CCFF', ax=None, fignum=None, **kwargs):\n",
    "    _, axes = ax_default(fignum, ax)\n",
    "\n",
    "    mu = mu.flatten()\n",
    "    x = x.flatten()\n",
    "    lower = lower.flatten()\n",
    "    upper = upper.flatten()\n",
    "\n",
    "    plots = []\n",
    "\n",
    "    #here's the mean\n",
    "    plots.append(meanplot(x, mu, edgecol, axes))\n",
    "\n",
    "    #here's the box\n",
    "    kwargs['linewidth']=0.5\n",
    "    if not 'alpha' in kwargs.keys():\n",
    "        kwargs['alpha'] = 0.3\n",
    "    plots.append(axes.fill(np.hstack((x,x[::-1])),np.hstack((upper,lower[::-1])),color=fillcol,**kwargs))\n",
    "\n",
    "    #this is the edge:\n",
    "    plots.append(meanplot(x, upper,color=edgecol,linewidth=0.2,ax=axes))\n",
    "    plots.append(meanplot(x, lower,color=edgecol,linewidth=0.2,ax=axes))\n",
    "\n",
    "    return plots"
   ]
  },
  {
   "cell_type": "markdown",
   "metadata": {},
   "source": [
    "First load in the MNIST data set from scikit learn. This can take a little while because it's large to download."
   ]
  },
  {
   "cell_type": "code",
   "execution_count": 3,
   "metadata": {
    "collapsed": true
   },
   "outputs": [],
   "source": [
    "from sklearn.datasets import fetch_mldata\n",
    "mnist = fetch_mldata('MNIST original')"
   ]
  },
  {
   "cell_type": "code",
   "execution_count": 4,
   "metadata": {
    "collapsed": false
   },
   "outputs": [
    {
     "ename": "SyntaxError",
     "evalue": "invalid syntax (<ipython-input-4-639e375d54b8>, line 1)",
     "output_type": "error",
     "traceback": [
      "\u001b[0;36m  File \u001b[0;32m\"<ipython-input-4-639e375d54b8>\"\u001b[0;36m, line \u001b[0;32m1\u001b[0m\n\u001b[0;31m    Sub-sample the dataset to make the training faster.\u001b[0m\n\u001b[0m                 ^\u001b[0m\n\u001b[0;31mSyntaxError\u001b[0m\u001b[0;31m:\u001b[0m invalid syntax\n"
     ]
    }
   ],
   "source": [
    "Sub-sample the dataset to make the training faster."
   ]
  },
  {
   "cell_type": "code",
   "execution_count": 5,
   "metadata": {
    "collapsed": true
   },
   "outputs": [],
   "source": [
    "np.random.seed(0)\n",
    "digits = [0,1,2,3,4]\n",
    "N_per_digit = 100\n",
    "Y = []\n",
    "labels = []\n",
    "for d in digits:\n",
    "    imgs = mnist['data'][mnist['target']==d]\n",
    "    Y.append(imgs[np.random.permutation(imgs.shape[0])][:N_per_digit])\n",
    "    labels.append(np.ones(N_per_digit)*d)\n",
    "Y = np.vstack(Y).astype(np.float64)\n",
    "labels = np.hstack(labels)\n",
    "Y /= 255."
   ]
  },
  {
   "cell_type": "markdown",
   "metadata": {},
   "source": [
    "### Fit a Deep GP\n",
    "\n",
    "We're going to fit a Deep Gaussian process model to the MNIST data with two hidden layers. Each of the two Gaussian processes (one from the first hidden layer to the second, one from the second hidden layer to the data) has an exponentiated quadratic covariance."
   ]
  },
  {
   "cell_type": "code",
   "execution_count": 6,
   "metadata": {
    "collapsed": true
   },
   "outputs": [],
   "source": [
    "m = deepgp.DeepGP([Y.shape[1],5,2],\n",
    "                  Y,\n",
    "                  kernels=[GPy.kern.RBF(5,ARD=True), GPy.kern.RBF(2,ARD=False)], \n",
    "                  num_inducing=50, back_constraint=False, \n",
    "                  encoder_dims=[[200],[200]])"
   ]
  },
  {
   "cell_type": "markdown",
   "metadata": {},
   "source": [
    "Now we initialize the observation variance of the model to be 1% of the data variance, and fix the scale parameter on the covariance functions in the hidden layers."
   ]
  },
  {
   "cell_type": "code",
   "execution_count": 7,
   "metadata": {
    "collapsed": false
   },
   "outputs": [
    {
     "data": {
      "text/html": [
       "<style type=\"text/css\">\n",
       ".pd{\n",
       "    font-family: \"Courier New\", Courier, monospace !important;\n",
       "    width: 100%;\n",
       "    padding: 3px;\n",
       "}\n",
       "</style>\n",
       "\n",
       "<p class=pd>\n",
       "<b>Model</b>: deepgp<br>\n",
       "<b>Objective</b>: 14804088.640644819<br>\n",
       "<b>Number of Parameters</b>: 7460<br>\n",
       "<b>Number of Optimization Parameters</b>: 7456<br>\n",
       "<b>Updates</b>: True<br>\n",
       "</p>\n",
       "<style type=\"text/css\">\n",
       ".tg  {font-family:\"Courier New\", Courier, monospace !important;padding:2px 3px;word-break:normal;border-collapse:collapse;border-spacing:0;border-color:#DCDCDC;margin:0px auto;width:100%;}\n",
       ".tg td{font-family:\"Courier New\", Courier, monospace !important;font-weight:bold;color:#444;background-color:#F7FDFA;border-style:solid;border-width:1px;overflow:hidden;word-break:normal;border-color:#DCDCDC;}\n",
       ".tg th{font-family:\"Courier New\", Courier, monospace !important;font-weight:normal;color:#fff;background-color:#26ADE4;border-style:solid;border-width:1px;overflow:hidden;word-break:normal;border-color:#DCDCDC;}\n",
       ".tg .tg-left{font-family:\"Courier New\", Courier, monospace !important;font-weight:normal;text-align:left;}\n",
       ".tg .tg-center{font-family:\"Courier New\", Courier, monospace !important;font-weight:normal;text-align:center;}\n",
       ".tg .tg-right{font-family:\"Courier New\", Courier, monospace !important;font-weight:normal;text-align:right;}\n",
       "</style>\n",
       "<table class=\"tg\"><tr><th><b>  deepgp.                         </b></th><th><b>            value</b></th><th><b>constraints</b></th><th><b>priors</b></th></tr>\n",
       "<tr><td class=tg-left>  obslayer.inducing inputs        </td><td class=tg-right>          (50, 5)</td><td class=tg-center>           </td><td class=tg-center>      </td></tr>\n",
       "<tr><td class=tg-left>  obslayer.rbf.variance           </td><td class=tg-right>  0.0961532997497</td><td class=tg-center> +ve fixed </td><td class=tg-center>      </td></tr>\n",
       "<tr><td class=tg-left>  obslayer.rbf.lengthscale        </td><td class=tg-right>             (5,)</td><td class=tg-center>    +ve    </td><td class=tg-center>      </td></tr>\n",
       "<tr><td class=tg-left>  obslayer.Gaussian_noise.variance</td><td class=tg-right>0.000961532997497</td><td class=tg-center> +ve fixed </td><td class=tg-center>      </td></tr>\n",
       "<tr><td class=tg-left>  obslayer.Kuu_var                </td><td class=tg-right>            (50,)</td><td class=tg-center>    +ve    </td><td class=tg-center>      </td></tr>\n",
       "<tr><td class=tg-left>  obslayer.latent space.mean      </td><td class=tg-right>         (500, 5)</td><td class=tg-center>           </td><td class=tg-center>      </td></tr>\n",
       "<tr><td class=tg-left>  obslayer.latent space.variance  </td><td class=tg-right>         (500, 5)</td><td class=tg-center>    +ve    </td><td class=tg-center>      </td></tr>\n",
       "<tr><td class=tg-left>  layer_1.inducing inputs         </td><td class=tg-right>          (50, 2)</td><td class=tg-center>           </td><td class=tg-center>      </td></tr>\n",
       "<tr><td class=tg-left>  layer_1.rbf.variance            </td><td class=tg-right>              1.0</td><td class=tg-center> +ve fixed </td><td class=tg-center>      </td></tr>\n",
       "<tr><td class=tg-left>  layer_1.rbf.lengthscale         </td><td class=tg-right>              1.0</td><td class=tg-center>    +ve    </td><td class=tg-center>      </td></tr>\n",
       "<tr><td class=tg-left>  layer_1.Gaussian_noise.variance </td><td class=tg-right>             0.01</td><td class=tg-center> +ve fixed </td><td class=tg-center>      </td></tr>\n",
       "<tr><td class=tg-left>  layer_1.Kuu_var                 </td><td class=tg-right>            (50,)</td><td class=tg-center>    +ve    </td><td class=tg-center>      </td></tr>\n",
       "<tr><td class=tg-left>  layer_1.latent space.mean       </td><td class=tg-right>         (500, 2)</td><td class=tg-center>           </td><td class=tg-center>      </td></tr>\n",
       "<tr><td class=tg-left>  layer_1.latent space.variance   </td><td class=tg-right>         (500, 2)</td><td class=tg-center>    +ve    </td><td class=tg-center>      </td></tr>\n",
       "</table>"
      ],
      "text/plain": [
       "<deepgp.models.model.DeepGP at 0x1088d6438>"
      ]
     },
     "metadata": {},
     "output_type": "display_data"
    }
   ],
   "source": [
    "m.obslayer.likelihood.variance[:] = Y.var()*0.01\n",
    "m.obslayer.rbf.variance = Y.var()\n",
    "for layer in m.layers:\n",
    "    layer.kern.variance.fix(warning=False)\n",
    "    layer.likelihood.variance.fix(warning=False)\n",
    "display(m)"
   ]
  },
  {
   "cell_type": "markdown",
   "metadata": {},
   "source": [
    "Now we optimize for a hundred iterations the constrained model. "
   ]
  },
  {
   "cell_type": "code",
   "execution_count": 8,
   "metadata": {
    "collapsed": true
   },
   "outputs": [],
   "source": [
    "m.optimize(messages=1,max_iters=100)"
   ]
  },
  {
   "cell_type": "markdown",
   "metadata": {},
   "source": [
    "before firstly unconstraining the variance of the kernels, and then secondly unconstraining the variance of the outputs. Keeping the output variance fixed at the start ensures that trivial solution local optima, that ignore the data and minimize the KL divergence between the prior density and the posterior approximation, are less likely to be found."
   ]
  },
  {
   "cell_type": "code",
   "execution_count": 9,
   "metadata": {
    "collapsed": true
   },
   "outputs": [],
   "source": [
    "for layer in m.layers:\n",
    "    layer.kern.variance.constrain_positive(warning=False)\n",
    "m.optimize(messages=1,max_iters=100)"
   ]
  },
  {
   "cell_type": "code",
   "execution_count": 10,
   "metadata": {
    "collapsed": false,
    "scrolled": true
   },
   "outputs": [],
   "source": [
    "for layer in m.layers:\n",
    "    layer.likelihood.variance.constrain_positive(warning=False)\n",
    "m.optimize(messages=1,max_iters=1000)"
   ]
  },
  {
   "cell_type": "code",
   "execution_count": 11,
   "metadata": {
    "collapsed": false
   },
   "outputs": [
    {
     "data": {
      "text/html": [
       "<style type=\"text/css\">\n",
       ".pd{\n",
       "    font-family: \"Courier New\", Courier, monospace !important;\n",
       "    width: 100%;\n",
       "    padding: 3px;\n",
       "}\n",
       "</style>\n",
       "\n",
       "<p class=pd>\n",
       "<b>Model</b>: deepgp<br>\n",
       "<b>Objective</b>: -104791.877896149<br>\n",
       "<b>Number of Parameters</b>: 7460<br>\n",
       "<b>Number of Optimization Parameters</b>: 7460<br>\n",
       "<b>Updates</b>: True<br>\n",
       "</p>\n",
       "<style type=\"text/css\">\n",
       ".tg  {font-family:\"Courier New\", Courier, monospace !important;padding:2px 3px;word-break:normal;border-collapse:collapse;border-spacing:0;border-color:#DCDCDC;margin:0px auto;width:100%;}\n",
       ".tg td{font-family:\"Courier New\", Courier, monospace !important;font-weight:bold;color:#444;background-color:#F7FDFA;border-style:solid;border-width:1px;overflow:hidden;word-break:normal;border-color:#DCDCDC;}\n",
       ".tg th{font-family:\"Courier New\", Courier, monospace !important;font-weight:normal;color:#fff;background-color:#26ADE4;border-style:solid;border-width:1px;overflow:hidden;word-break:normal;border-color:#DCDCDC;}\n",
       ".tg .tg-left{font-family:\"Courier New\", Courier, monospace !important;font-weight:normal;text-align:left;}\n",
       ".tg .tg-center{font-family:\"Courier New\", Courier, monospace !important;font-weight:normal;text-align:center;}\n",
       ".tg .tg-right{font-family:\"Courier New\", Courier, monospace !important;font-weight:normal;text-align:right;}\n",
       "</style>\n",
       "<table class=\"tg\"><tr><th><b>  deepgp.                         </b></th><th><b>          value</b></th><th><b>constraints</b></th><th><b>priors</b></th></tr>\n",
       "<tr><td class=tg-left>  obslayer.inducing inputs        </td><td class=tg-right>        (50, 5)</td><td class=tg-center>           </td><td class=tg-center>      </td></tr>\n",
       "<tr><td class=tg-left>  obslayer.rbf.variance           </td><td class=tg-right> 0.161992021263</td><td class=tg-center>    +ve    </td><td class=tg-center>      </td></tr>\n",
       "<tr><td class=tg-left>  obslayer.rbf.lengthscale        </td><td class=tg-right>           (5,)</td><td class=tg-center>    +ve    </td><td class=tg-center>      </td></tr>\n",
       "<tr><td class=tg-left>  obslayer.Gaussian_noise.variance</td><td class=tg-right>0.0257550669245</td><td class=tg-center>    +ve    </td><td class=tg-center>      </td></tr>\n",
       "<tr><td class=tg-left>  obslayer.Kuu_var                </td><td class=tg-right>          (50,)</td><td class=tg-center>    +ve    </td><td class=tg-center>      </td></tr>\n",
       "<tr><td class=tg-left>  obslayer.latent space.mean      </td><td class=tg-right>       (500, 5)</td><td class=tg-center>           </td><td class=tg-center>      </td></tr>\n",
       "<tr><td class=tg-left>  obslayer.latent space.variance  </td><td class=tg-right>       (500, 5)</td><td class=tg-center>    +ve    </td><td class=tg-center>      </td></tr>\n",
       "<tr><td class=tg-left>  layer_1.inducing inputs         </td><td class=tg-right>        (50, 2)</td><td class=tg-center>           </td><td class=tg-center>      </td></tr>\n",
       "<tr><td class=tg-left>  layer_1.rbf.variance            </td><td class=tg-right>  5.46325915909</td><td class=tg-center>    +ve    </td><td class=tg-center>      </td></tr>\n",
       "<tr><td class=tg-left>  layer_1.rbf.lengthscale         </td><td class=tg-right> 0.643992439377</td><td class=tg-center>    +ve    </td><td class=tg-center>      </td></tr>\n",
       "<tr><td class=tg-left>  layer_1.Gaussian_noise.variance </td><td class=tg-right> 0.597905744759</td><td class=tg-center>    +ve    </td><td class=tg-center>      </td></tr>\n",
       "<tr><td class=tg-left>  layer_1.Kuu_var                 </td><td class=tg-right>          (50,)</td><td class=tg-center>    +ve    </td><td class=tg-center>      </td></tr>\n",
       "<tr><td class=tg-left>  layer_1.latent space.mean       </td><td class=tg-right>       (500, 2)</td><td class=tg-center>           </td><td class=tg-center>      </td></tr>\n",
       "<tr><td class=tg-left>  layer_1.latent space.variance   </td><td class=tg-right>       (500, 2)</td><td class=tg-center>    +ve    </td><td class=tg-center>      </td></tr>\n",
       "</table>"
      ],
      "text/plain": [
       "<deepgp.models.model.DeepGP at 0x1088d6438>"
      ]
     },
     "metadata": {},
     "output_type": "display_data"
    }
   ],
   "source": [
    "display(m)"
   ]
  },
  {
   "cell_type": "markdown",
   "metadata": {},
   "source": [
    "### Visualize the latent space of the top layer"
   ]
  },
  {
   "cell_type": "code",
   "execution_count": 12,
   "metadata": {
    "collapsed": false
   },
   "outputs": [
    {
     "data": {
      "text/plain": [
       "<matplotlib.legend.Legend at 0x10f471c50>"
      ]
     },
     "execution_count": 12,
     "metadata": {},
     "output_type": "execute_result"
    },
    {
     "data": {
      "image/png": "[encoded data removed]",
      "text/plain": [
       "<matplotlib.figure.Figure at 0x10f4713c8>"
      ]
     },
     "metadata": {},
     "output_type": "display_data"
    }
   ],
   "source": [
    "for d in digits:\n",
    "    plot(m.layer_1.X.mean[labels==d,0],m.layer_1.X.mean[labels==d,1],'.',label=str(d))\n",
    "legend()"
   ]
  },
  {
   "cell_type": "markdown",
   "metadata": {},
   "source": [
    "### Visualize the latent space of the intermediate layer"
   ]
  },
  {
   "cell_type": "code",
   "execution_count": 13,
   "metadata": {
    "collapsed": false
   },
   "outputs": [
    {
     "data": {
      "text/html": [
       "<style type=\"text/css\">\n",
       ".tg  {padding:2px 3px;word-break:normal;border-collapse:collapse;border-spacing:0;border-color:#DCDCDC;margin:0px auto;width:100%;}\n",
       ".tg td{font-family:\"Courier New\", Courier, monospace !important;font-weight:bold;color:#444;background-color:#F7FDFA;border-style:solid;border-width:1px;overflow:hidden;word-break:normal;border-color:#DCDCDC;}\n",
       ".tg th{font-family:\"Courier New\", Courier, monospace !important;font-weight:normal;color:#fff;background-color:#26ADE4;border-style:solid;border-width:1px;overflow:hidden;word-break:normal;border-color:#DCDCDC;}\n",
       ".tg .tg-left{font-family:\"Courier New\", Courier, monospace !important;font-weight:normal;text-align:left;}\n",
       ".tg .tg-right{font-family:\"Courier New\", Courier, monospace !important;font-weight:normal;text-align:right;}\n",
       "</style>\n",
       "<table class=\"tg\">\n",
       "\n",
       "<tr>\n",
       "  <th><b>index</b></th>\n",
       "  <th><b>deepgp.obslayer.rbf.lengthscale</b></th>\n",
       "  <th><b>constraints</b></th><th><b>priors</b></th>\n",
       "</tr>\n",
       "<tr><td class=tg-left>  [0]  </td><td class=tg-right>                     3.65346605</td><td class=tg-left>    +ve    </td><td class=tg-left>      </td></tr>\n",
       "<tr><td class=tg-left>  [1]  </td><td class=tg-right>                     5.98389677</td><td class=tg-left>    +ve    </td><td class=tg-left>      </td></tr>\n",
       "<tr><td class=tg-left>  [2]  </td><td class=tg-right>                     8.20124440</td><td class=tg-left>    +ve    </td><td class=tg-left>      </td></tr>\n",
       "<tr><td class=tg-left>  [3]  </td><td class=tg-right>                     6.41047572</td><td class=tg-left>    +ve    </td><td class=tg-left>      </td></tr>\n",
       "<tr><td class=tg-left>  [4]  </td><td class=tg-right>                     5.69857544</td><td class=tg-left>    +ve    </td><td class=tg-left>      </td></tr>"
      ],
      "text/plain": [
       "\u001b[1mdeepgp.obslayer.rbf.lengthscale\u001b[0;0m:\n",
       "Param([ 3.65346605,  5.98389677,  8.2012444 ,  6.41047572,  5.69857544])"
      ]
     },
     "execution_count": 13,
     "metadata": {},
     "output_type": "execute_result"
    }
   ],
   "source": [
    "m.obslayer.kern.lengthscale"
   ]
  },
  {
   "cell_type": "code",
   "execution_count": 14,
   "metadata": {
    "collapsed": false
   },
   "outputs": [
    {
     "data": {
      "text/plain": [
       "<matplotlib.text.Text at 0x1043c9908>"
      ]
     },
     "execution_count": 14,
     "metadata": {},
     "output_type": "execute_result"
    },
    {
     "data": {
      "image/png": "[encoded data removed]",
      "text/plain": [
       "<matplotlib.figure.Figure at 0x10440f630>"
      ]
     },
     "metadata": {},
     "output_type": "display_data"
    }
   ],
   "source": [
    "dims=[0, 3]\n",
    "for d in digits:\n",
    "    plot(m.obslayer.X.mean[labels==d,dims[0]],\n",
    "         m.obslayer.X.mean[labels==d,dims[1]],\n",
    "         '.', label=str(d))\n",
    "legend()\n",
    "xlabel('dimension ' + str(dims[0]))\n",
    "ylabel('dimension ' + str(dims[1]))"
   ]
  },
  {
   "cell_type": "markdown",
   "metadata": {},
   "source": [
    "### Generate Test Examples\n",
    "\n",
    "Now we can take a look at a sample from the model, by drawing a Gaussian random sample in the latent space and propagating it through the model. "
   ]
  },
  {
   "cell_type": "code",
   "execution_count": 28,
   "metadata": {
    "collapsed": false
   },
   "outputs": [
    {
     "data": {
      "text/plain": [
       "array([[<matplotlib.axes._subplots.AxesSubplot object at 0x1149bd4a8>,\n",
       "        <matplotlib.axes._subplots.AxesSubplot object at 0x104453ac8>,\n",
       "        <matplotlib.axes._subplots.AxesSubplot object at 0x10e4c26d8>],\n",
       "       [<matplotlib.axes._subplots.AxesSubplot object at 0x10e471dd8>,\n",
       "        <matplotlib.axes._subplots.AxesSubplot object at 0x10f08b7f0>,\n",
       "        <matplotlib.axes._subplots.AxesSubplot object at 0x10f587940>],\n",
       "       [<matplotlib.axes._subplots.AxesSubplot object at 0x10f5d7550>,\n",
       "        <matplotlib.axes._subplots.AxesSubplot object at 0x10f612588>,\n",
       "        <matplotlib.axes._subplots.AxesSubplot object at 0x10ffd56a0>],\n",
       "       [<matplotlib.axes._subplots.AxesSubplot object at 0x1100163c8>,\n",
       "        <matplotlib.axes._subplots.AxesSubplot object at 0x1100605f8>,\n",
       "        <matplotlib.axes._subplots.AxesSubplot object at 0x1100a9ac8>],\n",
       "       [<matplotlib.axes._subplots.AxesSubplot object at 0x1100ea128>,\n",
       "        <matplotlib.axes._subplots.AxesSubplot object at 0x110336be0>,\n",
       "        <matplotlib.axes._subplots.AxesSubplot object at 0x110377278>]], dtype=object)"
      ]
     },
     "execution_count": 28,
     "metadata": {},
     "output_type": "execute_result"
    }
   ],
   "source": [
    "axs"
   ]
  },
  {
   "cell_type": "code",
   "execution_count": 33,
   "metadata": {
    "collapsed": false
   },
   "outputs": [
    {
     "ename": "AttributeError",
     "evalue": "'tuple' object has no attribute 'shape'",
     "output_type": "error",
     "traceback": [
      "\u001b[0;31m---------------------------------------------------------------------------\u001b[0m",
      "\u001b[0;31mAttributeError\u001b[0m                            Traceback (most recent call last)",
      "\u001b[0;32m<ipython-input-33-52d526d80638>\u001b[0m in \u001b[0;36m<module>\u001b[0;34m()\u001b[0m\n\u001b[0;32m----> 1\u001b[0;31m \u001b[0myt\u001b[0m\u001b[0;34m.\u001b[0m\u001b[0mshape\u001b[0m\u001b[0;34m\u001b[0m\u001b[0m\n\u001b[0m",
      "\u001b[0;31mAttributeError\u001b[0m: 'tuple' object has no attribute 'shape'"
     ]
    }
   ],
   "source": [
    "yt.shape"
   ]
  },
  {
   "cell_type": "code",
   "execution_count": null,
   "metadata": {
    "collapsed": false
   },
   "outputs": [],
   "source": [
    "rows = 10\n",
    "cols = 20\n",
    "yt = m.predict(np.random.randn(rows*cols,2))\n",
    "fig, axs = plt.subplots(rows,cols,figsize=(10,6))\n",
    "for i in range(rows):\n",
    "    for j in range(cols):\n",
    "        axs[i,j].imshow(yt[0][i*cols+j, :].reshape(28,28), \n",
    "                        cmap='gray', interpolation='none',\n",
    "                       aspect='equal')\n",
    "        axs[i,j].set_axis_off()\n",
    "fig.savefig(\"../../slides/diagrams/digit-samples-deep-gp.svg\", transparent=True)"
   ]
  },
  {
   "cell_type": "code",
   "execution_count": 35,
   "metadata": {
    "collapsed": false
   },
   "outputs": [
    {
     "data": {
      "text/plain": [
       "array([[ 0.,  0.,  0., ...,  0.,  0.,  0.],\n",
       "       [ 0.,  0.,  0., ...,  0.,  0.,  0.],\n",
       "       [ 0.,  0.,  0., ...,  0.,  0.,  0.],\n",
       "       ..., \n",
       "       [ 0.,  0.,  0., ...,  0.,  0.,  0.],\n",
       "       [ 0.,  0.,  0., ...,  0.,  0.,  0.],\n",
       "       [ 0.,  0.,  0., ...,  0.,  0.,  0.]])"
      ]
     },
     "execution_count": 35,
     "metadata": {},
     "output_type": "execute_result"
    }
   ],
   "source": [
    "yt[0]"
   ]
  },
  {
   "cell_type": "code",
   "execution_count": null,
   "metadata": {
    "collapsed": true
   },
   "outputs": [],
   "source": []
  }
 ],
 "metadata": {
  "kernelspec": {
   "display_name": "Python [default]",
   "language": "python",
   "name": "python3"
  },
  "language_info": {
   "codemirror_mode": {
    "name": "ipython",
    "version": 3
   },
   "file_extension": ".py",
   "mimetype": "text/x-python",
   "name": "python",
   "nbconvert_exporter": "python",
   "pygments_lexer": "ipython3",
   "version": "3.4.5"
  },
  "widgets": {
   "state": {
    "0058c10b78ba4662a451b32f7bdb2351": {
     "views": [
      {
       "cell_index": 15
      }
     ]
    },
    "15e71222a3cd4456a54cdeb3e739b4c7": {
     "views": [
      {
       "cell_index": 16
      }
     ]
    },
    "ded616f7c50145b382bb396c3fc55c4b": {
     "views": [
      {
       "cell_index": 13
      }
     ]
    }
   },
   "version": "1.2.0"
  }
 },
 "nbformat": 4,
 "nbformat_minor": 2
}
