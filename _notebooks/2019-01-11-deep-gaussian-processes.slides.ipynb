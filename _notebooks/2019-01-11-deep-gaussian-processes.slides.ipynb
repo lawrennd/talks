{
 "cells": [
  {
   "cell_type": "markdown",
   "metadata": {},
   "source": [
    "# Deep Gaussian Processes\n",
    "### [Neil D. Lawrence](http://inverseprobability.com), Amazon Cambridge and University of Sheffield\n",
    "### 2019-01-11\n",
    "\n",
    "**Abstract**: Classical machine learning and statistical approaches to learning, such\n",
    "as neural networks and linear regression, assume a parametric form for\n",
    "functions. Gaussian process models are an alternative approach that\n",
    "assumes a probabilistic prior over functions. This brings benefits, in\n",
    "that uncertainty of function estimation is sustained throughout\n",
    "inference, and some challenges: algorithms for fitting Gaussian\n",
    "processes tend to be more complex than parametric models. In these\n",
    "sessions I will introduce Gaussian processes and explain why sustaining\n",
    "uncertainty is important. We’ll then look at some extensions of Gaussian\n",
    "process models, in particular composition of Gaussian processes, or deep\n",
    "Gaussian processes.\n",
    "\n",
    "$$\n",
    "\\newcommand{\\Amatrix}{\\mathbf{A}}\n",
    "\\newcommand{\\KL}[2]{\\text{KL}\\left( #1\\,\\|\\,#2 \\right)}\n",
    "\\newcommand{\\Kaast}{\\kernelMatrix_{\\mathbf{ \\ast}\\mathbf{ \\ast}}}\n",
    "\\newcommand{\\Kastu}{\\kernelMatrix_{\\mathbf{ \\ast} \\inducingVector}}\n",
    "\\newcommand{\\Kff}{\\kernelMatrix_{\\mappingFunctionVector \\mappingFunctionVector}}\n",
    "\\newcommand{\\Kfu}{\\kernelMatrix_{\\mappingFunctionVector \\inducingVector}}\n",
    "\\newcommand{\\Kuast}{\\kernelMatrix_{\\inducingVector \\bf\\ast}}\n",
    "\\newcommand{\\Kuf}{\\kernelMatrix_{\\inducingVector \\mappingFunctionVector}}\n",
    "\\newcommand{\\Kuu}{\\kernelMatrix_{\\inducingVector \\inducingVector}}\n",
    "\\newcommand{\\Kuui}{\\Kuu^{-1}}\n",
    "\\newcommand{\\Qaast}{\\mathbf{Q}_{\\bf \\ast \\ast}}\n",
    "\\newcommand{\\Qastf}{\\mathbf{Q}_{\\ast \\mappingFunction}}\n",
    "\\newcommand{\\Qfast}{\\mathbf{Q}_{\\mappingFunctionVector \\bf \\ast}}\n",
    "\\newcommand{\\Qff}{\\mathbf{Q}_{\\mappingFunctionVector \\mappingFunctionVector}}\n",
    "\\newcommand{\\aMatrix}{\\mathbf{A}}\n",
    "\\newcommand{\\aScalar}{a}\n",
    "\\newcommand{\\aVector}{\\mathbf{a}}\n",
    "\\newcommand{\\acceleration}{a}\n",
    "\\newcommand{\\bMatrix}{\\mathbf{B}}\n",
    "\\newcommand{\\bScalar}{b}\n",
    "\\newcommand{\\bVector}{\\mathbf{b}}\n",
    "\\newcommand{\\basisFunc}{\\phi}\n",
    "\\newcommand{\\basisFuncVector}{\\boldsymbol{ \\basisFunc}}\n",
    "\\newcommand{\\basisFunction}{\\phi}\n",
    "\\newcommand{\\basisLocation}{\\mu}\n",
    "\\newcommand{\\basisMatrix}{\\boldsymbol{ \\Phi}}\n",
    "\\newcommand{\\basisScalar}{\\basisFunction}\n",
    "\\newcommand{\\basisVector}{\\boldsymbol{ \\basisFunction}}\n",
    "\\newcommand{\\activationFunction}{\\phi}\n",
    "\\newcommand{\\activationMatrix}{\\boldsymbol{ \\Phi}}\n",
    "\\newcommand{\\activationScalar}{\\basisFunction}\n",
    "\\newcommand{\\activationVector}{\\boldsymbol{ \\basisFunction}}\n",
    "\\newcommand{\\bigO}{\\mathcal{O}}\n",
    "\\newcommand{\\binomProb}{\\pi}\n",
    "\\newcommand{\\cMatrix}{\\mathbf{C}}\n",
    "\\newcommand{\\cbasisMatrix}{\\hat{\\boldsymbol{ \\Phi}}}\n",
    "\\newcommand{\\cdataMatrix}{\\hat{\\dataMatrix}}\n",
    "\\newcommand{\\cdataScalar}{\\hat{\\dataScalar}}\n",
    "\\newcommand{\\cdataVector}{\\hat{\\dataVector}}\n",
    "\\newcommand{\\centeredKernelMatrix}{\\mathbf{ \\MakeUppercase{\\centeredKernelScalar}}}\n",
    "\\newcommand{\\centeredKernelScalar}{b}\n",
    "\\newcommand{\\centeredKernelVector}{\\centeredKernelScalar}\n",
    "\\newcommand{\\centeringMatrix}{\\mathbf{H}}\n",
    "\\newcommand{\\chiSquaredDist}[2]{\\chi_{#1}^{2}\\left(#2\\right)}\n",
    "\\newcommand{\\chiSquaredSamp}[1]{\\chi_{#1}^{2}}\n",
    "\\newcommand{\\conditionalCovariance}{\\boldsymbol{ \\Sigma}}\n",
    "\\newcommand{\\coregionalizationMatrix}{\\mathbf{B}}\n",
    "\\newcommand{\\coregionalizationScalar}{b}\n",
    "\\newcommand{\\coregionalizationVector}{\\mathbf{ \\coregionalizationScalar}}\n",
    "\\newcommand{\\covDist}[2]{\\text{cov}_{#2}\\left(#1\\right)}\n",
    "\\newcommand{\\covSamp}[1]{\\text{cov}\\left(#1\\right)}\n",
    "\\newcommand{\\covarianceScalar}{c}\n",
    "\\newcommand{\\covarianceVector}{\\mathbf{ \\covarianceScalar}}\n",
    "\\newcommand{\\covarianceMatrix}{\\mathbf{C}}\n",
    "\\newcommand{\\covarianceMatrixTwo}{\\boldsymbol{ \\Sigma}}\n",
    "\\newcommand{\\croupierScalar}{s}\n",
    "\\newcommand{\\croupierVector}{\\mathbf{ \\croupierScalar}}\n",
    "\\newcommand{\\croupierMatrix}{\\mathbf{ \\MakeUppercase{\\croupierScalar}}}\n",
    "\\newcommand{\\dataDim}{p}\n",
    "\\newcommand{\\dataIndex}{i}\n",
    "\\newcommand{\\dataIndexTwo}{j}\n",
    "\\newcommand{\\dataMatrix}{\\mathbf{Y}}\n",
    "\\newcommand{\\dataScalar}{y}\n",
    "\\newcommand{\\dataSet}{\\mathcal{D}}\n",
    "\\newcommand{\\dataStd}{\\sigma}\n",
    "\\newcommand{\\dataVector}{\\mathbf{ \\dataScalar}}\n",
    "\\newcommand{\\decayRate}{d}\n",
    "\\newcommand{\\degreeMatrix}{\\mathbf{ \\MakeUppercase{\\degreeScalar}}}\n",
    "\\newcommand{\\degreeScalar}{d}\n",
    "\\newcommand{\\degreeVector}{\\mathbf{ \\degreeScalar}}\n",
    "% Already defined by latex\n",
    "%\\newcommand{\\det}[1]{\\left|#1\\right|}\n",
    "\\newcommand{\\diag}[1]{\\text{diag}\\left(#1\\right)}\n",
    "\\newcommand{\\diagonalMatrix}{\\mathbf{D}}\n",
    "\\newcommand{\\diff}[2]{\\frac{\\text{d}#1}{\\text{d}#2}}\n",
    "\\newcommand{\\diffTwo}[2]{\\frac{\\text{d}^2#1}{\\text{d}#2^2}}\n",
    "\\newcommand{\\displacement}{x}\n",
    "\\newcommand{\\displacementVector}{\\textbf{\\displacement}}\n",
    "\\newcommand{\\distanceMatrix}{\\mathbf{ \\MakeUppercase{\\distanceScalar}}}\n",
    "\\newcommand{\\distanceScalar}{d}\n",
    "\\newcommand{\\distanceVector}{\\mathbf{ \\distanceScalar}}\n",
    "\\newcommand{\\eigenvaltwo}{\\ell}\n",
    "\\newcommand{\\eigenvaltwoMatrix}{\\mathbf{L}}\n",
    "\\newcommand{\\eigenvaltwoVector}{\\mathbf{l}}\n",
    "\\newcommand{\\eigenvalue}{\\lambda}\n",
    "\\newcommand{\\eigenvalueMatrix}{\\boldsymbol{ \\Lambda}}\n",
    "\\newcommand{\\eigenvalueVector}{\\boldsymbol{ \\lambda}}\n",
    "\\newcommand{\\eigenvector}{\\mathbf{ \\eigenvectorScalar}}\n",
    "\\newcommand{\\eigenvectorMatrix}{\\mathbf{U}}\n",
    "\\newcommand{\\eigenvectorScalar}{u}\n",
    "\\newcommand{\\eigenvectwo}{\\mathbf{v}}\n",
    "\\newcommand{\\eigenvectwoMatrix}{\\mathbf{V}}\n",
    "\\newcommand{\\eigenvectwoScalar}{v}\n",
    "\\newcommand{\\entropy}[1]{\\mathcal{H}\\left(#1\\right)}\n",
    "\\newcommand{\\errorFunction}{E}\n",
    "\\newcommand{\\expDist}[2]{\\left<#1\\right>_{#2}}\n",
    "\\newcommand{\\expSamp}[1]{\\left<#1\\right>}\n",
    "\\newcommand{\\expectation}[1]{\\left\\langle #1 \\right\\rangle }\n",
    "\\newcommand{\\expectationDist}[2]{\\left\\langle #1 \\right\\rangle _{#2}}\n",
    "\\newcommand{\\expectedDistanceMatrix}{\\mathcal{D}}\n",
    "\\newcommand{\\eye}{\\mathbf{I}}\n",
    "\\newcommand{\\fantasyDim}{r}\n",
    "\\newcommand{\\fantasyMatrix}{\\mathbf{ \\MakeUppercase{\\fantasyScalar}}}\n",
    "\\newcommand{\\fantasyScalar}{z}\n",
    "\\newcommand{\\fantasyVector}{\\mathbf{ \\fantasyScalar}}\n",
    "\\newcommand{\\featureStd}{\\varsigma}\n",
    "\\newcommand{\\gammaCdf}[3]{\\mathcal{GAMMA CDF}\\left(#1|#2,#3\\right)}\n",
    "\\newcommand{\\gammaDist}[3]{\\mathcal{G}\\left(#1|#2,#3\\right)}\n",
    "\\newcommand{\\gammaSamp}[2]{\\mathcal{G}\\left(#1,#2\\right)}\n",
    "\\newcommand{\\gaussianDist}[3]{\\mathcal{N}\\left(#1|#2,#3\\right)}\n",
    "\\newcommand{\\gaussianSamp}[2]{\\mathcal{N}\\left(#1,#2\\right)}\n",
    "\\newcommand{\\given}{|}\n",
    "\\newcommand{\\half}{\\frac{1}{2}}\n",
    "\\newcommand{\\heaviside}{H}\n",
    "\\newcommand{\\hiddenMatrix}{\\mathbf{ \\MakeUppercase{\\hiddenScalar}}}\n",
    "\\newcommand{\\hiddenScalar}{h}\n",
    "\\newcommand{\\hiddenVector}{\\mathbf{ \\hiddenScalar}}\n",
    "\\newcommand{\\identityMatrix}{\\eye}\n",
    "\\newcommand{\\inducingInputScalar}{z}\n",
    "\\newcommand{\\inducingInputVector}{\\mathbf{ \\inducingInputScalar}}\n",
    "\\newcommand{\\inducingInputMatrix}{\\mathbf{Z}}\n",
    "\\newcommand{\\inducingScalar}{u}\n",
    "\\newcommand{\\inducingVector}{\\mathbf{ \\inducingScalar}}\n",
    "\\newcommand{\\inducingMatrix}{\\mathbf{U}}\n",
    "\\newcommand{\\inlineDiff}[2]{\\text{d}#1/\\text{d}#2}\n",
    "\\newcommand{\\inputDim}{q}\n",
    "\\newcommand{\\inputMatrix}{\\mathbf{X}}\n",
    "\\newcommand{\\inputScalar}{x}\n",
    "\\newcommand{\\inputSpace}{\\mathcal{X}}\n",
    "\\newcommand{\\inputVals}{\\inputVector}\n",
    "\\newcommand{\\inputVector}{\\mathbf{ \\inputScalar}}\n",
    "\\newcommand{\\iterNum}{k}\n",
    "\\newcommand{\\kernel}{\\kernelScalar}\n",
    "\\newcommand{\\kernelMatrix}{\\mathbf{K}}\n",
    "\\newcommand{\\kernelScalar}{k}\n",
    "\\newcommand{\\kernelVector}{\\mathbf{ \\kernelScalar}}\n",
    "\\newcommand{\\kff}{\\kernelScalar_{\\mappingFunction \\mappingFunction}}\n",
    "\\newcommand{\\kfu}{\\kernelVector_{\\mappingFunction \\inducingScalar}}\n",
    "\\newcommand{\\kuf}{\\kernelVector_{\\inducingScalar \\mappingFunction}}\n",
    "\\newcommand{\\kuu}{\\kernelVector_{\\inducingScalar \\inducingScalar}}\n",
    "\\newcommand{\\lagrangeMultiplier}{\\lambda}\n",
    "\\newcommand{\\lagrangeMultiplierMatrix}{\\boldsymbol{ \\Lambda}}\n",
    "\\newcommand{\\lagrangian}{L}\n",
    "\\newcommand{\\laplacianFactor}{\\mathbf{ \\MakeUppercase{\\laplacianFactorScalar}}}\n",
    "\\newcommand{\\laplacianFactorScalar}{m}\n",
    "\\newcommand{\\laplacianFactorVector}{\\mathbf{ \\laplacianFactorScalar}}\n",
    "\\newcommand{\\laplacianMatrix}{\\mathbf{L}}\n",
    "\\newcommand{\\laplacianScalar}{\\ell}\n",
    "\\newcommand{\\laplacianVector}{\\mathbf{ \\ell}}\n",
    "\\newcommand{\\latentDim}{q}\n",
    "\\newcommand{\\latentDistanceMatrix}{\\boldsymbol{ \\Delta}}\n",
    "\\newcommand{\\latentDistanceScalar}{\\delta}\n",
    "\\newcommand{\\latentDistanceVector}{\\boldsymbol{ \\delta}}\n",
    "\\newcommand{\\latentForce}{f}\n",
    "\\newcommand{\\latentFunction}{u}\n",
    "\\newcommand{\\latentFunctionVector}{\\mathbf{ \\latentFunction}}\n",
    "\\newcommand{\\latentFunctionMatrix}{\\mathbf{ \\MakeUppercase{\\latentFunction}}}\n",
    "\\newcommand{\\latentIndex}{j}\n",
    "\\newcommand{\\latentScalar}{z}\n",
    "\\newcommand{\\latentVector}{\\mathbf{ \\latentScalar}}\n",
    "\\newcommand{\\latentMatrix}{\\mathbf{Z}}\n",
    "\\newcommand{\\learnRate}{\\eta}\n",
    "\\newcommand{\\lengthScale}{\\ell}\n",
    "\\newcommand{\\rbfWidth}{\\ell}\n",
    "\\newcommand{\\likelihoodBound}{\\mathcal{L}}\n",
    "\\newcommand{\\likelihoodFunction}{L}\n",
    "\\newcommand{\\locationScalar}{\\mu}\n",
    "\\newcommand{\\locationVector}{\\boldsymbol{ \\locationScalar}}\n",
    "\\newcommand{\\locationMatrix}{\\mathbf{M}}\n",
    "\\newcommand{\\variance}[1]{\\text{var}\\left( #1 \\right)}\n",
    "\\newcommand{\\mappingFunction}{f}\n",
    "\\newcommand{\\mappingFunctionMatrix}{\\mathbf{F}}\n",
    "\\newcommand{\\mappingFunctionTwo}{g}\n",
    "\\newcommand{\\mappingFunctionTwoMatrix}{\\mathbf{G}}\n",
    "\\newcommand{\\mappingFunctionTwoVector}{\\mathbf{ \\mappingFunctionTwo}}\n",
    "\\newcommand{\\mappingFunctionVector}{\\mathbf{ \\mappingFunction}}\n",
    "\\newcommand{\\scaleScalar}{s}\n",
    "\\newcommand{\\mappingScalar}{w}\n",
    "\\newcommand{\\mappingVector}{\\mathbf{ \\mappingScalar}}\n",
    "\\newcommand{\\mappingMatrix}{\\mathbf{W}}\n",
    "\\newcommand{\\mappingScalarTwo}{v}\n",
    "\\newcommand{\\mappingVectorTwo}{\\mathbf{ \\mappingScalarTwo}}\n",
    "\\newcommand{\\mappingMatrixTwo}{\\mathbf{V}}\n",
    "\\newcommand{\\maxIters}{K}\n",
    "\\newcommand{\\meanMatrix}{\\mathbf{M}}\n",
    "\\newcommand{\\meanScalar}{\\mu}\n",
    "\\newcommand{\\meanTwoMatrix}{\\mathbf{M}}\n",
    "\\newcommand{\\meanTwoScalar}{m}\n",
    "\\newcommand{\\meanTwoVector}{\\mathbf{ \\meanTwoScalar}}\n",
    "\\newcommand{\\meanVector}{\\boldsymbol{ \\meanScalar}}\n",
    "\\newcommand{\\mrnaConcentration}{m}\n",
    "\\newcommand{\\naturalFrequency}{\\omega}\n",
    "\\newcommand{\\neighborhood}[1]{\\mathcal{N}\\left( #1 \\right)}\n",
    "\\newcommand{\\neilurl}{http://inverseprobability.com/}\n",
    "\\newcommand{\\noiseMatrix}{\\boldsymbol{ E}}\n",
    "\\newcommand{\\noiseScalar}{\\epsilon}\n",
    "\\newcommand{\\noiseVector}{\\boldsymbol{ \\epsilon}}\n",
    "\\newcommand{\\norm}[1]{\\left\\Vert #1 \\right\\Vert}\n",
    "\\newcommand{\\normalizedLaplacianMatrix}{\\hat{\\mathbf{L}}}\n",
    "\\newcommand{\\normalizedLaplacianScalar}{\\hat{\\ell}}\n",
    "\\newcommand{\\normalizedLaplacianVector}{\\hat{\\mathbf{ \\ell}}}\n",
    "\\newcommand{\\numActive}{m}\n",
    "\\newcommand{\\numBasisFunc}{m}\n",
    "\\newcommand{\\numComponents}{m}\n",
    "\\newcommand{\\numComps}{K}\n",
    "\\newcommand{\\numData}{n}\n",
    "\\newcommand{\\numFeatures}{K}\n",
    "\\newcommand{\\numHidden}{h}\n",
    "\\newcommand{\\numInducing}{m}\n",
    "\\newcommand{\\numLayers}{\\ell}\n",
    "\\newcommand{\\numNeighbors}{K}\n",
    "\\newcommand{\\numSequences}{s}\n",
    "\\newcommand{\\numSuccess}{s}\n",
    "\\newcommand{\\numTasks}{m}\n",
    "\\newcommand{\\numTime}{T}\n",
    "\\newcommand{\\numTrials}{S}\n",
    "\\newcommand{\\outputIndex}{j}\n",
    "\\newcommand{\\paramVector}{\\boldsymbol{ \\theta}}\n",
    "\\newcommand{\\parameterMatrix}{\\boldsymbol{ \\Theta}}\n",
    "\\newcommand{\\parameterScalar}{\\theta}\n",
    "\\newcommand{\\parameterVector}{\\boldsymbol{ \\parameterScalar}}\n",
    "\\newcommand{\\partDiff}[2]{\\frac{\\partial#1}{\\partial#2}}\n",
    "\\newcommand{\\precisionScalar}{j}\n",
    "\\newcommand{\\precisionVector}{\\mathbf{ \\precisionScalar}}\n",
    "\\newcommand{\\precisionMatrix}{\\mathbf{J}}\n",
    "\\newcommand{\\pseudotargetScalar}{\\widetilde{y}}\n",
    "\\newcommand{\\pseudotargetVector}{\\mathbf{ \\pseudotargetScalar}}\n",
    "\\newcommand{\\pseudotargetMatrix}{\\mathbf{ \\widetilde{Y}}}\n",
    "\\newcommand{\\rank}[1]{\\text{rank}\\left(#1\\right)}\n",
    "\\newcommand{\\rayleighDist}[2]{\\mathcal{R}\\left(#1|#2\\right)}\n",
    "\\newcommand{\\rayleighSamp}[1]{\\mathcal{R}\\left(#1\\right)}\n",
    "\\newcommand{\\responsibility}{r}\n",
    "\\newcommand{\\rotationScalar}{r}\n",
    "\\newcommand{\\rotationVector}{\\mathbf{ \\rotationScalar}}\n",
    "\\newcommand{\\rotationMatrix}{\\mathbf{R}}\n",
    "\\newcommand{\\sampleCovScalar}{s}\n",
    "\\newcommand{\\sampleCovVector}{\\mathbf{ \\sampleCovScalar}}\n",
    "\\newcommand{\\sampleCovMatrix}{\\mathbf{s}}\n",
    "\\newcommand{\\scalarProduct}[2]{\\left\\langle{#1},{#2}\\right\\rangle}\n",
    "\\newcommand{\\sign}[1]{\\text{sign}\\left(#1\\right)}\n",
    "\\newcommand{\\sigmoid}[1]{\\sigma\\left(#1\\right)}\n",
    "\\newcommand{\\singularvalue}{\\ell}\n",
    "\\newcommand{\\singularvalueMatrix}{\\mathbf{L}}\n",
    "\\newcommand{\\singularvalueVector}{\\mathbf{l}}\n",
    "\\newcommand{\\sorth}{\\mathbf{u}}\n",
    "\\newcommand{\\spar}{\\lambda}\n",
    "\\newcommand{\\trace}[1]{\\text{tr}\\left(#1\\right)}\n",
    "\\newcommand{\\BasalRate}{B}\n",
    "\\newcommand{\\DampingCoefficient}{C}\n",
    "\\newcommand{\\DecayRate}{D}\n",
    "\\newcommand{\\Displacement}{X}\n",
    "\\newcommand{\\LatentForce}{F}\n",
    "\\newcommand{\\Mass}{M}\n",
    "\\newcommand{\\Sensitivity}{S}\n",
    "\\newcommand{\\basalRate}{b}\n",
    "\\newcommand{\\dampingCoefficient}{c}\n",
    "\\newcommand{\\mass}{m}\n",
    "\\newcommand{\\sensitivity}{s}\n",
    "\\newcommand{\\springScalar}{\\kappa}\n",
    "\\newcommand{\\springVector}{\\boldsymbol{ \\kappa}}\n",
    "\\newcommand{\\springMatrix}{\\boldsymbol{ \\mathcal{K}}}\n",
    "\\newcommand{\\tfConcentration}{p}\n",
    "\\newcommand{\\tfDecayRate}{\\delta}\n",
    "\\newcommand{\\tfMrnaConcentration}{f}\n",
    "\\newcommand{\\tfVector}{\\mathbf{ \\tfConcentration}}\n",
    "\\newcommand{\\velocity}{v}\n",
    "\\newcommand{\\sufficientStatsScalar}{g}\n",
    "\\newcommand{\\sufficientStatsVector}{\\mathbf{ \\sufficientStatsScalar}}\n",
    "\\newcommand{\\sufficientStatsMatrix}{\\mathbf{G}}\n",
    "\\newcommand{\\switchScalar}{s}\n",
    "\\newcommand{\\switchVector}{\\mathbf{ \\switchScalar}}\n",
    "\\newcommand{\\switchMatrix}{\\mathbf{S}}\n",
    "\\newcommand{\\tr}[1]{\\text{tr}\\left(#1\\right)}\n",
    "\\newcommand{\\loneNorm}[1]{\\left\\Vert #1 \\right\\Vert_1}\n",
    "\\newcommand{\\ltwoNorm}[1]{\\left\\Vert #1 \\right\\Vert_2}\n",
    "\\newcommand{\\onenorm}[1]{\\left\\vert#1\\right\\vert_1}\n",
    "\\newcommand{\\twonorm}[1]{\\left\\Vert #1 \\right\\Vert}\n",
    "\\newcommand{\\vScalar}{v}\n",
    "\\newcommand{\\vVector}{\\mathbf{v}}\n",
    "\\newcommand{\\vMatrix}{\\mathbf{V}}\n",
    "\\newcommand{\\varianceDist}[2]{\\text{var}_{#2}\\left( #1 \\right)}\n",
    "% Already defined by latex\n",
    "%\\newcommand{\\vec}{#1:}\n",
    "\\newcommand{\\vecb}[1]{\\left(#1\\right):}\n",
    "\\newcommand{\\weightScalar}{w}\n",
    "\\newcommand{\\weightVector}{\\mathbf{ \\weightScalar}}\n",
    "\\newcommand{\\weightMatrix}{\\mathbf{W}}\n",
    "\\newcommand{\\weightedAdjacencyMatrix}{\\mathbf{A}}\n",
    "\\newcommand{\\weightedAdjacencyScalar}{a}\n",
    "\\newcommand{\\weightedAdjacencyVector}{\\mathbf{ \\weightedAdjacencyScalar}}\n",
    "\\newcommand{\\onesVector}{\\mathbf{1}}\n",
    "\\newcommand{\\zerosVector}{\\mathbf{0}}\n",
    "$$\n",
    "\n",
    "<!-- Enables links to pages-->\n",
    "<!--ipynb-->\n",
    "\n",
    "<!-- ipynb and slides-->\n",
    "\n",
    "### \n",
    "\n",
    "<div style=\"text-align:center\">\n",
    "\n",
    "<img class=\"vertical-align:middle\" src=\"../slides/diagrams/Planck_CMB.png\" width=\"50%\" height=\"auto\" align=\"center\" style=\"background:none; border:none; box-shadow:none;\">\n",
    "\n",
    "</div>\n",
    "\n",
    "### \n",
    "\n",
    "<div style=\"fontsize:120px;vertical-align:middle\">\n",
    "\n",
    "<img src=\"../slides/diagrams/earth_PNG37.png\" width=\"20%\" style=\"display:inline-block;background:none;vertical-align:middle;border:none;box-shadow:none;\">$=f\\Bigg($<img src=\"../slides/diagrams/Planck_CMB.png\"  width=\"50%\" style=\"display:inline-block;background:none;vertical-align:middle;border:none;box-shadow:none;\">$\\Bigg)$\n",
    "\n",
    "</div>\n",
    "\n",
    "### Deep Gaussian Processes\n",
    "\n",
    "### Approximations\n",
    "\n",
    "<div style=\"text-align:center\">\n",
    "\n",
    "<img class=\"\" src=\"../slides/diagrams/sparse-gps-1.png\" width=\"90%\" height=\"auto\" align=\"center\" style=\"background:none; border:none; box-shadow:none;\">\n",
    "\n",
    "</div>\n",
    "\n",
    "<center>\n",
    "<i>Image credit: Kai Arulkumaran</i>\n",
    "</center>\n",
    "### Approximations\n",
    "\n",
    "<div style=\"text-align:center\">\n",
    "\n",
    "<img class=\"\" src=\"../slides/diagrams/sparse-gps-2.png\" width=\"90%\" height=\"auto\" align=\"center\" style=\"background:none; border:none; box-shadow:none;\">\n",
    "\n",
    "</div>\n",
    "\n",
    "<center>\n",
    "<i>Image credit: Kai Arulkumaran</i>\n",
    "</center>\n",
    "### Approximations\n",
    "\n",
    "<div style=\"text-align:center\">\n",
    "\n",
    "<img class=\"\" src=\"../slides/diagrams/sparse-gps-3.png\" width=\"45%\" height=\"auto\" align=\"center\" style=\"background:none; border:none; box-shadow:none;\">\n",
    "\n",
    "</div>\n",
    "\n",
    "<center>\n",
    "<i>Image credit: Kai Arulkumaran</i>\n",
    "</center>\n",
    "### Approximations\n",
    "\n",
    "<div style=\"text-align:center\">\n",
    "\n",
    "<img class=\"\" src=\"../slides/diagrams/sparse-gps-4.png\" width=\"45%\" height=\"auto\" align=\"center\" style=\"background:none; border:none; box-shadow:none;\">\n",
    "\n",
    "</div>\n",
    "\n",
    "<center>\n",
    "<i>Image credit: Kai Arulkumaran</i>\n",
    "</center>"
   ]
  },
  {
   "cell_type": "code",
   "execution_count": 3,
   "metadata": {},
   "outputs": [],
   "source": [
    "import matplotlib.pyplot as plt\n",
    "import mlai\n",
    "import teaching_plots as plot \n",
    "from gp_tutorial import gpplot"
   ]
  },
  {
   "cell_type": "code",
   "execution_count": 4,
   "metadata": {},
   "outputs": [
    {
     "ename": "NameError",
     "evalue": "name 'm_full' is not defined",
     "output_type": "error",
     "traceback": [
      "\u001b[0;31m---------------------------------------------------------------------------\u001b[0m",
      "\u001b[0;31mNameError\u001b[0m                                 Traceback (most recent call last)",
      "\u001b[0;32m<ipython-input-4-70fa8b873b7f>\u001b[0m in \u001b[0;36m<module>\u001b[0;34m()\u001b[0m\n\u001b[1;32m      1\u001b[0m \u001b[0mfig\u001b[0m\u001b[0;34m,\u001b[0m \u001b[0max\u001b[0m \u001b[0;34m=\u001b[0m \u001b[0mplt\u001b[0m\u001b[0;34m.\u001b[0m\u001b[0msubplots\u001b[0m\u001b[0;34m(\u001b[0m\u001b[0mfigsize\u001b[0m\u001b[0;34m=\u001b[0m\u001b[0mplot\u001b[0m\u001b[0;34m.\u001b[0m\u001b[0mbig_wide_figsize\u001b[0m\u001b[0;34m)\u001b[0m\u001b[0;34m\u001b[0m\u001b[0m\n\u001b[0;32m----> 2\u001b[0;31m \u001b[0mplot\u001b[0m\u001b[0;34m.\u001b[0m\u001b[0mmodel_output\u001b[0m\u001b[0;34m(\u001b[0m\u001b[0mm_full\u001b[0m\u001b[0;34m,\u001b[0m \u001b[0max\u001b[0m\u001b[0;34m=\u001b[0m\u001b[0max\u001b[0m\u001b[0;34m,\u001b[0m \u001b[0mxlabel\u001b[0m\u001b[0;34m=\u001b[0m\u001b[0;34m'$x$'\u001b[0m\u001b[0;34m,\u001b[0m \u001b[0mylabel\u001b[0m\u001b[0;34m=\u001b[0m\u001b[0;34m'$y$'\u001b[0m\u001b[0;34m,\u001b[0m \u001b[0mfontsize\u001b[0m\u001b[0;34m=\u001b[0m\u001b[0;36m20\u001b[0m\u001b[0;34m,\u001b[0m \u001b[0mportion\u001b[0m\u001b[0;34m=\u001b[0m\u001b[0;36m0.2\u001b[0m\u001b[0;34m)\u001b[0m\u001b[0;34m\u001b[0m\u001b[0m\n\u001b[0m\u001b[1;32m      3\u001b[0m \u001b[0mxlim\u001b[0m \u001b[0;34m=\u001b[0m \u001b[0max\u001b[0m\u001b[0;34m.\u001b[0m\u001b[0mget_xlim\u001b[0m\u001b[0;34m(\u001b[0m\u001b[0;34m)\u001b[0m\u001b[0;34m\u001b[0m\u001b[0m\n\u001b[1;32m      4\u001b[0m \u001b[0mylim\u001b[0m \u001b[0;34m=\u001b[0m \u001b[0max\u001b[0m\u001b[0;34m.\u001b[0m\u001b[0mget_ylim\u001b[0m\u001b[0;34m(\u001b[0m\u001b[0;34m)\u001b[0m\u001b[0;34m\u001b[0m\u001b[0m\n\u001b[1;32m      5\u001b[0m mlai.write_figure(figure=fig,\n",
      "\u001b[0;31mNameError\u001b[0m: name 'm_full' is not defined"
     ]
    },
    {
     "data": {
      "image/png": "[encoded data removed]",
      "text/plain": [
       "<Figure size 720x432 with 1 Axes>"
      ]
     },
     "metadata": {},
     "output_type": "display_data"
    }
   ],
   "source": [
    "fig, ax = plt.subplots(figsize=plot.big_wide_figsize)\n",
    "plot.model_output(m_full, ax=ax, xlabel='$x$', ylabel='$y$', fontsize=20, portion=0.2)\n",
    "xlim = ax.get_xlim()\n",
    "ylim = ax.get_ylim()\n",
    "mlai.write_figure(figure=fig,\n",
    "                  filename='../slides/diagrams/gp/sparse-demo-full-gp.svg', \n",
    "                  transparent=True, frameon=True)"
   ]
  },
  {
   "cell_type": "markdown",
   "metadata": {},
   "source": [
    "### Full Gaussian Process Fit\n",
    "\n",
    "<img src=\"../slides/diagrams/gp/sparse-demo-full-gp.svg\" class=\"\" align=\"\" style=\"\">"
   ]
  },
  {
   "cell_type": "code",
   "execution_count": null,
   "metadata": {},
   "outputs": [],
   "source": [
    "fig, ax = plt.subplots(figsize=plot.big_wide_figsize)\n",
    "plot.model_output(m, ax=ax, xlabel='$x$', ylabel='$y$', fontsize=20, portion=0.2, xlim=xlim, ylim=ylim)\n",
    "mlai.write_figure(figure=fig,\n",
    "                  filename='../slides/diagrams/gp/sparse-demo-constrained-inducing-6-unlearned-gp.svg', \n",
    "                  transparent=True, frameon=True)"
   ]
  },
  {
   "cell_type": "markdown",
   "metadata": {},
   "source": [
    "### Inducing Variable Fit\n",
    "\n",
    "<img src=\"../slides/diagrams/gp/sparse-demo-constrained-inducing-6-unlearned-gp.svg\" class=\"\" align=\"\" style=\"\">"
   ]
  },
  {
   "cell_type": "code",
   "execution_count": null,
   "metadata": {},
   "outputs": [],
   "source": [
    "fig, ax = plt.subplots(figsize=plot.big_wide_figsize)\n",
    "plot.model_output(m, ax=ax, xlabel='$x$', ylabel='$y$', fontsize=20, portion=0.2, xlim=xlim, ylim=ylim)\n",
    "mlai.write_figure(figure=fig,\n",
    "                  filename='../slides/diagrams/gp/sparse-demo-constrained-inducing-6-learned-gp.svg', \n",
    "                  transparent=True, frameon=True)"
   ]
  },
  {
   "cell_type": "markdown",
   "metadata": {},
   "source": [
    "### Inducing Variable Param Optimize\n",
    "\n",
    "<img src=\"../slides/diagrams/gp/sparse-demo-constrained-inducing-6-learned-gp.svg\" class=\"\" align=\"\" style=\"\">"
   ]
  },
  {
   "cell_type": "code",
   "execution_count": null,
   "metadata": {},
   "outputs": [],
   "source": [
    "fig, ax = plt.subplots(figsize=plot.big_wide_figsize)\n",
    "plot.model_output(m, ax=ax, xlabel='$x$', ylabel='$y$', fontsize=20, portion=0.2,xlim=xlim, ylim=ylim)\n",
    "mlai.write_figure(figure=fig,\n",
    "                  filename='../slides/diagrams/gp/sparse-demo-unconstrained-inducing-6-gp.svg', \n",
    "                  transparent=True, frameon=True)"
   ]
  },
  {
   "cell_type": "markdown",
   "metadata": {},
   "source": [
    "### Inducing Variable Full Optimize\n",
    "\n",
    "<img src=\"../slides/diagrams/gp/sparse-demo-unconstrained-inducing-6-gp.svg\" class=\"\" align=\"\" style=\"\">"
   ]
  },
  {
   "cell_type": "code",
   "execution_count": null,
   "metadata": {},
   "outputs": [],
   "source": [
    "fig, ax = plt.subplots(figsize=plot.big_wide_figsize)\n",
    "plot.model_output(m, ax=ax, xlabel='$x$', ylabel='$y$', fontsize=20, portion=0.2, xlim=xlim, ylim=ylim)\n",
    "mlai.write_figure(figure=fig,\n",
    "                  filename='../slides/diagrams/gp/sparse-demo-sparse-inducing-8-gp.svg', \n",
    "                  transparent=True, frameon=True)"
   ]
  },
  {
   "cell_type": "markdown",
   "metadata": {},
   "source": [
    "### Eight Optimized Inducing Variables\n",
    "\n",
    "<img src=\"../slides/diagrams/gp/sparse-demo-sparse-inducing-8-gp.svg\" class=\"\" align=\"\" style=\"\">\n",
    "\n",
    "### Full Gaussian Process Fit\n",
    "\n",
    "<img src=\"../slides/diagrams/gp/sparse-demo-full-gp.svg\" class=\"\" align=\"\" style=\"\">\n",
    "\n",
    "### Leads to Other Approximations ...\n",
    "\n",
    "-   Let’s be explicity about storing approximate posterior of\n",
    "    $\\inducingVector$, $q(\\inducingVector)$.\n",
    "-   Now we have\n",
    "    $$p(\\dataVector^*|\\dataVector) = \\int p(\\dataVector^*| \\inducingVector) q(\\inducingVector | \\dataVector) \\text{d} \\inducingVector$$\n",
    "\n",
    "### Leads to Other Approximations ...\n",
    "\n",
    "-   Inducing variables look a lot like regular parameters.\n",
    "-   *But*: their dimensionality does not need to be set at design time.\n",
    "-   They can be modified arbitrarily at run time without effecting the\n",
    "    model likelihood.\n",
    "-   They only effect the quality of compression and the lower bound.\n",
    "\n",
    "### In GPs for Big Data\n",
    "\n",
    "-   Exploit the resulting factorization ...\n",
    "    $$p(\\dataVector^*|\\dataVector) = \\int p(\\dataVector^*| \\inducingVector) q(\\inducingVector | \\dataVector) \\text{d} \\inducingVector$$\n",
    "    \\pause\n",
    "-   The distribution now *factorizes*:\n",
    "    $$p(\\dataVector^*|\\dataVector) = \\int \\prod_{i=1}^{\\numData^*}p(\\dataScalar^*_i| \\inducingVector) q(\\inducingVector | \\dataVector) \\text{d} \\inducingVector$$\n",
    "-   This factorization can be exploited for stochastic variational\n",
    "    inference [@Hoffman:stochastic12].\n",
    "\n",
    "### Nonparametrics for Very Large Data Sets\n",
    "\n",
    "<center>\n",
    "Modern data availability\n",
    "</center>\n",
    "<div style=\"text-align:center\">\n",
    "\n",
    "<img class=\"negate\" src=\"../slides/diagrams/ml/house_price_country.png\" width=\"60%\" height=\"auto\" align=\"center\" style=\"background:none; border:none; box-shadow:none;\">\n",
    "\n",
    "</div>\n",
    "\n",
    "### Nonparametrics for Very Large Data Sets\n",
    "\n",
    "<center>\n",
    "Proxy for index of deprivation?\n",
    "</center>\n",
    "<div style=\"text-align:center\">\n",
    "\n",
    "<img class=\"negate\" src=\"../slides/diagrams/ml/house_price_peak_district.png\" width=\"60%\" height=\"auto\" align=\"center\" style=\"background:none; border:none; box-shadow:none;\">\n",
    "\n",
    "</div>\n",
    "\n",
    "### Nonparametrics for Very Large Data Sets\n",
    "\n",
    "<center>\n",
    "Actually index of deprivation is a proxy for this ...\n",
    "</center>\n",
    "<div style=\"text-align:center\">\n",
    "\n",
    "<img class=\"negate\" src=\"../slides/diagrams/ml/house_price_peak_district.png\" width=\"60%\" height=\"auto\" align=\"center\" style=\"background:none; border:none; box-shadow:none;\">\n",
    "\n",
    "</div>\n",
    "\n",
    "### \n",
    "\n",
    "\\catdoc\n",
    "<img class=\"\" src=\"../slides/diagrams/people/2013_03_28_180606.JPG\" width=\"1cm\" align=\"\" style=\"background:none; border:none; box-shadow:none; position:absolute; clip:rect(100px,2369px,2200px,1370px)\">\n",
    "<table>\n",
    "<tr>\n",
    "<td width>\n",
    "[[@Hensman:bigdata13]]{style=\"text-align:left\"}\n",
    "</td>\n",
    "<td width>\n",
    "[<img class=\"\" src=\"../slides/diagrams/people/2013_03_28_180606.JPG\" width=\"1.5cm\" align=\"\" style=\"background:none; border:none; box-shadow:none; position:absolute; clip:rect(100px,2369px,2200px,1370px)\">]{style=\"text-align:right\"}\n",
    "</td>\n",
    "</tr>\n",
    "</table>\n",
    "<div style=\"text-align:center\">\n",
    "\n",
    "<img class=\"\" src=\"../slides/diagrams/health/244_1_clip.png\" width=\"90%\" height=\"auto\" align=\"center\" style=\"background:none; border:none; box-shadow:none;\">\n",
    "\n",
    "</div>\n",
    "\n",
    "<center>\n",
    "<http://auai.org/uai2013/prints/papers/244.pdf>\n",
    "</center>\n",
    "### \n",
    "\n",
    "<table>\n",
    "<tr>\n",
    "<td width>\n",
    "[[@Hensman:bigdata13]]{style=\"text-align:left\"}\n",
    "</td>\n",
    "<td width>\n",
    "[<img class=\"\" src=\"../slides/diagrams/people/2013_03_28_180606.JPG\" width=\"1.5cm\" align=\"\" style=\"background:none; border:none; box-shadow:none; position:absolute; clip:rect(100px,2369px,2200px,1370px)\">]{style=\"text-align:right\"}\n",
    "</td>\n",
    "</tr>\n",
    "</table>\n",
    "<div style=\"text-align:center\">\n",
    "\n",
    "<img class=\"\" src=\"../slides/diagrams/health/244_6_clip.png\" width=\"90%\" height=\"auto\" align=\"center\" style=\"background:none; border:none; box-shadow:none;\">\n",
    "\n",
    "</div>\n",
    "\n",
    "<center>\n",
    "<http://auai.org/uai2013/prints/papers/244.pdf>\n",
    "</center>\n",
    "### Modern Review\n",
    "\n",
    "-   *A Unifying Framework for Gaussian Process Pseudo-Point\n",
    "    Approximations using Power Expectation Propagation*\n",
    "    @Thang:unifying17\n",
    "\n",
    "-   *Deep Gaussian Processes and Variational Propagation of Uncertainty*\n",
    "    @Damianou:thesis2015\n",
    "\n",
    "<a href=\"file:///Users/neil/lawrennd/talks/_deepgp/includes/deep-gaussian-processes.md\">\\_deepgp/includes/deep-gaussian-processes.md</a>\n",
    "\n",
    "<a href=\"file:///Users/neil/lawrennd/talks/_gp/includes/mackay-bathwater.md\">\\_gp/includes/mackay-bathwater.md</a>\n",
    "\n",
    "### \n",
    "\n",
    "<div style=\"text-align:center\">\n",
    "\n",
    "<img class=\"\" src=\"../slides/diagrams/gp/mackay-baby.png\" width=\"\" height=\"auto\" align=\"center\" style=\"background:none; border:none; box-shadow:none;\">\n",
    "\n",
    "</div>\n",
    "\n",
    "### Structure of Priors\n",
    "\n",
    "MacKay: NeurIPS Tutorial 1997 “Have we thrown out the baby with the\n",
    "bathwater?” [Published as @MacKay:gpintroduction98]}\n",
    "\n",
    "<a href=\"file:///Users/neil/lawrennd/talks/_deepgp/includes/deep-nn-gp.md\">\\_deepgp/includes/deep-nn-gp.md</a>\n",
    "\n",
    "<a href=\"file:///Users/neil/lawrennd/talks/_deepgp/includes/deep-nn.md\">\\_deepgp/includes/deep-nn.md</a>"
   ]
  },
  {
   "cell_type": "code",
   "execution_count": null,
   "metadata": {},
   "outputs": [],
   "source": [
    "plot.deep_nn(diagrams='../slides/diagrams/deepgp/')"
   ]
  },
  {
   "cell_type": "markdown",
   "metadata": {},
   "source": [
    "### Deep Neural Network\n",
    "\n",
    "<img src=\"../slides/diagrams/deepgp/deep-nn1.svg\" class=\"\" align=\"\" style=\"\">\n",
    "\n",
    "### Deep Neural Network\n",
    "\n",
    "<img src=\"../slides/diagrams/deepgp/deep-nn2.svg\" class=\"\" align=\"\" style=\"\">\n",
    "\n",
    "### Mathematically\n",
    "\n",
    "$$\n",
    "\\begin{align}\n",
    "    \\hiddenVector_{1} &= \\basisFunction\\left(\\mappingMatrix_1 \\inputVector\\right)\\\\\n",
    "    \\hiddenVector_{2} &=  \\basisFunction\\left(\\mappingMatrix_2\\hiddenVector_{1}\\right)\\\\\n",
    "    \\hiddenVector_{3} &= \\basisFunction\\left(\\mappingMatrix_3 \\hiddenVector_{2}\\right)\\\\\n",
    "    \\dataVector &= \\mappingVector_4 ^\\top\\hiddenVector_{3}\n",
    "\\end{align}\n",
    "$$\n",
    "\n",
    "<a href=\"file:///Users/neil/lawrennd/talks/_deepgp/includes/overfitting-low-rank.md\">\\_deepgp/includes/overfitting-low-rank.md</a>\n",
    "\n",
    "### Overfitting\n",
    "\n",
    "-   Potential problem: if number of nodes in two adjacent layers is big,\n",
    "    corresponding $\\mappingMatrix$ is also very big and there is the\n",
    "    potential to overfit.\n",
    "\n",
    "-   Proposed solution: “dropout”.\n",
    "\n",
    "-   Alternative solution: parameterize $\\mappingMatrix$ with its SVD. $$\n",
    "      \\mappingMatrix = \\eigenvectorMatrix\\eigenvalueMatrix\\eigenvectwoMatrix^\\top\n",
    "      $$ or $$\n",
    "      \\mappingMatrix = \\eigenvectorMatrix\\eigenvectwoMatrix^\\top\n",
    "      $$ where if $\\mappingMatrix \\in \\Re^{k_1\\times k_2}$ then\n",
    "    $\\eigenvectorMatrix\\in \\Re^{k_1\\times q}$ and\n",
    "    $\\eigenvectwoMatrix \\in \\Re^{k_2\\times q}$, i.e. we have a low rank\n",
    "    matrix factorization for the weights."
   ]
  },
  {
   "cell_type": "code",
   "execution_count": null,
   "metadata": {},
   "outputs": [],
   "source": [
    "plot.low_rank_approximation(diagrams='../slides/diagrams')"
   ]
  },
  {
   "cell_type": "markdown",
   "metadata": {},
   "source": [
    "### Low Rank Approximation\n",
    "\n",
    "<img src=\"../slides/diagrams/wisuvt.svg\" class=\"\" align=\"\" style=\"\">\n",
    "<center>\n",
    "<i>Pictorial representation of the low rank form of the matrix\n",
    "$\\mappingMatrix$</i>\n",
    "</center>\n",
    "<a href=\"file:///Users/neil/lawrennd/talks/_deepgp/includes/deep-gp.md\">\\_deepgp/includes/deep-gp.md</a>"
   ]
  },
  {
   "cell_type": "code",
   "execution_count": null,
   "metadata": {},
   "outputs": [],
   "source": [
    "plot.deep_nn_bottleneck(diagrams='../slides/diagrams/deepgp')"
   ]
  },
  {
   "cell_type": "markdown",
   "metadata": {},
   "source": [
    "### Deep Neural Network\n",
    "\n",
    "<img src=\"../slides/diagrams/deepgp/deep-nn-bottleneck1.svg\" class=\"\" align=\"\" style=\"\">\n",
    "\n",
    "### Deep Neural Network\n",
    "\n",
    "<img src=\"../slides/diagrams/deepgp/deep-nn-bottleneck2.svg\" class=\"\" align=\"\" style=\"\">\n",
    "\n",
    "### Mathematically\n",
    "\n",
    "The network can now be written mathematically as $$\n",
    "\\begin{align}\n",
    "  \\latentVector_{1} &= \\eigenvectwoMatrix^\\top_1 \\inputVector\\\\\n",
    "  \\hiddenVector_{1} &= \\basisFunction\\left(\\eigenvectorMatrix_1 \\latentVector_{1}\\right)\\\\\n",
    "  \\latentVector_{2} &= \\eigenvectwoMatrix^\\top_2 \\hiddenVector_{1}\\\\\n",
    "  \\hiddenVector_{2} &= \\basisFunction\\left(\\eigenvectorMatrix_2 \\latentVector_{2}\\right)\\\\\n",
    "  \\latentVector_{3} &= \\eigenvectwoMatrix^\\top_3 \\hiddenVector_{2}\\\\\n",
    "  \\hiddenVector_{3} &= \\basisFunction\\left(\\eigenvectorMatrix_3 \\latentVector_{3}\\right)\\\\\n",
    "  \\dataVector &= \\mappingVector_4^\\top\\hiddenVector_{3}.\n",
    "\\end{align}\n",
    "$$\n",
    "\n",
    "### A Cascade of Neural Networks\n",
    "\n",
    "$$\n",
    "\\begin{align}\n",
    "  \\latentVector_{1} &= \\eigenvectwoMatrix^\\top_1 \\inputVector\\\\\n",
    "  \\latentVector_{2} &= \\eigenvectwoMatrix^\\top_2 \\basisFunction\\left(\\eigenvectorMatrix_1 \\latentVector_{1}\\right)\\\\\n",
    "  \\latentVector_{3} &= \\eigenvectwoMatrix^\\top_3 \\basisFunction\\left(\\eigenvectorMatrix_2 \\latentVector_{2}\\right)\\\\\n",
    "  \\dataVector &= \\mappingVector_4 ^\\top \\latentVector_{3}\n",
    "\\end{align}\n",
    "$$\n",
    "\n",
    "### Cascade of Gaussian Processes\n",
    "\n",
    "-   Replace each neural network with a Gaussian process $$\n",
    "    \\begin{align}\n",
    "      \\latentVector_{1} &= \\mappingFunctionVector_1\\left(\\inputVector\\right)\\\\\n",
    "      \\latentVector_{2} &= \\mappingFunctionVector_2\\left(\\latentVector_{1}\\right)\\\\\n",
    "      \\latentVector_{3} &= \\mappingFunctionVector_3\\left(\\latentVector_{2}\\right)\\\\\n",
    "      \\dataVector &= \\mappingFunctionVector_4\\left(\\latentVector_{3}\\right)\n",
    "    \\end{align}\n",
    "    $$\n",
    "\n",
    "-   Equivalent to prior over parameters, take width of each layer to\n",
    "    infinity.\n",
    "\n",
    "<a href=\"file:///Users/neil/lawrennd/talks/_deepgp/includes/deep-theory.md\">\\_deepgp/includes/deep-theory.md</a>\n",
    "\n",
    "<a href=\"file:///Users/neil/lawrennd/talks/_deepgp/includes/process-composition.md\">\\_deepgp/includes/process-composition.md</a>\n",
    "\n",
    "### Mathematically\n",
    "\n",
    "-   Composite *multivariate* function\n",
    "\n",
    "$$\n",
    "  \\mathbf{g}(\\inputVector)=\\mappingFunctionVector_5(\\mappingFunctionVector_4(\\mappingFunctionVector_3(\\mappingFunctionVector_2(\\mappingFunctionVector_1(\\inputVector))))).\n",
    "  $$"
   ]
  },
  {
   "cell_type": "code",
   "execution_count": null,
   "metadata": {},
   "outputs": [],
   "source": [
    "pgm = plot.horizontal_chain(depth=5)\n",
    "pgm.render().figure.savefig(\"../slides/diagrams/deepgp/deep-markov.svg\", transparent=True)"
   ]
  },
  {
   "cell_type": "markdown",
   "metadata": {},
   "source": [
    "### Equivalent to Markov Chain\n",
    "\n",
    "-   Composite *multivariate* function $$\n",
    "      p(\\dataVector|\\inputVector)= p(\\dataVector|\\mappingFunctionVector_5)p(\\mappingFunctionVector_5|\\mappingFunctionVector_4)p(\\mappingFunctionVector_4|\\mappingFunctionVector_3)p(\\mappingFunctionVector_3|\\mappingFunctionVector_2)p(\\mappingFunctionVector_2|\\mappingFunctionVector_1)p(\\mappingFunctionVector_1|\\inputVector)\n",
    "      $$\n",
    "\n",
    "<img src=\"../slides/diagrams/deepgp/deep-markov.svg\" class=\"\" align=\"\" style=\"\">"
   ]
  },
  {
   "cell_type": "code",
   "execution_count": null,
   "metadata": {},
   "outputs": [],
   "source": [
    "pgm = plot.vertical_chain(depth=5)\n",
    "pgm.render().figure.savefig(\"../slides/diagrams/deepgp/deep-markov-vertical.svg\", transparent=True)"
   ]
  },
  {
   "cell_type": "markdown",
   "metadata": {},
   "source": [
    "### \n",
    "\n",
    "<img src=\"../slides/diagrams/deepgp/deep-markov-vertical.svg\" class=\"\" align=\"\" style=\"\">\n",
    "\n",
    "### Why Deep?\n",
    "\n",
    "-   Gaussian processes give priors over functions.\n",
    "\n",
    "-   Elegant properties:\n",
    "-   e.g. *Derivatives* of process are also Gaussian distributed (if they\n",
    "    exist).\n",
    "\n",
    "-   For particular covariance functions they are ‘universal\n",
    "    approximators’, i.e. all functions can have support under the prior.\n",
    "\n",
    "-   Gaussian derivatives might ring alarm bells.\n",
    "\n",
    "-   E.g. a priori they don’t believe in function ‘jumps’.\n",
    "\n",
    "### Stochastic Process Composition\n",
    "\n",
    "-   From a process perspective: *process composition*.\n",
    "\n",
    "-   A (new?) way of constructing more complex *processes* based on\n",
    "    simpler components.\n",
    "\n",
    "### \n",
    "\n",
    "<img src=\"../slides/diagrams/deepgp/deep-markov-vertical.svg\" class=\"\" align=\"\" style=\"\">"
   ]
  },
  {
   "cell_type": "code",
   "execution_count": null,
   "metadata": {},
   "outputs": [],
   "source": [
    "pgm = plot.vertical_chain(depth=5, shape=[2, 7])\n",
    "pgm.add_node(daft.Node('y_2', r'$\\mathbf{y}_2$', 1.5, 3.5, observed=True))\n",
    "pgm.add_edge('f_2', 'y_2')\n",
    "pgm.render().figure.savefig(\"../slides/diagrams/deepgp/deep-markov-vertical-side.svg\", transparent=True)"
   ]
  },
  {
   "cell_type": "markdown",
   "metadata": {},
   "source": [
    "### \n",
    "\n",
    "<img src=\"../slides/diagrams/deepgp/deep-markov-vertical-side.svg\" class=\"\" align=\"\" style=\"\">"
   ]
  },
  {
   "cell_type": "code",
   "execution_count": null,
   "metadata": {},
   "outputs": [],
   "source": [
    "import teaching_plots as plot"
   ]
  },
  {
   "cell_type": "code",
   "execution_count": null,
   "metadata": {},
   "outputs": [],
   "source": [
    "plot.non_linear_difficulty_plot_3(diagrams='../../slides/diagrams/dimred/')"
   ]
  },
  {
   "cell_type": "markdown",
   "metadata": {},
   "source": [
    "### Difficulty for Probabilistic Approaches\n",
    "\n",
    "-   Propagate a probability distribution through a non-linear mapping.\n",
    "\n",
    "-   Normalisation of distribution becomes intractable.\n",
    "\n",
    "<img src=\"../slides/diagrams/dimred/nonlinear-mapping-3d-plot.svg\" class=\"\" align=\"center\" style=\"\">"
   ]
  },
  {
   "cell_type": "code",
   "execution_count": null,
   "metadata": {},
   "outputs": [],
   "source": [
    "plot.non_linear_difficulty_plot_2(diagrams='../../slides/diagrams/dimred/')"
   ]
  },
  {
   "cell_type": "markdown",
   "metadata": {},
   "source": [
    "### Difficulty for Probabilistic Approaches\n",
    "\n",
    "-   Propagate a probability distribution through a non-linear mapping.\n",
    "\n",
    "-   Normalisation of distribution becomes intractable.\n",
    "\n",
    "<img src=\"../slides/diagrams/dimred/nonlinear-mapping-2d-plot.svg\" class=\"\" align=\"center\" style=\"\">"
   ]
  },
  {
   "cell_type": "code",
   "execution_count": null,
   "metadata": {},
   "outputs": [],
   "source": [
    "plot.non_linear_difficulty_plot_1(diagrams='../../slides/diagrams/dimred')"
   ]
  },
  {
   "cell_type": "markdown",
   "metadata": {},
   "source": [
    "### Difficulty for Probabilistic Approaches\n",
    "\n",
    "-   Propagate a probability distribution through a non-linear mapping.\n",
    "\n",
    "-   Normalisation of distribution becomes intractable.\n",
    "\n",
    "<img src=\"../slides/diagrams/dimred/gaussian-through-nonlinear.svg\" class=\"\" align=\"center\" style=\"\">\n",
    "\n",
    "<a href=\"file:///Users/neil/lawrennd/talks/_deepgp/includes/stack-gp-intro.md\">\\_deepgp/includes/stack-gp-intro.md</a>\n",
    "\n",
    "### Deep Gaussian Processes\n",
    "\n",
    "-   Deep architectures allow abstraction of features\n",
    "    [@Bengio:deep09; @Hinton:fast06; @Salakhutdinov:quantitative08]\n",
    "-   We use variational approach to stack GP models.\n",
    "\n",
    "<a href=\"file:///Users/neil/lawrennd/talks/_deepgp/includes/stacked-pca.md\">\\_deepgp/includes/stacked-pca.md</a>"
   ]
  },
  {
   "cell_type": "code",
   "execution_count": null,
   "metadata": {},
   "outputs": [],
   "source": [
    "import teaching_plots as plot"
   ]
  },
  {
   "cell_type": "code",
   "execution_count": null,
   "metadata": {},
   "outputs": [],
   "source": [
    "plot.stack_gp_sample(kernel=GPy.kern.Linear,\n",
    "                     diagrams=\"../../slides/diagrams/deepgp\")"
   ]
  },
  {
   "cell_type": "code",
   "execution_count": null,
   "metadata": {},
   "outputs": [],
   "source": [
    "import pods"
   ]
  },
  {
   "cell_type": "code",
   "execution_count": null,
   "metadata": {},
   "outputs": [],
   "source": [
    "pods.notebook.display_plots('stack-gp-sample-Linear-{sample:0>1}.svg', \n",
    "                            directory='../../slides/diagrams/deepgp', sample=(0,4))"
   ]
  },
  {
   "cell_type": "markdown",
   "metadata": {},
   "source": [
    "### Stacked PCA\n",
    "\n",
    "<script>\n",
    "showDivs(0, 'stack-pca-sample');\n",
    "</script>\n",
    "<small></small>\n",
    "<input id=\"range-stack-pca-sample\" type=\"range\" min=\"0\" max=\"4\" value=\"0\" onchange=\"setDivs('stack-pca-sample')\" oninput=\"setDivs('stack-pca-sample')\">\n",
    "<button onclick=\"plusDivs(-1, 'stack-pca-sample')\">\n",
    "❮\n",
    "</button>\n",
    "<button onclick=\"plusDivs(1, 'stack-pca-sample')\">\n",
    "❯\n",
    "</button>\n",
    "<div class=\"stack-pca-sample\" style=\"text-align:center;\">\n",
    "\n",
    "<img src=\"../slides/diagrams/stack-pca-sample-0.svg\" class=\"\" align=\"\" style=\"\">\n",
    "\n",
    "</div>\n",
    "\n",
    "<div class=\"stack-pca-sample\" style=\"text-align:center;\">\n",
    "\n",
    "<img src=\"../slides/diagrams/stack-pca-sample-1.svg\" class=\"\" align=\"\" style=\"\">\n",
    "\n",
    "</div>\n",
    "\n",
    "<div class=\"stack-pca-sample\" style=\"text-align:center;\">\n",
    "\n",
    "<img src=\"../slides/diagrams/stack-pca-sample-2.svg\" class=\"\" align=\"\" style=\"\">\n",
    "\n",
    "</div>\n",
    "\n",
    "<div class=\"stack-pca-sample\" style=\"text-align:center;\">\n",
    "\n",
    "<img src=\"../slides/diagrams/stack-pca-sample-3.svg\" class=\"\" align=\"\" style=\"\">\n",
    "\n",
    "</div>\n",
    "\n",
    "<div class=\"stack-pca-sample\" style=\"text-align:center;\">\n",
    "\n",
    "<img src=\"../slides/diagrams/stack-pca-sample-4.svg\" class=\"\" align=\"\" style=\"\">\n",
    "\n",
    "</div>\n",
    "\n",
    "<a href=\"file:///Users/neil/lawrennd/talks/_deepgp/includes/stacked-gp.md\">\\_deepgp/includes/stacked-gp.md</a>\n",
    "\n",
    "### Stacked GP"
   ]
  },
  {
   "cell_type": "code",
   "execution_count": null,
   "metadata": {},
   "outputs": [],
   "source": [
    "plot.stack_gp_sample(kernel=GPy.kern.RBF,\n",
    "                     diagrams=\"../../slides/diagrams/deepgp\")"
   ]
  },
  {
   "cell_type": "code",
   "execution_count": null,
   "metadata": {},
   "outputs": [],
   "source": [
    "pods.notebook.display_plots('stack-gp-sample-RBF-{sample:0>1}.svg', \n",
    "                            directory='../../slides/diagrams/deepgp', sample=(0,4))"
   ]
  },
  {
   "cell_type": "markdown",
   "metadata": {},
   "source": [
    "<script>\n",
    "showDivs(0, 'stack-gp-sample');\n",
    "</script>\n",
    "<small></small>\n",
    "<input id=\"range-stack-gp-sample\" type=\"range\" min=\"0\" max=\"4\" value=\"0\" onchange=\"setDivs('stack-gp-sample')\" oninput=\"setDivs('stack-gp-sample')\">\n",
    "<button onclick=\"plusDivs(-1, 'stack-gp-sample')\">\n",
    "❮\n",
    "</button>\n",
    "<button onclick=\"plusDivs(1, 'stack-gp-sample')\">\n",
    "❯\n",
    "</button>\n",
    "<div class=\"stack-gp-sample\" style=\"text-align:center;\">\n",
    "\n",
    "<img src=\"../slides/diagrams/stack-gp-sample-0.svg\" class=\"\" align=\"\" style=\"\">\n",
    "\n",
    "</div>\n",
    "\n",
    "<div class=\"stack-gp-sample\" style=\"text-align:center;\">\n",
    "\n",
    "<img src=\"../slides/diagrams/stack-gp-sample-1.svg\" class=\"\" align=\"\" style=\"\">\n",
    "\n",
    "</div>\n",
    "\n",
    "<div class=\"stack-gp-sample\" style=\"text-align:center;\">\n",
    "\n",
    "<img src=\"../slides/diagrams/stack-gp-sample-2.svg\" class=\"\" align=\"\" style=\"\">\n",
    "\n",
    "</div>\n",
    "\n",
    "<div class=\"stack-gp-sample\" style=\"text-align:center;\">\n",
    "\n",
    "<img src=\"../slides/diagrams/stack-gp-sample-3.svg\" class=\"\" align=\"\" style=\"\">\n",
    "\n",
    "</div>\n",
    "\n",
    "<div class=\"stack-gp-sample\" style=\"text-align:center;\">\n",
    "\n",
    "<img src=\"../slides/diagrams/stack-gp-sample-4.svg\" class=\"\" align=\"\" style=\"\">\n",
    "\n",
    "</div>\n",
    "\n",
    "### Analysis of Deep GPs\n",
    "\n",
    "-   *Avoiding pathologies in very deep networks* @Duvenaud:pathologies14\n",
    "    show that the derivative distribution of the process becomes more\n",
    "    *heavy tailed* as number of layers increase.\n",
    "\n",
    "-   *How Deep Are Deep Gaussian Processes?* @Dunlop:deep2017 perform a\n",
    "    theoretical analysis possible through conditional Gaussian Markov\n",
    "    property.\n",
    "\n",
    "###"
   ]
  },
  {
   "cell_type": "code",
   "execution_count": null,
   "metadata": {},
   "outputs": [],
   "source": [
    "from IPython.lib.display import YouTubeVideo\n",
    "YouTubeVideo('XhIvygQYFFQ')"
   ]
  },
  {
   "cell_type": "markdown",
   "metadata": {},
   "source": [
    "<a href=\"file:///Users/neil/lawrennd/talks/_deepgp/includes/deep-results.md\">\\_deepgp/includes/deep-results.md</a>\n",
    "\n",
    "<a href=\"file:///Users/neil/lawrennd/talks/_deepgp/includes/pydeepgp-include.md\">\\_deepgp/includes/pydeepgp-include.md</a>\n",
    "\n",
    "<a href=\"file:///Users/neil/lawrennd/talks/_gp/includes/gpy-include.md\">\\_gp/includes/gpy-include.md</a>\n",
    "\n",
    "<a href=\"file:///Users/neil/lawrennd/talks/_gp/includes/gpy.md\">\\_gp/includes/gpy.md</a>\n",
    "\n",
    "### GPy: A Gaussian Process Framework in Python\n",
    "\n",
    "<div style=\"text-align:center\">\n",
    "\n",
    "<img class=\"\" src=\"../slides/diagrams/gp/gpy.png\" width=\"70%\" height=\"auto\" align=\"center\" style=\"background:none; border:none; box-shadow:none;\">\n",
    "\n",
    "</div>\n",
    "\n",
    "<center>\n",
    "<https://github.com/SheffieldML/GPy>\n",
    "</center>\n",
    "### GPy: A Gaussian Process Framework in Python\n",
    "\n",
    "-   BSD Licensed software base.\n",
    "-   Wide availability of libraries, 'modern' scripting language.\n",
    "-   Allows us to set projects to undergraduates in Comp Sci that use\n",
    "    GPs.\n",
    "-   Available through GitHub <https://github.com/SheffieldML/GPy>\n",
    "-   Reproducible Research with Jupyter Notebook.\n",
    "\n",
    "### Features\n",
    "\n",
    "-   Probabilistic-style programming (specify the model, not the\n",
    "    algorithm).\n",
    "-   Non-Gaussian likelihoods.\n",
    "-   Multivariate outputs.\n",
    "-   Dimensionality reduction.\n",
    "-   Approximations for large data sets.\n",
    "\n",
    "<a href=\"file:///Users/neil/lawrennd/talks/_deepgp/includes/deep-olympic.md\">\\_deepgp/includes/deep-olympic.md</a>\n",
    "\n",
    "<a href=\"file:///Users/neil/lawrennd/talks/_gp/includes/olympic-marathon-gp.md\">\\_gp/includes/olympic-marathon-gp.md</a>\n",
    "\n",
    "### Olympic Marathon Data\n",
    "\n",
    "<table>\n",
    "<tr>\n",
    "<td width=\"70%\">\n",
    "-   Gold medal times for Olympic Marathon since 1896.\n",
    "-   Marathons before 1924 didn’t have a standardised distance.\n",
    "-   Present results using pace per km.\n",
    "-   In 1904 Marathon was badly organised leading to very slow times.\n",
    "\n",
    "</td>\n",
    "<td width=\"30%\">\n",
    "<div style=\"text-align:center\">\n",
    "\n",
    "<img class=\"\" src=\"../slides/diagrams/Stephen_Kiprotich.jpg\" width=\"100%\" height=\"auto\" align=\"center\" style=\"background:none; border:none; box-shadow:none;\">\n",
    "\n",
    "</div>\n",
    "\n",
    "<small>Image from Wikimedia Commons <http://bit.ly/16kMKHQ></small>\n",
    "</td>\n",
    "</tr>\n",
    "</table>"
   ]
  },
  {
   "cell_type": "code",
   "execution_count": null,
   "metadata": {},
   "outputs": [],
   "source": [
    "import matplotlib.pyplot as plt\n",
    "import teaching_plots as plot\n",
    "import mlai"
   ]
  },
  {
   "cell_type": "code",
   "execution_count": null,
   "metadata": {},
   "outputs": [],
   "source": [
    "\n",
    "xlim = (1875,2030)\n",
    "ylim = (2.5, 6.5)\n",
    "yhat = (y-offset)/scale\n",
    "\n",
    "fig, ax = plt.subplots(figsize=plot.big_wide_figsize)\n",
    "_ = ax.plot(x, y, 'r.',markersize=10)\n",
    "ax.set_xlabel('year', fontsize=20)\n",
    "ax.set_ylabel('pace min/km', fontsize=20)\n",
    "ax.set_xlim(xlim)\n",
    "ax.set_ylim(ylim)\n",
    "\n",
    "mlai.write_figure(figure=fig, \n",
    "                  filename='../slides/diagrams/datasets/olympic-marathon.svg', \n",
    "                  transparent=True, \n",
    "                  frameon=True)"
   ]
  },
  {
   "cell_type": "markdown",
   "metadata": {},
   "source": [
    "### Olympic Marathon Data\n",
    "\n",
    "<div style=\"text-align:center\">\n",
    "\n",
    "<img src=\"../slides/diagrams/datasets/olympic-marathon.svg\" class=\"\" align=\"\" style=\"\">\n",
    "\n",
    "</div>\n",
    "\n",
    "### \n",
    "\n",
    "<table>\n",
    "<tr>\n",
    "<td width=\"40%\">\n",
    "<img class=\"\" src=\"../slides/diagrams/turing-run.jpg\" width=\"\" height=\"auto\" align=\"\" style=\"background:none; border:none; box-shadow:none;\">\n",
    "</td>\n",
    "<td width=\"50%\">\n",
    "<img class=\"\" src=\"../slides/diagrams/turing-times.gif\" width=\"\" height=\"auto\" align=\"\" style=\"background:none; border:none; box-shadow:none;\">\n",
    "</td>\n",
    "</tr>\n",
    "</table>"
   ]
  },
  {
   "cell_type": "code",
   "execution_count": null,
   "metadata": {},
   "outputs": [],
   "source": [
    "import teaching_plots as plot"
   ]
  },
  {
   "cell_type": "code",
   "execution_count": null,
   "metadata": {},
   "outputs": [],
   "source": [
    "fig, ax = plt.subplots(figsize=plot.big_wide_figsize)\n",
    "plot.model_output(m_full, scale=scale, offset=offset, ax=ax, xlabel='year', ylabel='pace min/km', fontsize=20, portion=0.2)\n",
    "ax.set_xlim(xlim)\n",
    "ax.set_ylim(ylim)\n",
    "mlai.write_figure(figure=fig,\n",
    "                  filename='../slides/diagrams/gp/olympic-marathon-gp.svg', \n",
    "                  transparent=True, frameon=True)"
   ]
  },
  {
   "cell_type": "markdown",
   "metadata": {},
   "source": [
    "### Olympic Marathon Data GP\n",
    "\n",
    "<img src=\"../slides/diagrams/gp/olympic-marathon-gp.svg\" class=\"\" align=\"\" style=\"\">\n",
    "\n",
    "### Deep GP Fit\n",
    "\n",
    "-   Can a Deep Gaussian process help?\n",
    "\n",
    "-   Deep GP is one GP feeding into another.\n",
    "\n",
    "### Olympic Marathon Data Deep GP\n",
    "\n",
    "<img src=\"../slides/diagrams/deepgp/olympic-marathon-deep-gp.svg\" class=\"\" align=\"\" style=\"\">"
   ]
  },
  {
   "cell_type": "code",
   "execution_count": null,
   "metadata": {},
   "outputs": [],
   "source": [
    "fig, ax = plt.subplots(figsize=plot.big_wide_figsize)\n",
    "plot.model_sample(m, scale=scale, offset=offset, samps=10, ax=ax, \n",
    "                  xlabel='year', ylabel='pace min/km', portion = 0.225)\n",
    "ax.set_xlim(xlim)\n",
    "ax.set_ylim(ylim)\n",
    "mlai.write_figure(figure=fig, filename='../slides/diagrams/deepgp/olympic-marathon-deep-gp-samples.svg', \n",
    "                  transparent=True, frameon=True)"
   ]
  },
  {
   "cell_type": "markdown",
   "metadata": {},
   "source": [
    "### Olympic Marathon Data Deep GP\n",
    "\n",
    "<img src=\"../slides/diagrams/deepgp/olympic-marathon-deep-gp-samples.svg\" class=\"\" align=\"\" style=\"\">"
   ]
  },
  {
   "cell_type": "code",
   "execution_count": null,
   "metadata": {},
   "outputs": [],
   "source": [
    "m.visualize(scale=scale, offset=offset, xlabel='year',\n",
    "            ylabel='pace min/km',xlim=xlim, ylim=ylim,\n",
    "            dataset='olympic-marathon',\n",
    "            diagrams='../slides/diagrams/deepgp')"
   ]
  },
  {
   "cell_type": "code",
   "execution_count": null,
   "metadata": {},
   "outputs": [],
   "source": [
    "import pods"
   ]
  },
  {
   "cell_type": "code",
   "execution_count": null,
   "metadata": {},
   "outputs": [],
   "source": [
    "pods.notebook.display_plots('olympic-marathon-deep-gp-layer-{sample:0>1}.svg', \n",
    "                            '../slides/diagrams/deepgp', sample=(0,1))"
   ]
  },
  {
   "cell_type": "markdown",
   "metadata": {},
   "source": [
    "### Olympic Marathon Data Latent 1\n",
    "\n",
    "<img src=\"../slides/diagrams/deepgp/olympic-marathon-deep-gp-layer-0.svg\" class=\"\" align=\"\" style=\"\">\n",
    "\n",
    "### Olympic Marathon Data Latent 2\n",
    "\n",
    "<img src=\"../slides/diagrams/deepgp/olympic-marathon-deep-gp-layer-1.svg\" class=\"\" align=\"\" style=\"\">"
   ]
  },
  {
   "cell_type": "code",
   "execution_count": null,
   "metadata": {},
   "outputs": [],
   "source": [
    "fig, ax = plt.subplots(figsize=plot.big_wide_figsize)\n",
    "m.visualize_pinball(ax=ax, scale=scale, offset=offset, points=30, portion=0.1,\n",
    "                    xlabel='year', ylabel='pace km/min', vertical=True)\n",
    "mlai.write_figure(figure=fig, filename='../slides/diagrams/deepgp/olympic-marathon-deep-gp-pinball.svg', \n",
    "                  transparent=True, frameon=True)"
   ]
  },
  {
   "cell_type": "markdown",
   "metadata": {},
   "source": [
    "### Olympic Marathon Pinball Plot\n",
    "\n",
    "<img src=\"../slides/diagrams/deepgp/olympic-marathon-deep-gp-pinball.svg\" class=\"\" align=\"\" style=\"\">\n",
    "\n",
    "<a href=\"file:///Users/neil/lawrennd/talks/_deepgp/includes/deep-della-gatta.md\">\\_deepgp/includes/deep-della-gatta.md</a>\n",
    "\n",
    "### Della Gatta Gene Data\n",
    "\n",
    "-   Given given expression levels in the form of a time series from\n",
    "    @DellaGatta:direct08."
   ]
  },
  {
   "cell_type": "code",
   "execution_count": null,
   "metadata": {},
   "outputs": [],
   "source": [
    "import matplotlib.pyplot as plt\n",
    "import teaching_plots as plot\n",
    "import mlai"
   ]
  },
  {
   "cell_type": "code",
   "execution_count": null,
   "metadata": {},
   "outputs": [],
   "source": [
    "\n",
    "xlim = (-20,260)\n",
    "ylim = (5, 7.5)\n",
    "yhat = (y-offset)/scale\n",
    "\n",
    "fig, ax = plt.subplots(figsize=plot.big_wide_figsize)\n",
    "_ = ax.plot(x, y, 'r.',markersize=10)\n",
    "ax.set_xlabel('time/min', fontsize=20)\n",
    "ax.set_ylabel('expression', fontsize=20)\n",
    "ax.set_xlim(xlim)\n",
    "ax.set_ylim(ylim)\n",
    "\n",
    "mlai.write_figure(figure=fig, \n",
    "                  filename='../slides/diagrams/datasets/della-gatta-gene.svg', \n",
    "                  transparent=True, \n",
    "                  frameon=True)"
   ]
  },
  {
   "cell_type": "markdown",
   "metadata": {},
   "source": [
    "### Della Gatta Gene Data\n",
    "\n",
    "<div style=\"text-align:center\">\n",
    "\n",
    "<img src=\"../slides/diagrams/datasets/della-gatta-gene.svg\" class=\"\" align=\"\" style=\"\">\n",
    "\n",
    "</div>\n",
    "\n",
    "### Gene Expression Example\n",
    "\n",
    "-   Want to detect if a gene is expressed or not, fit a GP to each gene\n",
    "    @Kalaitzis:simple11.\n",
    "\n",
    "### \n",
    "\n",
    "<div style=\"text-align:center\">\n",
    "\n",
    "<img class=\"\" src=\"../slides/diagrams/health/1471-2105-12-180_1.png\" width=\"\" height=\"auto\" align=\"center\" style=\"background:none; border:none; box-shadow:none;\">\n",
    "\n",
    "</div>\n",
    "\n",
    "<center>\n",
    "<http://www.biomedcentral.com/1471-2105/12/180>\n",
    "</center>\n",
    "###"
   ]
  },
  {
   "cell_type": "code",
   "execution_count": null,
   "metadata": {},
   "outputs": [],
   "source": [
    "import teaching_plots as plot"
   ]
  },
  {
   "cell_type": "code",
   "execution_count": null,
   "metadata": {},
   "outputs": [],
   "source": [
    "fig, ax = plt.subplots(figsize=plot.big_wide_figsize)\n",
    "plot.model_output(m_full, scale=scale, offset=offset, ax=ax, xlabel='time/min', ylabel='expression', fontsize=20, portion=0.2)\n",
    "ax.set_xlim(xlim)\n",
    "ax.set_ylim(ylim)\n",
    "ax.set_title('log likelihood: {ll:.3}'.format(ll=m_full.log_likelihood()), fontsize=20)\n",
    "mlai.write_figure(figure=fig,\n",
    "                  filename='../slides/diagrams/gp/della-gatta-gene-gp.svg', \n",
    "                  transparent=True, frameon=True)"
   ]
  },
  {
   "cell_type": "markdown",
   "metadata": {},
   "source": [
    "### TP53 Gene Data GP\n",
    "\n",
    "<img src=\"../slides/diagrams/gp/della-gatta-gene-gp.svg\" class=\"\" align=\"\" style=\"\">"
   ]
  },
  {
   "cell_type": "code",
   "execution_count": null,
   "metadata": {},
   "outputs": [],
   "source": [
    "import teaching_plots as plot"
   ]
  },
  {
   "cell_type": "code",
   "execution_count": null,
   "metadata": {},
   "outputs": [],
   "source": [
    "fig, ax = plt.subplots(figsize=plot.big_wide_figsize)\n",
    "plot.model_output(m_full2, scale=scale, offset=offset, ax=ax, xlabel='time/min', ylabel='expression', fontsize=20, portion=0.2)\n",
    "ax.set_xlim(xlim)\n",
    "ax.set_ylim(ylim)\n",
    "ax.set_title('log likelihood: {ll:.3}'.format(ll=m_full2.log_likelihood()), fontsize=20)\n",
    "mlai.write_figure(figure=fig,\n",
    "                  filename='../slides/diagrams/gp/della-gatta-gene-gp2.svg', \n",
    "                  transparent=True, frameon=True)"
   ]
  },
  {
   "cell_type": "markdown",
   "metadata": {},
   "source": [
    "### TP53 Gene Data GP\n",
    "\n",
    "<img src=\"../slides/diagrams/gp/della-gatta-gene-gp2.svg\" class=\"\" align=\"\" style=\"\">"
   ]
  },
  {
   "cell_type": "code",
   "execution_count": null,
   "metadata": {},
   "outputs": [],
   "source": [
    "import teaching_plots as plot"
   ]
  },
  {
   "cell_type": "code",
   "execution_count": null,
   "metadata": {},
   "outputs": [],
   "source": [
    "fig, ax = plt.subplots(figsize=plot.big_wide_figsize)\n",
    "plot.model_output(m_full3, scale=scale, offset=offset, ax=ax, xlabel='time/min', ylabel='expression', fontsize=20, portion=0.2)\n",
    "ax.set_xlim(xlim)\n",
    "ax.set_ylim(ylim)\n",
    "ax.set_title('log likelihood: {ll:.3}'.format(ll=m_full3.log_likelihood()), fontsize=20)\n",
    "mlai.write_figure(figure=fig,\n",
    "                  filename='../slides/diagrams/gp/della-gatta-gene-gp3.svg', \n",
    "                  transparent=True, frameon=True)"
   ]
  },
  {
   "cell_type": "markdown",
   "metadata": {},
   "source": [
    "### TP53 Gene Data GP\n",
    "\n",
    "<img src=\"../slides/diagrams/gp/della-gatta-gene-gp3.svg\" class=\"\" align=\"\" style=\"\">"
   ]
  },
  {
   "cell_type": "code",
   "execution_count": null,
   "metadata": {},
   "outputs": [],
   "source": [
    "import teaching_plots as plot"
   ]
  },
  {
   "cell_type": "code",
   "execution_count": null,
   "metadata": {},
   "outputs": [],
   "source": [
    "plot.multiple_optima(diagrams='../slides/diagrams/gp')"
   ]
  },
  {
   "cell_type": "markdown",
   "metadata": {},
   "source": [
    "### Multiple Optima\n",
    "\n",
    "<img src=\"../slides/diagrams/gp/multiple-optima000.svg\" class=\"\" align=\"\" style=\"\">\n",
    "\n",
    "<!--### Multiple Optima\n",
    "\n",
    "\n",
    "<img src=\"../slides/diagrams/gp/multiple-optima001.svg\" class=\"\" align=\"\" style=\"\">-->"
   ]
  },
  {
   "cell_type": "code",
   "execution_count": null,
   "metadata": {},
   "outputs": [],
   "source": [
    "fig, ax=plt.subplots(figsize=plot.big_wide_figsize)\n",
    "plot.model_output(m, scale=scale, offset=offset, ax=ax, fontsize=20, portion=0.5)\n",
    "ax.set_ylim(ylim)\n",
    "ax.set_xlim(xlim)\n",
    "mlai.write_figure(filename='../slides/diagrams/deepgp/della-gatta-gene-deep-gp.svg', \n",
    "            transparent=True, frameon=True)"
   ]
  },
  {
   "cell_type": "markdown",
   "metadata": {},
   "source": [
    "### TP53 Gene Data Deep GP\n",
    "\n",
    "<img src=\"../slides/diagrams/deepgp/della-gatta-gene-deep-gp.svg\" class=\"\" align=\"\" style=\"\">"
   ]
  },
  {
   "cell_type": "code",
   "execution_count": null,
   "metadata": {},
   "outputs": [],
   "source": [
    "fig, ax=plt.subplots(figsize=plot.big_wide_figsize)\n",
    "plot.model_sample(m, scale=scale, offset=offset, samps=10, ax=ax, portion = 0.5)\n",
    "ax.set_ylim(ylim)\n",
    "ax.set_xlim(xlim)\n",
    "mlai.write_figure(figure=fig, filename='../slides/diagrams/deepgp/della-gatta-gene-deep-gp-samples.svg', \n",
    "                  transparent=True, frameon=True)"
   ]
  },
  {
   "cell_type": "markdown",
   "metadata": {},
   "source": [
    "### TP53 Gene Data Deep GP\n",
    "\n",
    "<img src=\"../slides/diagrams/deepgp/della-gatta-gene-deep-gp-samples.svg\" class=\"\" align=\"\" style=\"\">"
   ]
  },
  {
   "cell_type": "code",
   "execution_count": null,
   "metadata": {},
   "outputs": [],
   "source": [
    "m.visualize(offset=offset, scale=scale, xlim=xlim, ylim=ylim,\n",
    "            dataset='della-gatta-gene',\n",
    "            diagrams='../slides/diagrams/deepgp')"
   ]
  },
  {
   "cell_type": "markdown",
   "metadata": {},
   "source": [
    "### TP53 Gene Data Latent 1\n",
    "\n",
    "<img src=\"../slides/diagrams/deepgp/della-gatta-gene-deep-gp-layer-0.svg\" class=\"\" align=\"\" style=\"\">\n",
    "\n",
    "### TP53 Gene Data Latent 2\n",
    "\n",
    "<img src=\"../slides/diagrams/deepgp/della-gatta-gene-deep-gp-layer-1.svg\" class=\"\" align=\"\" style=\"\">"
   ]
  },
  {
   "cell_type": "code",
   "execution_count": null,
   "metadata": {},
   "outputs": [],
   "source": [
    "fig, ax=plt.subplots(figsize=plot.big_wide_figsize)\n",
    "m.visualize_pinball(offset=offset, ax=ax, scale=scale, xlim=xlim, ylim=ylim, portion=0.1, points=50)\n",
    "mlai.write_figure(figure=fig, filename='../slides/diagrams/deepgp/della-gatta-gene-deep-gp-pinball.svg', \n",
    "                  transparent=True, frameon=True, ax=ax)"
   ]
  },
  {
   "cell_type": "markdown",
   "metadata": {},
   "source": [
    "### TP53 Gene Pinball Plot\n",
    "\n",
    "<img src=\"../slides/diagrams/deepgp/della-gatta-gene-deep-gp-pinball.svg\" class=\"\" align=\"\" style=\"\">"
   ]
  },
  {
   "cell_type": "code",
   "execution_count": null,
   "metadata": {},
   "outputs": [],
   "source": [
    "fig, ax = plt.subplots(figsize=plot.big_wide_figsize)\n",
    "_ = ax.plot(x, y, 'r.',markersize=10)\n",
    "_ = ax.set_xlabel('$x$', fontsize=20)\n",
    "_ = ax.set_ylabel('$y$', fontsize=20)\n",
    "xlim = (-2, 2)\n",
    "ylim = (-0.6, 1.6)\n",
    "ax.set_ylim(ylim)\n",
    "ax.set_xlim(xlim)\n",
    "mlai.write_figure(figure=fig, filename='../../slides/diagrams/datasets/step-function.svg', \n",
    "            transparent=True, frameon=True)"
   ]
  },
  {
   "cell_type": "markdown",
   "metadata": {},
   "source": [
    "### Step Function Data\n",
    "\n",
    "<img src=\"../slides/diagrams/datasets/step-function.svg\" class=\"\" align=\"\" style=\"\">"
   ]
  },
  {
   "cell_type": "code",
   "execution_count": null,
   "metadata": {},
   "outputs": [],
   "source": [
    "fig, ax=plt.subplots(figsize=plot.big_wide_figsize)\n",
    "plot.model_output(m_full, scale=scale, offset=offset, ax=ax, fontsize=20, portion=0.5)\n",
    "ax.set_ylim(ylim)\n",
    "ax.set_xlim(xlim)\n",
    "\n",
    "mlai.write_figure(figure=fig,filename='../../slides/diagrams/gp/step-function-gp.svg', \n",
    "            transparent=True, frameon=True)"
   ]
  },
  {
   "cell_type": "markdown",
   "metadata": {},
   "source": [
    "### Step Function Data GP\n",
    "\n",
    "<img src=\"../slides/diagrams/gp/step-function-gp.svg\" class=\"\" align=\"\" style=\"\">"
   ]
  },
  {
   "cell_type": "code",
   "execution_count": null,
   "metadata": {},
   "outputs": [],
   "source": [
    "fig, ax=plt.subplots(figsize=plot.big_wide_figsize)\n",
    "plot.model_output(m, scale=scale, offset=offset, ax=ax, fontsize=20, portion=0.5)\n",
    "ax.set_ylim(ylim)\n",
    "ax.set_xlim(xlim)\n",
    "mlai.write_figure(filename='../slides/diagrams/deepgp/step-function-deep-gp.svg', \n",
    "            transparent=True, frameon=True)"
   ]
  },
  {
   "cell_type": "markdown",
   "metadata": {},
   "source": [
    "### Step Function Data Deep GP\n",
    "\n",
    "<img src=\"../slides/diagrams/deepgp/step-function-deep-gp.svg\" class=\"\" align=\"\" style=\"\">"
   ]
  },
  {
   "cell_type": "code",
   "execution_count": null,
   "metadata": {},
   "outputs": [],
   "source": [
    "fig, ax=plt.subplots(figsize=plot.big_wide_figsize)\n",
    "\n",
    "plot.model_sample(m, scale=scale, offset=offset, samps=10, ax=ax, portion = 0.5)\n",
    "ax.set_ylim(ylim)\n",
    "ax.set_xlim(xlim)\n",
    "mlai.write_figure(figure=fig, filename='../slides/diagrams/deepgp/step-function-deep-gp-samples.svg', \n",
    "                  transparent=True, frameon=True)"
   ]
  },
  {
   "cell_type": "markdown",
   "metadata": {},
   "source": [
    "### Step Function Data Deep GP\n",
    "\n",
    "<img src=\"../slides/diagrams/deepgp/step-function-deep-gp-samples.svg\" class=\"\" align=\"\" style=\"\">"
   ]
  },
  {
   "cell_type": "code",
   "execution_count": null,
   "metadata": {},
   "outputs": [],
   "source": [
    "m.visualize(offset=offset, scale=scale, xlim=xlim, ylim=ylim,\n",
    "            dataset='step-function',\n",
    "            diagrams='../slides/diagrams/deepgp')"
   ]
  },
  {
   "cell_type": "markdown",
   "metadata": {},
   "source": [
    "### Step Function Data Latent 1\n",
    "\n",
    "<img src=\"../slides/diagrams/deepgp/step-function-deep-gp-layer-0.svg\" class=\"\" align=\"\" style=\"\">\n",
    "\n",
    "### Step Function Data Latent 2\n",
    "\n",
    "<img src=\"../slides/diagrams/deepgp/step-function-deep-gp-layer-1.svg\" class=\"\" align=\"\" style=\"\">\n",
    "\n",
    "### Step Function Data Latent 3\n",
    "\n",
    "<img src=\"../slides/diagrams/deepgp/step-function-deep-gp-layer-2.svg\" class=\"\" align=\"\" style=\"\">\n",
    "\n",
    "### Step Function Data Latent 4\n",
    "\n",
    "<img src=\"../slides/diagrams/deepgp/step-function-deep-gp-layer-3.svg\" class=\"\" align=\"\" style=\"\">"
   ]
  },
  {
   "cell_type": "code",
   "execution_count": null,
   "metadata": {},
   "outputs": [],
   "source": [
    "fig, ax=plt.subplots(figsize=plot.big_wide_figsize)\n",
    "m.visualize_pinball(offset=offset, ax=ax, scale=scale, xlim=xlim, ylim=ylim, portion=0.1, points=50)\n",
    "mlai.write_figure(figure=fig, filename='../slides/diagrams/deepgp/step-function-deep-gp-pinball.svg', \n",
    "                  transparent=True, frameon=True, ax=ax)"
   ]
  },
  {
   "cell_type": "markdown",
   "metadata": {},
   "source": [
    "### Step Function Pinball Plot\n",
    "\n",
    "<img src=\"../slides/diagrams/deepgp/step-function-deep-gp-pinball.svg\" class=\"\" align=\"\" style=\"\">\n",
    "\n",
    "<a href=\"file:///Users/neil/lawrennd/talks/_deepgp/includes/deep-motorcycle.md\">\\_deepgp/includes/deep-motorcycle.md</a>\n",
    "\n",
    "<a href=\"file:///Users/neil/lawrennd/talks/_gp/includes/motorcycle-helmet-gp.md\">\\_gp/includes/motorcycle-helmet-gp.md</a>\n",
    "\n",
    "<a href=\"file:///Users/neil/lawrennd/talks/_ml/includes/motorcycle-helmet-data.md\">\\_ml/includes/motorcycle-helmet-data.md</a>"
   ]
  },
  {
   "cell_type": "code",
   "execution_count": null,
   "metadata": {},
   "outputs": [],
   "source": [
    "fig, ax = plt.subplots(figsize=plot.big_wide_figsize)\n",
    "_ = ax.plot(x, y, 'r.',markersize=10)\n",
    "_ = ax.set_xlabel('time', fontsize=20)\n",
    "_ = ax.set_ylabel('acceleration', fontsize=20)\n",
    "ax.set_xlim(xlim)\n",
    "ax.set_ylim(ylim)\n",
    "mlai.write_figure(filename='../../slides/diagrams/datasets/motorcycle-helmet.svg', \n",
    "            transparent=True, frameon=True)"
   ]
  },
  {
   "cell_type": "markdown",
   "metadata": {},
   "source": [
    "### Motorcycle Helmet Data\n",
    "\n",
    "<img src=\"../slides/diagrams/datasets/motorcycle-helmet.svg\" class=\"\" align=\"\" style=\"\">"
   ]
  },
  {
   "cell_type": "code",
   "execution_count": null,
   "metadata": {},
   "outputs": [],
   "source": [
    "fig, ax=plt.subplots(figsize=plot.big_wide_figsize)\n",
    "plot.model_output(m_full, scale=scale, offset=offset, ax=ax, xlabel='time', ylabel='acceleration/$g$', fontsize=20, portion=0.5)\n",
    "xlim=(-20,80)\n",
    "ylim=(-180,120)\n",
    "ax.set_ylim(ylim)\n",
    "ax.set_xlim(xlim)\n",
    "mlai.write_figure(figure=fig,filename='../../slides/diagrams/gp/motorcycle-helmet-gp.svg', \n",
    "            transparent=True, frameon=True)"
   ]
  },
  {
   "cell_type": "markdown",
   "metadata": {},
   "source": [
    "### Motorcycle Helmet Data GP\n",
    "\n",
    "<img src=\"../slides/diagrams/gp/motorcycle-helmet-gp.svg\" class=\"\" align=\"\" style=\"\">"
   ]
  },
  {
   "cell_type": "code",
   "execution_count": null,
   "metadata": {},
   "outputs": [],
   "source": [
    "import teaching_plots as plot\n",
    "import mlai"
   ]
  },
  {
   "cell_type": "code",
   "execution_count": null,
   "metadata": {},
   "outputs": [],
   "source": [
    "fig, ax=plt.subplots(figsize=plot.big_wide_figsize)\n",
    "plot.model_output(m, scale=scale, offset=offset, ax=ax, xlabel='time', ylabel='acceleration/$g$', fontsize=20, portion=0.5)\n",
    "ax.set_ylim(ylim)\n",
    "ax.set_xlim(xlim)\n",
    "mlai.write_figure(filename='../slides/diagrams/deepgp/motorcycle-helmet-deep-gp.svg', \n",
    "            transparent=True, frameon=True)"
   ]
  },
  {
   "cell_type": "markdown",
   "metadata": {},
   "source": [
    "### Motorcycle Helmet Data Deep GP\n",
    "\n",
    "<img src=\"../slides/diagrams/deepgp/motorcycle-helmet-deep-gp.svg\" class=\"\" align=\"\" style=\"\">"
   ]
  },
  {
   "cell_type": "code",
   "execution_count": null,
   "metadata": {},
   "outputs": [],
   "source": [
    "import teaching_plots as plot\n",
    "import mlai"
   ]
  },
  {
   "cell_type": "code",
   "execution_count": null,
   "metadata": {},
   "outputs": [],
   "source": [
    "fig, ax=plt.subplots(figsize=plot.big_wide_figsize)\n",
    "plot.model_sample(m, scale=scale, offset=offset, samps=10, ax=ax, xlabel='time', ylabel='acceleration/$g$', portion = 0.5)\n",
    "ax.set_ylim(ylim)\n",
    "ax.set_xlim(xlim)\n",
    "\n",
    "mlai.write_figure(figure=fig, filename='../slides/diagrams/deepgp/motorcycle-helmet-deep-gp-samples.svg', \n",
    "                  transparent=True, frameon=True)"
   ]
  },
  {
   "cell_type": "markdown",
   "metadata": {},
   "source": [
    "### Motorcycle Helmet Data Deep GP\n",
    "\n",
    "<img src=\"../slides/diagrams/deepgp/motorcycle-helmet-deep-gp-samples.svg\" class=\"\" align=\"\" style=\"\">"
   ]
  },
  {
   "cell_type": "code",
   "execution_count": null,
   "metadata": {},
   "outputs": [],
   "source": [
    "m.visualize(xlim=xlim, ylim=ylim, scale=scale,offset=offset, \n",
    "            xlabel=\"time\", ylabel=\"acceleration/$g$\", portion=0.5,\n",
    "            dataset='motorcycle-helmet',\n",
    "            diagrams='../slides/diagrams/deepgp')"
   ]
  },
  {
   "cell_type": "markdown",
   "metadata": {},
   "source": [
    "### Motorcycle Helmet Data Latent 1\n",
    "\n",
    "<img src=\"../slides/diagrams/deepgp/motorcycle-helmet-deep-gp-layer-0.svg\" class=\"\" align=\"\" style=\"\">\n",
    "\n",
    "### Motorcycle Helmet Data Latent 2\n",
    "\n",
    "<img src=\"../slides/diagrams/deepgp/motorcycle-helmet-deep-gp-layer-1.svg\" class=\"\" align=\"\" style=\"\">"
   ]
  },
  {
   "cell_type": "code",
   "execution_count": null,
   "metadata": {},
   "outputs": [],
   "source": [
    "fig, ax=plt.subplots(figsize=plot.big_wide_figsize)\n",
    "m.visualize_pinball(ax=ax, xlabel='time', ylabel='acceleration/g', \n",
    "                    points=50, scale=scale, offset=offset, portion=0.1)\n",
    "mlai.write_figure(figure=fig, filename='../slides/diagrams/deepgp/motorcycle-helmet-deep-gp-pinball.svg', \n",
    "                  transparent=True, frameon=True)"
   ]
  },
  {
   "cell_type": "markdown",
   "metadata": {},
   "source": [
    "### Motorcycle Helmet Pinball Plot\n",
    "\n",
    "<img src=\"../slides/diagrams/deepgp/motorcycle-helmet-deep-gp-pinball.svg\" class=\"\" align=\"\" style=\"\">\n",
    "\n",
    "<a href=\"file:///Users/neil/lawrennd/talks/_deepgp/includes/deep-robot-wireless.md\">\\_deepgp/includes/deep-robot-wireless.md</a>\n",
    "\n",
    "<a href=\"file:///Users/neil/lawrennd/talks/_gp/includes/robot-wireless-gp.md\">\\_gp/includes/robot-wireless-gp.md</a>\n",
    "\n",
    "<a href=\"file:///Users/neil/lawrennd/talks/_ml/includes/robot-wireless-data.md\">\\_ml/includes/robot-wireless-data.md</a>"
   ]
  },
  {
   "cell_type": "code",
   "execution_count": null,
   "metadata": {},
   "outputs": [],
   "source": [
    "fig, ax = plt.subplots(figsize=plot.big_figsize)\n",
    "plt.plot(data['X'][:, 1], data['X'][:, 2], 'r.', markersize=5)\n",
    "ax.set_xlabel('x position', fontsize=20)\n",
    "ax.set_ylabel('y position', fontsize=20)\n",
    "mlai.write_figure(figure=fig, filename='../../slides/diagrams/datasets/robot-wireless-ground-truth.svg', transparent=True, frameon=True)"
   ]
  },
  {
   "cell_type": "markdown",
   "metadata": {},
   "source": [
    "### Robot Wireless Ground Truth\n",
    "\n",
    "<img src=\"../slides/diagrams/datasets/robot-wireless-ground-truth.svg\" class=\"\" align=\"\" style=\"\">"
   ]
  },
  {
   "cell_type": "code",
   "execution_count": null,
   "metadata": {},
   "outputs": [],
   "source": [
    "output_dim=1\n",
    "xlim = (-0.3, 1.3)\n",
    "fig, ax = plt.subplots(figsize=plot.big_wide_figsize)\n",
    "_ = ax.plot(x.flatten(), y[:, output_dim], \n",
    "            'r.', markersize=5)\n",
    "\n",
    "ax.set_xlabel('time', fontsize=20)\n",
    "ax.set_ylabel('signal strength', fontsize=20)\n",
    "xlim = (-0.2, 1.2)\n",
    "ylim = (-0.6, 2.0)\n",
    "ax.set_xlim(xlim)\n",
    "ax.set_ylim(ylim)\n",
    "\n",
    "mlai.write_figure(figure=fig, filename='../../slides/diagrams/datasets/robot-wireless-dim-' + str(output_dim) + '.svg', \n",
    "            transparent=True, frameon=True)"
   ]
  },
  {
   "cell_type": "markdown",
   "metadata": {},
   "source": [
    "### Robot WiFi Data\n",
    "\n",
    "<img src=\"../slides/diagrams/datasets/robot-wireless-dim-1.svg\" class=\"\" align=\"\" style=\"\">"
   ]
  },
  {
   "cell_type": "code",
   "execution_count": null,
   "metadata": {},
   "outputs": [],
   "source": [
    "fig, ax=plt.subplots(figsize=plot.big_wide_figsize)\n",
    "plot.model_output(m_full, output_dim=output_dim, scale=scale, offset=offset, ax=ax, \n",
    "                  xlabel='time', ylabel='signal strength', fontsize=20, portion=0.5)\n",
    "ax.set_ylim(ylim)\n",
    "ax.set_xlim(xlim)\n",
    "mlai.write_figure(filename='../../slides/diagrams/gp/robot-wireless-gp-dim-' + str(output_dim)+ '.svg', \n",
    "            transparent=True, frameon=True)"
   ]
  },
  {
   "cell_type": "markdown",
   "metadata": {},
   "source": [
    "### Robot WiFi Data GP\n",
    "\n",
    "<img src=\"../slides/diagrams/gp/robot-wireless-gp-dim-1.svg\" class=\"\" align=\"\" style=\"\">"
   ]
  },
  {
   "cell_type": "code",
   "execution_count": null,
   "metadata": {},
   "outputs": [],
   "source": [
    "fig, ax=plt.subplots(figsize=plot.big_wide_figsize)\n",
    "plot.model_output(m, output_dim=output_dim, scale=scale, offset=offset, ax=ax, \n",
    "                  xlabel='time', ylabel='signal strength', fontsize=20, portion=0.5)\n",
    "ax.set_ylim(ylim)\n",
    "ax.set_xlim(xlim)\n",
    "mlai.write_figure(figure=fig, filename='../slides/diagrams/deepgp/robot-wireless-deep-gp-dim-' + str(output_dim)+ '.svg', \n",
    "                  transparent=True, frameon=True)"
   ]
  },
  {
   "cell_type": "markdown",
   "metadata": {},
   "source": [
    "### Robot WiFi Data Deep GP\n",
    "\n",
    "<img src=\"../slides/diagrams/deepgp/robot-wireless-deep-gp-dim-1.svg\" class=\"\" align=\"\" style=\"\">"
   ]
  },
  {
   "cell_type": "code",
   "execution_count": null,
   "metadata": {},
   "outputs": [],
   "source": [
    "fig, ax=plt.subplots(figsize=plot.big_wide_figsize)\n",
    "plot.model_sample(m, output_dim=output_dim, scale=scale, offset=offset, samps=10, ax=ax,\n",
    "                  xlabel='time', ylabel='signal strength', fontsize=20, portion=0.5)\n",
    "ax.set_ylim(ylim)\n",
    "ax.set_xlim(xlim)\n",
    "mlai.write_figure(figure=fig, filename='../slides/diagrams/deepgp/robot-wireless-deep-gp-samples-dim-' + str(output_dim)+ '.svg', \n",
    "                  transparent=True, frameon=True)"
   ]
  },
  {
   "cell_type": "markdown",
   "metadata": {},
   "source": [
    "### Robot WiFi Data Deep GP\n",
    "\n",
    "<img src=\"../slides/diagrams/deepgp/robot-wireless-deep-gp-samples-dim-1.svg\" class=\"\" align=\"\" style=\"\">\n",
    "\n",
    "### Robot WiFi Data Latent Space\n",
    "\n",
    "<img src=\"../slides/diagrams/deepgp/robot-wireless-ground-truth.svg\" class=\"\" align=\"\" style=\"\">"
   ]
  },
  {
   "cell_type": "code",
   "execution_count": null,
   "metadata": {},
   "outputs": [],
   "source": [
    "fig, ax = plt.subplots(figsize=plot.big_figsize)\n",
    "ax.plot(m.layers[-2].latent_space.mean[:, 0], \n",
    "        m.layers[-2].latent_space.mean[:, 1], \n",
    "        'r.-', markersize=5)\n",
    "\n",
    "ax.set_xlabel('latent dimension 1', fontsize=20)\n",
    "ax.set_ylabel('latent dimension 2', fontsize=20)\n",
    "\n",
    "mlai.write_figure(figure=fig, filename='../slides/diagrams/deepgp/robot-wireless-latent-space.svg', \n",
    "            transparent=True, frameon=True)"
   ]
  },
  {
   "cell_type": "markdown",
   "metadata": {},
   "source": [
    "### Robot WiFi Data Latent Space\n",
    "\n",
    "<img src=\"../slides/diagrams/deepgp/robot-wireless-latent-space.svg\" class=\"\" align=\"\" style=\"\">\n",
    "\n",
    "<a href=\"file:///Users/neil/lawrennd/talks/_deepgp/includes/deep-high-five.md\">\\_deepgp/includes/deep-high-five.md</a>\n",
    "\n",
    "### Motion Capture\n",
    "\n",
    "-   ‘High five’ data.\n",
    "-   Model learns structure between two interacting subjects.\n",
    "\n",
    "### Shared LVM\n",
    "\n",
    "<img src=\"../slides/diagrams/shared.svg\" class=\"\" align=\"\" style=\"\">\n",
    "\n",
    "### \n",
    "\n",
    "<img class=\"negate\" src=\"../slides/diagrams/deep-gp-high-five2.png\" width=\"100%\" height=\"auto\" align=\"\" style=\"background:none; border:none; box-shadow:none;\">\n",
    "\n",
    "<a href=\"file:///Users/neil/lawrennd/talks/_deepgp/includes/deep-usps-digits.md\">\\_deepgp/includes/deep-usps-digits.md</a>\n",
    "\n",
    "<small>[Thanks to: Zhenwen Dai and Neil D.\n",
    "Lawrence]{style=\"text-align:right\"}</small>"
   ]
  },
  {
   "cell_type": "code",
   "execution_count": null,
   "metadata": {},
   "outputs": [],
   "source": [
    "import matplotlib.pyplot as plt\n",
    "from matplotlib import rc\n",
    "import teaching_plots as plot\n",
    "import mlai"
   ]
  },
  {
   "cell_type": "code",
   "execution_count": null,
   "metadata": {},
   "outputs": [],
   "source": [
    "rc(\"font\", **{'family':'sans-serif','sans-serif':['Helvetica'],'size':20})\n",
    "fig, ax = plt.subplots(figsize=plot.big_figsize)\n",
    "for d in digits:\n",
    "    ax.plot(m.layer_1.X.mean[labels==d,0],m.layer_1.X.mean[labels==d,1],'.',label=str(d))\n",
    "_ = plt.legend()\n",
    "mlai.write_figure(figure=fig, filename=\"../slides/diagrams/deepgp/usps-digits-latent.svg\", transparent=True)"
   ]
  },
  {
   "cell_type": "markdown",
   "metadata": {},
   "source": [
    "### \n",
    "\n",
    "<img src=\"../slides/diagrams/usps-digits-latent.svg\" class=\"\" align=\"\" style=\"\">"
   ]
  },
  {
   "cell_type": "code",
   "execution_count": null,
   "metadata": {},
   "outputs": [],
   "source": [
    "import matplotlib.pyplot as plt\n",
    "import mlai"
   ]
  },
  {
   "cell_type": "code",
   "execution_count": null,
   "metadata": {},
   "outputs": [],
   "source": [
    "fig, ax = plt.subplots(figsize=plot.big_figsize)\n",
    "for i in range(5):\n",
    "    for j in range(i):\n",
    "        dims=[i, j]\n",
    "        ax.cla()\n",
    "        for d in digits:\n",
    "            ax.plot(m.obslayer.X.mean[labels==d,dims[0]],\n",
    "                 m.obslayer.X.mean[labels==d,dims[1]],\n",
    "                 '.', label=str(d))\n",
    "        plt.legend()\n",
    "        plt.xlabel('dimension ' + str(dims[0]))\n",
    "        plt.ylabel('dimension ' + str(dims[1]))\n",
    "        mlai.write_figure(figure=fig, filename=\"../slides/diagrams/deepgp/usps-digits-hidden-\" + str(dims[0]) + '-' + str(dims[1]) + '.svg', transparent=True)"
   ]
  },
  {
   "cell_type": "markdown",
   "metadata": {},
   "source": [
    "### \n",
    "\n",
    "<img src=\"../slides/diagrams/usps-digits-hidden-1-0.svg\" class=\"\" align=\"\" style=\"\">\n",
    "\n",
    "### \n",
    "\n",
    "<img src=\"../slides/diagrams/usps-digits-hidden-2-0.svg\" class=\"\" align=\"\" style=\"\">\n",
    "\n",
    "### \n",
    "\n",
    "<img src=\"../slides/diagrams/usps-digits-hidden-3-0.svg\" class=\"\" align=\"\" style=\"\">\n",
    "\n",
    "### \n",
    "\n",
    "<img src=\"../slides/diagrams/usps-digits-hidden-4-0.svg\" class=\"\" align=\"\" style=\"\">"
   ]
  },
  {
   "cell_type": "code",
   "execution_count": null,
   "metadata": {},
   "outputs": [],
   "source": [
    "import matplotlib.pyplot as plt\n",
    "import mlai"
   ]
  },
  {
   "cell_type": "code",
   "execution_count": null,
   "metadata": {},
   "outputs": [],
   "source": [
    "yt = m.predict(x)\n",
    "fig, axs = plt.subplots(rows,cols,figsize=(10,6))\n",
    "for i in range(rows):\n",
    "    for j in range(cols):\n",
    "        #v = np.random.normal(loc=yt[0][i*cols+j, :], scale=np.sqrt(yt[1][i*cols+j, :]))\n",
    "        v = yt[0][i*cols+j, :]\n",
    "        axs[i,j].imshow(v.reshape(28,28), \n",
    "                        cmap='gray', interpolation='none',\n",
    "                        aspect='equal')\n",
    "        axs[i,j].set_axis_off()\n",
    "mlai.write_figure(figure=fig, filename=\"../slides/diagrams/deepgp/digit-samples-deep-gp.svg\", transparent=True)"
   ]
  },
  {
   "cell_type": "markdown",
   "metadata": {},
   "source": [
    "### \n",
    "\n",
    "<img src=\"../slides/diagrams/digit-samples-deep-gp.svg\" class=\"\" align=\"\" style=\"\">\n",
    "\n",
    "<a href=\"file:///Users/neil/lawrennd/talks/_health/includes/deep-health-model.md\">\\_health/includes/deep-health-model.md</a>\n",
    "\n",
    "### Deep Health\n",
    "\n",
    "<img src=\"../slides/diagrams/deep-health.svg\" class=\"\" align=\"\" style=\"\">\n",
    "\n",
    "### From NIPS 2017\n",
    "\n",
    "-   *Gaussian process based nonlinear latent structure discovery in\n",
    "    multivariate spike train data* @Anqi:gpspike2017\n",
    "-   *Doubly Stochastic Variational Inference for Deep Gaussian\n",
    "    Processes* @Salimbeni:doubly2017\n",
    "-   *Deep Multi-task Gaussian Processes for Survival Analysis with\n",
    "    Competing Risks* @Alaa:deep2017\n",
    "-   *Counterfactual Gaussian Processes for Reliable Decision-making and\n",
    "    What-if Reasoning* @Schulam:counterfactual17\n",
    "\n",
    "### Some Other Works\n",
    "\n",
    "-   *Deep Survival Analysis* @Ranganath-survival16\n",
    "-   *Recurrent Gaussian Processes* @Mattos:recurrent15\n",
    "-   *Gaussian Process Based Approaches for Survival Analysis*\n",
    "    @Saul:thesis2016\n",
    "\n",
    "### Data Driven\n",
    "\n",
    "-   Machine Learning: Replicate Processes through *direct use of data*.\n",
    "-   Aim to emulate cognitive processes through the use of data.\n",
    "-   Use data to provide new approaches in control and optimization that\n",
    "    should allow for emulation of human motor skills.\n",
    "\n",
    "### Process Emulation\n",
    "\n",
    "-   Key idea: emulate the process as a mathematical function.\n",
    "-   Each function has a set of *parameters* which control its behavior.\n",
    "-   *Learning* is the process of changing these parameters to change the\n",
    "    shape of the function\n",
    "-   Choice of which class of mathematical functions we use is a vital\n",
    "    component of our *model*.\n",
    "\n",
    "### Emukit Playground\n",
    "\n",
    "-   Work [Adam Hirst](https://twitter.com/_AdamHirst), Software\n",
    "    Engineering Intern and Cliff McCollum.\n",
    "\n",
    "-   Tutorial on emulation.\n",
    "\n",
    "### Emukit Playground\n",
    "\n",
    "<div style=\"text-align:center\">\n",
    "\n",
    "[<img class=\"\" src=\"../slides/diagrams/uq/emukit-playground.png\" width=\"80%\" height=\"auto\" align=\"center\" style=\"background:none; border:none; box-shadow:none;\">](https://amzn.github.io/emukit-playground/)\n",
    "\n",
    "</div>\n",
    "\n",
    "### Emukit Playground\n",
    "\n",
    "<div style=\"text-align:center\">\n",
    "\n",
    "[<img class=\"negate\" src=\"../slides/diagrams/uq/emukit-playground-bayes-opt.png\" width=\"80%\" height=\"auto\" align=\"center\" style=\"background:none; border:none; box-shadow:none;\">](https://amzn.github.io/emukit-playground/#!/learn/bayesian_optimization)\n",
    "\n",
    "</div>\n",
    "\n",
    "### Uncertainty Quantification\n",
    "\n",
    "-   Deep nets are powerful approach to images, speech, language.\n",
    "-   Proposal: Deep GPs may also be a great approach, but better to\n",
    "    deploy according to natural strengths.\n",
    "\n",
    "### Uncertainty Quantification\n",
    "\n",
    "-   Probabilistic numerics, surrogate modelling, emulation, and UQ.\n",
    "-   Not a fan of AI as a term.\n",
    "-   But we are faced with increasing amounts of *algorithmic decision\n",
    "    making*.\n",
    "\n",
    "### ML and Decision Making\n",
    "\n",
    "-   When trading off decisions: compute or acquire data?\n",
    "-   There is a critical need for uncertainty.\n",
    "\n",
    "### Uncertainty Quantification\n",
    "\n",
    "> Uncertainty quantification (UQ) is the science of quantitative\n",
    "> characterization and reduction of uncertainties in both computational\n",
    "> and real world applications. It tries to determine how likely certain\n",
    "> outcomes are if some aspects of the system are not exactly known.\n",
    "\n",
    "-   Interaction between physical and virtual worlds of major interest.\n",
    "\n",
    "### Contrast\n",
    "\n",
    "-   Simulation in *reinforcement learning*.\n",
    "-   Known as *data augmentation*.\n",
    "-   Newer, similar in spirit, but typically ignores uncertainty.\n",
    "\n",
    "### Example: Formula One Racing\n",
    "\n",
    "-   Designing an F1 Car requires CFD, Wind Tunnel, Track Testing etc.\n",
    "\n",
    "-   How to combine them?\n",
    "\n",
    "### Mountain Car Simulator\n",
    "\n",
    "<div style=\"text-align:center\">\n",
    "\n",
    "<img class=\"negate\" src=\"../slides/diagrams/uq/mountaincar.png\" width=\"\" height=\"auto\" align=\"center\" style=\"background:none; border:none; box-shadow:none;\">\n",
    "\n",
    "</div>\n",
    "\n",
    "### Car Dynamics\n",
    "\n",
    "$$\\inputVector_{t+1} = \\mappingFunction(\\inputVector_{t},\\textbf{u}_{t})$$\n",
    "\n",
    "where $\\textbf{u}_t$ is the action force, $\\inputVector_t = (p_t, v_t)$\n",
    "is the vehicle state\n",
    "\n",
    "### Policy\n",
    "\n",
    "-   Assume policy is linear with parameters $\\boldsymbol{\\theta}$\n",
    "\n",
    "$$\\pi(\\inputVector,\\theta)= \\theta_0 + \\theta_p p + \\theta_vv.$$\n",
    "\n",
    "### Emulate the Mountain Car\n",
    "\n",
    "-   Goal is find $\\theta$ such that\n",
    "\n",
    "$$\\theta^* = arg \\max_{\\theta} R_T(\\theta).$$\n",
    "\n",
    "-   Reward is computed as 100 for target, minus squared sum of actions"
   ]
  },
  {
   "cell_type": "code",
   "execution_count": null,
   "metadata": {},
   "outputs": [],
   "source": [
    "HTML(anim.to_jshtml())"
   ]
  },
  {
   "cell_type": "code",
   "execution_count": null,
   "metadata": {},
   "outputs": [],
   "source": [
    "mc.save_frames(frames, \n",
    "                  diagrams='../slides/diagrams/uq', \n",
    "                  filename='mountain_car_random.html')"
   ]
  },
  {
   "cell_type": "markdown",
   "metadata": {},
   "source": [
    "### Random Linear Controller\n",
    "\n",
    "<iframe src=\"../slides/diagrams/uq/mountain_car_random.html\" width=\"1024\" height=\"768\" allowtransparency=\"true\" frameborder=\"0\">\n",
    "</iframe>"
   ]
  },
  {
   "cell_type": "code",
   "execution_count": null,
   "metadata": {},
   "outputs": [],
   "source": [
    "HTML(anim.to_jshtml())"
   ]
  },
  {
   "cell_type": "code",
   "execution_count": null,
   "metadata": {},
   "outputs": [],
   "source": [
    "mc.save_frames(frames, \n",
    "                  diagrams='../slides/diagrams/uq', \n",
    "                  filename='mountain_car_simulated.html')"
   ]
  },
  {
   "cell_type": "markdown",
   "metadata": {},
   "source": [
    "### Best Controller after 50 Iterations of Bayesian Optimization\n",
    "\n",
    "<iframe src=\"../slides/diagrams/uq/mountain_car_simulated.html\" width=\"1024\" height=\"768\" allowtransparency=\"true\" frameborder=\"0\">\n",
    "</iframe>\n",
    "### Data Efficient Emulation\n",
    "\n",
    "-   For standard Bayesian Optimization ignored *dynamics* of the car.\n",
    "\n",
    "-   For more data efficiency, first *emulate* the dynamics.\n",
    "\n",
    "-   Then do Bayesian optimization of the *emulator*.\n",
    "\n",
    "-   Use a Gaussian process to model $$\\Delta v_{t+1} = v_{t+1} - v_{t}$$\n",
    "    and $$\\Delta x_{t+1} = p_{t+1} - p_{t}$$\n",
    "\n",
    "-   Two processes, one with mean $v_{t}$ one with mean $p_{t}$\n",
    "\n",
    "### Emulator Training\n",
    "\n",
    "-   Used 500 randomly selected points to train emulators.\n",
    "\n",
    "-   Can make proces smore efficient through *experimental design*."
   ]
  },
  {
   "cell_type": "code",
   "execution_count": null,
   "metadata": {},
   "outputs": [],
   "source": [
    "control = mc.plot_control(velocity_model)\n",
    "interact(control.plot_slices, control=(-1, 1, 0.05))"
   ]
  },
  {
   "cell_type": "code",
   "execution_count": null,
   "metadata": {},
   "outputs": [],
   "source": [
    "mc.emu_sim_comparison(env, controller_gains, [position_model, velocity_model], \n",
    "                      max_steps=500, diagrams='../slides/diagrams/uq')"
   ]
  },
  {
   "cell_type": "markdown",
   "metadata": {},
   "source": [
    "### Comparison of Emulation and Simulation\n",
    "\n",
    "<img src=\"../slides/diagrams/uq/emu_sim_comparison.svg\" class=\"\" align=\"\" style=\"\">"
   ]
  },
  {
   "cell_type": "code",
   "execution_count": null,
   "metadata": {},
   "outputs": [],
   "source": [
    "HTML(anim.to_jshtml())"
   ]
  },
  {
   "cell_type": "code",
   "execution_count": null,
   "metadata": {},
   "outputs": [],
   "source": [
    "mc.save_frames(frames, \n",
    "                  diagrams='../slides/diagrams/uq', \n",
    "                  filename='mountain_car_emulated.html')"
   ]
  },
  {
   "cell_type": "markdown",
   "metadata": {},
   "source": [
    "### Data Efficiency\n",
    "\n",
    "-   Our emulator used only 500 calls to the simulator.\n",
    "\n",
    "-   Optimizing the simulator directly required 37,500 calls to the\n",
    "    simulator.\n",
    "\n",
    "### Best Controller using Emulator of Dynamics\n",
    "\n",
    "<iframe src=\"../slides/diagrams/uq/mountain_car_emulated.html\" width=\"1024\" height=\"768\" allowtransparency=\"true\" frameborder=\"0\">\n",
    "</iframe>\n",
    "500 calls to the simulator vs 37,500 calls to the simulator\n",
    "\n",
    "$$\\mappingFunction_i\\left(\\inputVector\\right) = \\rho\\mappingFunction_{i-1}\\left(\\inputVector\\right) + \\delta_i\\left(\\inputVector \\right)$$\n",
    "\n",
    "### Multi-Fidelity Emulation\n",
    "\n",
    "$$\\mappingFunction_i\\left(\\inputVector\\right) = \\mappingFunctionTwo_{i}\\left(\\mappingFunction_{i-1}\\left(\\inputVector\\right)\\right) + \\delta_i\\left(\\inputVector \\right),$$"
   ]
  },
  {
   "cell_type": "code",
   "execution_count": null,
   "metadata": {},
   "outputs": [],
   "source": [
    "HTML(anim.to_jshtml())"
   ]
  },
  {
   "cell_type": "code",
   "execution_count": null,
   "metadata": {},
   "outputs": [],
   "source": [
    "mc.save_frames(frames, \n",
    "                  diagrams='../slides/diagrams/uq', \n",
    "                  filename='mountain_car_multi_fidelity.html')"
   ]
  },
  {
   "cell_type": "markdown",
   "metadata": {},
   "source": [
    "### Best Controller with Multi-Fidelity Emulator\n",
    "\n",
    "<iframe src=\"../slides/diagrams/uq/mountain_car_multi_fidelity.html\" width=\"1024\" height=\"768\" allowtransparency=\"true\" frameborder=\"0\">\n",
    "</iframe>\n",
    "250 observations of high fidelity simulator and 250 of the low fidelity\n",
    "simulator\n",
    "\n",
    "### Emukit\n",
    "\n",
    "-   Work by Javier Gonzalez, Andrei Paleyes, Mark Pullin, Maren\n",
    "    Mahsereci.\n",
    "-   Available on [Github](https://github.com/amzn/emukit)\n",
    "-   Example [sensitivity\n",
    "    notebook](https://github.com/amzn/emukit/blob/develop/notebooks/Emukit-sensitivity-montecarlo.ipynb).\n",
    "\n",
    "### Emukit Software\n",
    "\n",
    "-   *Multi-fidelity emulation*: build surrogate models for multiple\n",
    "    sources of information;\n",
    "-   *Bayesian optimisation*: optimise physical experiments and tune\n",
    "    parameters ML algorithms;\n",
    "-   *Experimental design/Active learning*: design experiments and\n",
    "    perform active learning with ML models;\n",
    "-   *Sensitivity analysis*: analyse the influence of inputs on the\n",
    "    outputs\n",
    "-   *Bayesian quadrature*: compute integrals of functions that are\n",
    "    expensive to evaluate.\n",
    "\n",
    "### MXFusion: Modular Probabilistic Programming on MXNet\n",
    "\n",
    "<div style=\"text-align:center\">\n",
    "\n",
    "<img class=\"\" src=\"../slides/diagrams/ml/mxfusion.png\" width=\"70%\" height=\"auto\" align=\"center\" style=\"background:none; border:none; box-shadow:none;\">\n",
    "\n",
    "</div>\n",
    "\n",
    "<center>\n",
    "<https://github.com/amzn/MXFusion>\n",
    "</center>\n",
    "### MxFusion\n",
    "\n",
    "<table>\n",
    "<tr>\n",
    "<td width=\"70%\">\n",
    "-   Work by Eric Meissner and Zhenwen Dai.\n",
    "-   Probabilistic programming.\n",
    "-   Available on [Github](https://github.com/amzn/mxfusion)\n",
    "    </td>\n",
    "    <td width=\"30%\">\n",
    "    <img class=\"\" src=\"../slides/diagrams/mxfusion-logo.png\" width=\"\" height=\"auto\" align=\"\" style=\"background:none; border:none; box-shadow:none;\">\n",
    "    </td>\n",
    "    </tr>\n",
    "    </table>\n",
    "\n",
    "### MxFusion\n",
    "\n",
    "-   Targeted at challenges we face in emulation.\n",
    "-   Composition of Gaussian processes (Deep GPs)\n",
    "-   Combining GPs with neural networks.\n",
    "-   Example [PPCA\n",
    "    Tutorial](https://github.com/amzn/MXFusion/blob/master/examples/notebooks/ppca_tutorial.ipynb).\n",
    "\n",
    "### Why another framework?\n",
    "\n",
    "-   Existing libraries had either:\n",
    "-   Probabilistic modelling with rich, flexible models and universal\n",
    "    inference or\n",
    "-   Specialized, efficient inference over a subset of models\n",
    "\n",
    "**We needed both**\n",
    "\n",
    "### Key Requirements\n",
    "\n",
    "-   Integration with deep learning\n",
    "-   Flexiblility\n",
    "-   Scalability\n",
    "-   Specialized inference and models support\n",
    "    -   Bayesian Deep Learning methods\n",
    "    -   Rapid prototyping and software re-use\n",
    "    -   GPUs, specialized inference methods\n",
    "\n",
    "### Modularity\n",
    "\n",
    "-   Specialized Inference\n",
    "-   Composability (tinkerability)\n",
    "    -   Better leveraging of expert expertise\n",
    "\n",
    "### What does it look like?\n",
    "\n",
    "**Modelling**\n",
    "\n",
    "**Inference**\n",
    "\n",
    "### Modelling\n",
    "\n",
    "### Directed Graphs\n",
    "\n",
    "-   Variable\n",
    "-   Function\n",
    "-   Distribution\n",
    "\n",
    "### Example"
   ]
  },
  {
   "cell_type": "code",
   "execution_count": null,
   "metadata": {},
   "outputs": [],
   "source": [
    "m = Model()\n",
    "m.mu = Variable()\n",
    "m.s = Variable(transformation=PositiveTransformation())\n",
    "m.Y = Normal.define_variable(mean=m.mu, variance=m.s)"
   ]
  },
  {
   "cell_type": "markdown",
   "metadata": {},
   "source": [
    "### 3 primary components in modeling\n",
    "\n",
    "-   Variable\n",
    "-   Distribution\n",
    "-   Function\n",
    "\n",
    "### 2 primary methods for models\n",
    "\n",
    "-   `log_pdf`\n",
    "-   `draw_samples`\n",
    "\n",
    "### Inference: Two Classes\n",
    "\n",
    "-   Variational Inference\n",
    "-   MCMC Sampling (*soon*) Built on MXNet Gluon (imperative code, not\n",
    "    static graph)\n",
    "\n",
    "### Example"
   ]
  },
  {
   "cell_type": "code",
   "execution_count": null,
   "metadata": {},
   "outputs": [],
   "source": [
    "infr = GradBasedInference(inference_algorithm=MAP(model=m, observed=[m.Y]))\n",
    "infr.run(Y=data)"
   ]
  },
  {
   "cell_type": "markdown",
   "metadata": {},
   "source": [
    "### Modules\n",
    "\n",
    "-   Model + Inference together form building blocks.\n",
    "    -   Just doing modular modeling with universal inference doesn't\n",
    "        really scale, need specialized inference methods for specialized\n",
    "        modelling objects like non-parametrics.\n",
    "\n",
    "### Long term Aim\n",
    "\n",
    "-   Simulate/Emulate the components of the system.\n",
    "    -   Validate with real world using multifidelity.\n",
    "    -   Interpret system using e.g. sensitivity analysis.\n",
    "-   Perform end to end learning to optimize.\n",
    "    -   Maintain interpretability.\n",
    "\n",
    "### Acknowledgments\n",
    "\n",
    "Stefanos Eleftheriadis, John Bronskill, Hugh Salimbeni, Rich Turner,\n",
    "Zhenwen Dai, Javier Gonzalez, Andreas Damianou, Mark Pullin.\n",
    "\n",
    "### Thanks!\n",
    "\n",
    "-   twitter: @lawrennd\n",
    "-   blog:\n",
    "    [http://inverseprobability.com](http://inverseprobability.com/blog.html)\n",
    "\n",
    "### References {#references .unnumbered}"
   ]
  }
 ],
 "metadata": {
  "kernelspec": {
   "display_name": "Python 3",
   "language": "python",
   "name": "python3"
  },
  "language_info": {
   "codemirror_mode": {
    "name": "ipython",
    "version": 3
   },
   "file_extension": ".py",
   "mimetype": "text/x-python",
   "name": "python",
   "nbconvert_exporter": "python",
   "pygments_lexer": "ipython3",
   "version": "3.6.3"
  }
 },
 "nbformat": 4,
 "nbformat_minor": 2
}
