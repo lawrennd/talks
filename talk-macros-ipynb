\ifndef{talkMacrosIpynb}
\define{talkMacrosIpynb}

\define{\div{contents}{class}{style}}{<div class="\class" style="\style">\contents</div>}
\define{\centerdiv{contents}{class}{style}}{<div class="centered \class" style="\style">\contents</div>}

\endif