{
 "cells": [
  {
   "cell_type": "markdown",
   "metadata": {},
   "source": [
    "# Deep GP unsupervised learning\n",
    "\n",
    "This notebook depends on [GPy](https://github.com/SheffieldML/GPy) and [PyDeepGP](https://github.com/SheffieldML/PyDeepGP). These libraries can be installed via pip:\n",
    "```\n",
    "pip install GPy\n",
    "pip install git+https://github.com/SheffieldML/PyDeepGP.git\n",
    "```"
   ]
  },
  {
   "cell_type": "code",
   "execution_count": 13,
   "metadata": {
    "collapsed": true
   },
   "outputs": [],
   "source": [
    "import deepgp\n",
    "import GPy\n",
    "import numpy as np\n",
    "%matplotlib inline\n",
    "from pylab import *"
   ]
  },
  {
   "cell_type": "code",
   "execution_count": 14,
   "metadata": {
    "collapsed": true
   },
   "outputs": [],
   "source": [
    "# Visualization Utility Functions\n",
    "def ax_default(fignum, ax):\n",
    "    if ax is None:\n",
    "        fig = figure(fignum)\n",
    "        ax = fig.add_subplot(111)\n",
    "    else:\n",
    "        fig = ax.figure\n",
    "    return fig, ax\n",
    "\n",
    "def meanplot(x, mu, color='#3300FF', ax=None, fignum=None, linewidth=2,**kw):\n",
    "    _, axes = ax_default(fignum, ax)\n",
    "    return axes.plot(x,mu,color=color,linewidth=linewidth,**kw)\n",
    "\n",
    "def gpplot(x, mu, lower, upper, edgecol='#3300FF', fillcol='#33CCFF', ax=None, fignum=None, **kwargs):\n",
    "    _, axes = ax_default(fignum, ax)\n",
    "\n",
    "    mu = mu.flatten()\n",
    "    x = x.flatten()\n",
    "    lower = lower.flatten()\n",
    "    upper = upper.flatten()\n",
    "\n",
    "    plots = []\n",
    "\n",
    "    #here's the mean\n",
    "    plots.append(meanplot(x, mu, edgecol, axes))\n",
    "\n",
    "    #here's the box\n",
    "    kwargs['linewidth']=0.5\n",
    "    if not 'alpha' in kwargs.keys():\n",
    "        kwargs['alpha'] = 0.3\n",
    "    plots.append(axes.fill(np.hstack((x,x[::-1])),np.hstack((upper,lower[::-1])),color=fillcol,**kwargs))\n",
    "\n",
    "    #this is the edge:\n",
    "    plots.append(meanplot(x, upper,color=edgecol,linewidth=0.2,ax=axes))\n",
    "    plots.append(meanplot(x, lower,color=edgecol,linewidth=0.2,ax=axes))\n",
    "\n",
    "    return plots"
   ]
  },
  {
   "cell_type": "code",
   "execution_count": 7,
   "metadata": {},
   "outputs": [],
   "source": [
    "# Fetch MNIST dataset from mldata.org. \n",
    "# It takes a while.\n",
    "from sklearn.datasets import fetch_mldata\n",
    "mnist = fetch_mldata('MNIST original')"
   ]
  },
  {
   "cell_type": "code",
   "execution_count": 78,
   "metadata": {},
   "outputs": [],
   "source": [
    "# Sub-sample the dataset to make the training faster.\n",
    "np.random.seed(0)\n",
    "digits = [0,1,2,3,4]\n",
    "N_per_digit = 100\n",
    "Y = []\n",
    "labels = []\n",
    "for d in digits:\n",
    "    imgs = mnist['data'][mnist['target']==d]\n",
    "    Y.append(imgs[np.random.permutation(imgs.shape[0])][:N_per_digit])\n",
    "    labels.append(np.ones(N_per_digit)*d)\n",
    "Y = np.vstack(Y).astype(np.float64)\n",
    "labels = np.hstack(labels)\n",
    "Y /= 255."
   ]
  },
  {
   "cell_type": "markdown",
   "metadata": {},
   "source": [
    "### Intialize the Deep GP model with two hidden layer"
   ]
  },
  {
   "cell_type": "code",
   "execution_count": 79,
   "metadata": {},
   "outputs": [
    {
     "name": "stdout",
     "output_type": "stream",
     "text": [
      "\n",
      "Name : deepgp\n",
      "Objective : 83509577.45302136\n",
      "Number of Parameters : 7460\n",
      "Number of Optimization Parameters : 7456\n",
      "Updates : True\n",
      "Parameters:\n",
      "  \u001b[1mdeepgp.                         \u001b[0;0m  |              value  |  constraints  |  priors\n",
      "  \u001b[1mobslayer.inducing_inputs        \u001b[0;0m  |            (50, 5)  |               |        \n",
      "  \u001b[1mobslayer.rbf.variance           \u001b[0;0m  |                1.0  |   +ve fixed   |        \n",
      "  \u001b[1mobslayer.rbf.lengthscale        \u001b[0;0m  |               (5,)  |      +ve      |        \n",
      "  \u001b[1mobslayer.Gaussian_noise.variance\u001b[0;0m  |  0.000961532997497  |   +ve fixed   |        \n",
      "  \u001b[1mobslayer.Kuu_var                \u001b[0;0m  |              (50,)  |      +ve      |        \n",
      "  \u001b[1mobslayer.latent_space.mean      \u001b[0;0m  |           (500, 5)  |               |        \n",
      "  \u001b[1mobslayer.latent_space.variance  \u001b[0;0m  |           (500, 5)  |      +ve      |        \n",
      "  \u001b[1mlayer_1.inducing_inputs         \u001b[0;0m  |            (50, 2)  |               |        \n",
      "  \u001b[1mlayer_1.rbf.variance            \u001b[0;0m  |                1.0  |   +ve fixed   |        \n",
      "  \u001b[1mlayer_1.rbf.lengthscale         \u001b[0;0m  |                1.0  |      +ve      |        \n",
      "  \u001b[1mlayer_1.Gaussian_noise.variance \u001b[0;0m  |               0.01  |   +ve fixed   |        \n",
      "  \u001b[1mlayer_1.Kuu_var                 \u001b[0;0m  |              (50,)  |      +ve      |        \n",
      "  \u001b[1mlayer_1.latent_space.mean       \u001b[0;0m  |           (500, 2)  |               |        \n",
      "  \u001b[1mlayer_1.latent_space.variance   \u001b[0;0m  |           (500, 2)  |      +ve      |        \n"
     ]
    }
   ],
   "source": [
    "m = deepgp.DeepGP([Y.shape[1],5,2],Y,kernels=[GPy.kern.RBF(5,ARD=True), GPy.kern.RBF(2,ARD=False)], num_inducing=50, back_constraint=False, encoder_dims=[[200],[200]])\n",
    "m.obslayer.likelihood.variance[:] = Y.var()*0.01\n",
    "for layer in m.layers:\n",
    "    layer.kern.variance.fix(warning=False)\n",
    "    layer.likelihood.variance.fix(warning=False)\n",
    "print(m)"
   ]
  },
  {
   "cell_type": "code",
   "execution_count": 80,
   "metadata": {
    "scrolled": true
   },
   "outputs": [
    {
     "name": "stdout",
     "output_type": "stream",
     "text": [
      "Running L-BFGS-B (Scipy implementation) Code:\n",
      "  runtime   i     f              |g|        \n",
      "    01s26  009   5.615930e+06   1.705733e+10 \n",
      "    05s49  047   3.726141e+06   3.419719e+08 \n",
      "    11s68  102   3.634768e+06   2.169180e+08 \n",
      "Runtime:     11s68\n",
      "Optimization status: Maximum number of f evaluations reached\n",
      "\n",
      "Running L-BFGS-B (Scipy implementation) Code:\n",
      "  runtime   i     f              |g|        \n",
      "    02s21  014   3.623358e+06   8.775275e+07 \n",
      "    07s35  059   3.587131e+06   3.333691e+07 \n",
      "    12s59  102   3.571621e+06   1.945640e+07 \n",
      "Runtime:     12s59\n",
      "Optimization status: Maximum number of f evaluations reached\n",
      "\n",
      "Running L-BFGS-B (Scipy implementation) Code:\n",
      "  runtime   i      f              |g|        \n",
      "    01s19  0009  -6.526388e+04   4.670910e+08 \n",
      "    02s27  0019  -8.304557e+04   3.965597e+07 \n",
      "    06s58  0052  -9.386831e+04   2.270054e+06 \n",
      "    20s39  0169  -1.002804e+05   1.958873e+05 \n",
      "    24s60  0202  -1.009717e+05   1.620101e+05 \n",
      "    40s14  0330  -1.020675e+05   1.478913e+04 \n",
      " 01m47s94  0934  -1.034813e+05   4.277858e+06 \n",
      " 01m55s46  1002  -1.036599e+05   1.215855e+04 \n",
      "Runtime:  01m55s46\n",
      "Optimization status: Maximum number of f evaluations reached\n",
      "\n"
     ]
    }
   ],
   "source": [
    "m.optimize(messages=1,max_iters=100)\n",
    "for layer in m.layers:\n",
    "    layer.kern.variance.constrain_positive(warning=False)\n",
    "m.optimize(messages=1,max_iters=100)\n",
    "for layer in m.layers:\n",
    "    layer.likelihood.variance.constrain_positive(warning=False)\n",
    "m.optimize(messages=1,max_iters=1000)"
   ]
  },
  {
   "cell_type": "code",
   "execution_count": 81,
   "metadata": {},
   "outputs": [
    {
     "name": "stdout",
     "output_type": "stream",
     "text": [
      "\n",
      "Name : deepgp\n",
      "Objective : -103659.86449931537\n",
      "Number of Parameters : 7460\n",
      "Number of Optimization Parameters : 7460\n",
      "Updates : True\n",
      "Parameters:\n",
      "  \u001b[1mdeepgp.                         \u001b[0;0m  |            value  |  constraints  |  priors\n",
      "  \u001b[1mobslayer.inducing_inputs        \u001b[0;0m  |          (50, 5)  |               |        \n",
      "  \u001b[1mobslayer.rbf.variance           \u001b[0;0m  |   0.188829274721  |      +ve      |        \n",
      "  \u001b[1mobslayer.rbf.lengthscale        \u001b[0;0m  |             (5,)  |      +ve      |        \n",
      "  \u001b[1mobslayer.Gaussian_noise.variance\u001b[0;0m  |  0.0258173234962  |      +ve      |        \n",
      "  \u001b[1mobslayer.Kuu_var                \u001b[0;0m  |            (50,)  |      +ve      |        \n",
      "  \u001b[1mobslayer.latent_space.mean      \u001b[0;0m  |         (500, 5)  |               |        \n",
      "  \u001b[1mobslayer.latent_space.variance  \u001b[0;0m  |         (500, 5)  |      +ve      |        \n",
      "  \u001b[1mlayer_1.inducing_inputs         \u001b[0;0m  |          (50, 2)  |               |        \n",
      "  \u001b[1mlayer_1.rbf.variance            \u001b[0;0m  |    5.53949642193  |      +ve      |        \n",
      "  \u001b[1mlayer_1.rbf.lengthscale         \u001b[0;0m  |   0.694772829715  |      +ve      |        \n",
      "  \u001b[1mlayer_1.Gaussian_noise.variance \u001b[0;0m  |   0.549913132743  |      +ve      |        \n",
      "  \u001b[1mlayer_1.Kuu_var                 \u001b[0;0m  |            (50,)  |      +ve      |        \n",
      "  \u001b[1mlayer_1.latent_space.mean       \u001b[0;0m  |         (500, 2)  |               |        \n",
      "  \u001b[1mlayer_1.latent_space.variance   \u001b[0;0m  |         (500, 2)  |      +ve      |        \n"
     ]
    }
   ],
   "source": [
    "print(m)"
   ]
  },
  {
   "cell_type": "markdown",
   "metadata": {},
   "source": [
    "### Visualize the latent space of the top layer"
   ]
  },
  {
   "cell_type": "code",
   "execution_count": 84,
   "metadata": {},
   "outputs": [
    {
     "data": {
      "text/plain": [
       "<matplotlib.legend.Legend at 0x10d15db00>"
      ]
     },
     "execution_count": 84,
     "metadata": {},
     "output_type": "execute_result"
    },
    {
     "data": {
      "image/png": "[encoded data removed]",
      "text/plain": [
       "<matplotlib.figure.Figure at 0x10d15d3c8>"
      ]
     },
     "metadata": {},
     "output_type": "display_data"
    }
   ],
   "source": [
    "for d in digits:\n",
    "    plot(m.layer_1.X.mean[labels==d,0],m.layer_1.X.mean[labels==d,1],'.',label=str(d))\n",
    "legend()"
   ]
  },
  {
   "cell_type": "markdown",
   "metadata": {},
   "source": [
    "### Visualize the latent space of the intermediate layer"
   ]
  },
  {
   "cell_type": "code",
   "execution_count": 90,
   "metadata": {},
   "outputs": [
    {
     "data": {
      "text/html": [
       "<style type=\"text/css\">\n",
       ".tg  {padding:2px 3px;word-break:normal;border-collapse:collapse;border-spacing:0;border-color:#DCDCDC;margin:0px auto;width:100%;}\n",
       ".tg td{font-family:\"Courier New\", Courier, monospace !important;font-weight:bold;color:#444;background-color:#F7FDFA;border-style:solid;border-width:1px;overflow:hidden;word-break:normal;border-color:#DCDCDC;}\n",
       ".tg th{font-family:\"Courier New\", Courier, monospace !important;font-weight:normal;color:#fff;background-color:#26ADE4;border-style:solid;border-width:1px;overflow:hidden;word-break:normal;border-color:#DCDCDC;}\n",
       ".tg .tg-left{font-family:\"Courier New\", Courier, monospace !important;font-weight:normal;text-align:left;}\n",
       ".tg .tg-right{font-family:\"Courier New\", Courier, monospace !important;font-weight:normal;text-align:right;}\n",
       "</style>\n",
       "<table class=\"tg\">\n",
       "\n",
       "<tr>\n",
       "  <th><b>index</b></th>\n",
       "  <th><b>deepgp.obslayer.rbf.lengthscale</b></th>\n",
       "  <th><b>constraints</b></th><th><b>priors</b></th>\n",
       "</tr>\n",
       "<tr><td class=tg-left>  [0]  </td><td class=tg-right>                     4.26134878</td><td class=tg-left>    +ve    </td><td class=tg-left>      </td></tr>\n",
       "<tr><td class=tg-left>  [1]  </td><td class=tg-right>                     5.62716590</td><td class=tg-left>    +ve    </td><td class=tg-left>      </td></tr>\n",
       "<tr><td class=tg-left>  [2]  </td><td class=tg-right>                     7.00420246</td><td class=tg-left>    +ve    </td><td class=tg-left>      </td></tr>\n",
       "<tr><td class=tg-left>  [3]  </td><td class=tg-right>                     5.57031881</td><td class=tg-left>    +ve    </td><td class=tg-left>      </td></tr>\n",
       "<tr><td class=tg-left>  [4]  </td><td class=tg-right>                     6.35635516</td><td class=tg-left>    +ve    </td><td class=tg-left>      </td></tr>"
      ],
      "text/plain": [
       "\u001b[1mdeepgp.obslayer.rbf.lengthscale\u001b[0;0m:\n",
       "Param([ 4.26134878,  5.6271659 ,  7.00420246,  5.57031881,  6.35635516])"
      ]
     },
     "execution_count": 90,
     "metadata": {},
     "output_type": "execute_result"
    }
   ],
   "source": [
    "m.obslayer.kern.lengthscale"
   ]
  },
  {
   "cell_type": "code",
   "execution_count": 91,
   "metadata": {},
   "outputs": [
    {
     "data": {
      "text/plain": [
       "<matplotlib.text.Text at 0x1a180e5780>"
      ]
     },
     "execution_count": 91,
     "metadata": {},
     "output_type": "execute_result"
    },
    {
     "data": {
      "image/png": "[encoded data removed]",
      "text/plain": [
       "<matplotlib.figure.Figure at 0x1a17dde6d8>"
      ]
     },
     "metadata": {},
     "output_type": "display_data"
    }
   ],
   "source": [
    "for d in digits:\n",
    "    plot(m.obslayer.X.mean[labels==d,0],m.obslayer.X.mean[labels==d,3],'.',label=str(d))\n",
    "legend()\n",
    "xlabel('dimension 0')\n",
    "ylabel('dimension 3')"
   ]
  },
  {
   "cell_type": "markdown",
   "metadata": {},
   "source": [
    "### Draw a sample from the top hidden layer"
   ]
  },
  {
   "cell_type": "code",
   "execution_count": 89,
   "metadata": {},
   "outputs": [
    {
     "data": {
      "text/plain": [
       "<matplotlib.image.AxesImage at 0x1a17dc61d0>"
      ]
     },
     "execution_count": 89,
     "metadata": {},
     "output_type": "execute_result"
    },
    {
     "data": {
      "image/png": "[encoded data removed]",
      "text/plain": [
       "<matplotlib.figure.Figure at 0x1a166bb550>"
      ]
     },
     "metadata": {},
     "output_type": "display_data"
    }
   ],
   "source": [
    "yt = m.predict(np.random.randn(1,2))\n",
    "imshow(yt[0].reshape(28,28))"
   ]
  }
 ],
 "metadata": {
  "kernelspec": {
   "display_name": "Python 3",
   "language": "python",
   "name": "python3"
  },
  "language_info": {
   "codemirror_mode": {
    "name": "ipython",
    "version": 3
   },
   "file_extension": ".py",
   "mimetype": "text/x-python",
   "name": "python",
   "nbconvert_exporter": "python",
   "pygments_lexer": "ipython3",
   "version": "3.6.1"
  }
 },
 "nbformat": 4,
 "nbformat_minor": 2
}
