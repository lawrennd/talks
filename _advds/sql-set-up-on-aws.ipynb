{
 "cells": [
  {
   "cell_type": "markdown",
   "id": "87542ceb",
   "metadata": {},
   "source": [
    "# Consolidating Accessed Data\n",
    "\n",
    "## Lab Session Three\n",
    "\n",
    "In this notebook we will set up a SQL service and load in a data set for remote access. The aim is to prepare you for the same task for the analysis of house prices.\n",
    "\n",
    "We will be using AWS and MySQL for setting up our server. You have some credits available to you through AWS educate, but for this course we will be using the *free tier only*.\n",
    "\n",
    "Firstly, make sure you have set up your AWS educate account by following these instructions: \n",
    "\n",
    "https://help.uis.cam.ac.uk/news/aws-educate\n",
    "\n"
   ]
  }
 ],
 "metadata": {
  "kernelspec": {
   "display_name": "Python 3",
   "language": "python",
   "name": "python3"
  },
  "language_info": {
   "codemirror_mode": {
    "name": "ipython",
    "version": 3
   },
   "file_extension": ".py",
   "mimetype": "text/x-python",
   "name": "python",
   "nbconvert_exporter": "python",
   "pygments_lexer": "ipython3",
   "version": "3.8.8"
  }
 },
 "nbformat": 4,
 "nbformat_minor": 5
}
