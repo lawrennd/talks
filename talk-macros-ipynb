\ifndef{talkMacrosIpynb}
\define{talkMacrosIpynb}


\endif