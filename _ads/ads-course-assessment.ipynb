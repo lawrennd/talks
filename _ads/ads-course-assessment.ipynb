{
 "cells": [
  {
   "cell_type": "markdown",
   "id": "26533cf6",
   "metadata": {},
   "source": [
    "## ADS Course Assessment\n",
    "\n",
    "\n"
   ]
  },
  {
   "cell_type": "code",
   "execution_count": null,
   "id": "26850b0d",
   "metadata": {},
   "outputs": [],
   "source": [
    "Part one.\n",
    "\n",
    "Create an Amazon RDS MySQL instance with a data table that contains the UK price paid data for UK house prices.\n",
    "\n",
    "http://prod.publicdata.landregistry.gov.uk.s3-website-eu-west-1.amazonaws.com/pp-complete.csv\n",
    "    "
   ]
  },
  {
   "cell_type": "markdown",
   "id": "a6d5dfa5",
   "metadata": {},
   "source": [
    "Import the open postcode geo data set as a new table into your MySQL instance. \n",
    "\n",
    "https://www.getthedata.com/downloads/open_postcode_geo.sql.zip"
   ]
  },
  {
   "cell_type": "markdown",
   "id": "0c5aa2af",
   "metadata": {},
   "source": [
    "Join the two data sets to form a new table which lists sales prices alongside latittude/longitude\n",
    "\n"
   ]
  },
  {
   "cell_type": "markdown",
   "id": "fa60c4f2",
   "metadata": {},
   "source": [
    "Build python code to access open street map and download points of interest within a region. \n",
    "\n",
    "https://napo.github.io/geospatial_course_unitn/lessons/retrieving_data_from_openstreetmap"
   ]
  },
  {
   "cell_type": "markdown",
   "id": "fba478d9",
   "metadata": {},
   "source": [
    "Visualise the features you've created with principal component analysis, expalining how they are realised (also visualise dimensions ... should give a UK map??)"
   ]
  },
  {
   "cell_type": "code",
   "execution_count": null,
   "id": "8d4b8f6f",
   "metadata": {},
   "outputs": [],
   "source": [
    "%pip install pyrosm"
   ]
  },
  {
   "cell_type": "markdown",
   "id": "dc6f0824",
   "metadata": {},
   "source": [
    "For a given region, and time frame. Extract particular points of interest. Build a design matrix Train a model to predict house prices."
   ]
  },
  {
   "cell_type": "code",
   "execution_count": null,
   "id": "922bd7ac",
   "metadata": {},
   "outputs": [],
   "source": []
  },
  {
   "cell_type": "markdown",
   "id": "e84155d8",
   "metadata": {},
   "source": [
    "Build funcitonality that enables you to predict the answers for a different region."
   ]
  },
  {
   "cell_type": "markdown",
   "id": "81bc71c2",
   "metadata": {},
   "source": [
    "Test it in class."
   ]
  }
 ],
 "metadata": {
  "kernelspec": {
   "display_name": "Python 3",
   "language": "python",
   "name": "python3"
  },
  "language_info": {
   "codemirror_mode": {
    "name": "ipython",
    "version": 3
   },
   "file_extension": ".py",
   "mimetype": "text/x-python",
   "name": "python",
   "nbconvert_exporter": "python",
   "pygments_lexer": "ipython3",
   "version": "3.8.8"
  }
 },
 "nbformat": 4,
 "nbformat_minor": 5
}
