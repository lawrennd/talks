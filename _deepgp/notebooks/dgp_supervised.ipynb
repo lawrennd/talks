{
 "cells": [
  {
   "cell_type": "markdown",
   "metadata": {},
   "source": [
    "# Deep GP supervised learning\n",
    "\n",
    "This notebook depends on [GPy](https://github.com/SheffieldML/GPy) and [PyDeepGP](https://github.com/SheffieldML/PyDeepGP). These libraries can be installed via pip:\n",
    "```\n",
    "pip install GPy\n",
    "pip install git+https://github.com/SheffieldML/PyDeepGP.git\n",
    "```"
   ]
  },
  {
   "cell_type": "code",
   "execution_count": 1,
   "metadata": {
    "collapsed": true
   },
   "outputs": [],
   "source": [
    "import deepgp\n",
    "import GPy\n",
    "import numpy as np\n",
    "%matplotlib inline\n",
    "from pylab import *"
   ]
  },
  {
   "cell_type": "code",
   "execution_count": 11,
   "metadata": {
    "collapsed": true
   },
   "outputs": [],
   "source": [
    "# Visualization Utility Functions\n",
    "def ax_default(fignum, ax):\n",
    "    if ax is None:\n",
    "        fig = figure(fignum)\n",
    "        ax = fig.add_subplot(111)\n",
    "    else:\n",
    "        fig = ax.figure\n",
    "    return fig, ax\n",
    "\n",
    "def meanplot(x, mu, color='#3300FF', ax=None, fignum=None, linewidth=2,**kw):\n",
    "    _, axes = ax_default(fignum, ax)\n",
    "    return axes.plot(x,mu,color=color,linewidth=linewidth,**kw)\n",
    "\n",
    "def gpplot(x, mu, lower, upper, edgecol='#3300FF', fillcol='#33CCFF', ax=None, fignum=None, **kwargs):\n",
    "    _, axes = ax_default(fignum, ax)\n",
    "\n",
    "    mu = mu.flatten()\n",
    "    x = x.flatten()\n",
    "    lower = lower.flatten()\n",
    "    upper = upper.flatten()\n",
    "\n",
    "    plots = []\n",
    "\n",
    "    #here's the mean\n",
    "    plots.append(meanplot(x, mu, edgecol, axes))\n",
    "\n",
    "    #here's the box\n",
    "    kwargs['linewidth']=0.5\n",
    "    if not 'alpha' in kwargs.keys():\n",
    "        kwargs['alpha'] = 0.3\n",
    "    plots.append(axes.fill(np.hstack((x,x[::-1])),np.hstack((upper,lower[::-1])),color=fillcol,**kwargs))\n",
    "\n",
    "    #this is the edge:\n",
    "    plots.append(meanplot(x, upper,color=edgecol,linewidth=0.2,ax=axes))\n",
    "    plots.append(meanplot(x, lower,color=edgecol,linewidth=0.2,ax=axes))\n",
    "\n",
    "    return plots"
   ]
  },
  {
   "cell_type": "code",
   "execution_count": 2,
   "metadata": {
    "collapsed": true
   },
   "outputs": [],
   "source": [
    "data = GPy.util.datasets.olympic_marathon_men()\n",
    "x = data['X']\n",
    "y = data['Y']"
   ]
  },
  {
   "cell_type": "code",
   "execution_count": 24,
   "metadata": {},
   "outputs": [
    {
     "name": "stdout",
     "output_type": "stream",
     "text": [
      "\n",
      "Name : deepgp\n",
      "Objective : 799.9468614874332\n",
      "Number of Parameters : 680\n",
      "Number of Optimization Parameters : 676\n",
      "Updates : True\n",
      "Parameters:\n",
      "  \u001b[1mdeepgp.                         \u001b[0;0m  |             value  |  constraints  |  priors\n",
      "  \u001b[1mobslayer.inducing_inputs        \u001b[0;0m  |           (50, 5)  |               |        \n",
      "  \u001b[1mobslayer.rbf.variance           \u001b[0;0m  |               1.0  |   +ve fixed   |        \n",
      "  \u001b[1mobslayer.rbf.lengthscale        \u001b[0;0m  |              (5,)  |      +ve      |        \n",
      "  \u001b[1mobslayer.Gaussian_noise.variance\u001b[0;0m  |  0.00285998869872  |   +ve fixed   |        \n",
      "  \u001b[1mobslayer.Kuu_var                \u001b[0;0m  |             (50,)  |      +ve      |        \n",
      "  \u001b[1mobslayer.latent_space.mean      \u001b[0;0m  |           (27, 5)  |               |        \n",
      "  \u001b[1mobslayer.latent_space.variance  \u001b[0;0m  |           (27, 5)  |      +ve      |        \n",
      "  \u001b[1mlayer_1.inducing_inputs         \u001b[0;0m  |           (50, 1)  |               |        \n",
      "  \u001b[1mlayer_1.rbf.variance            \u001b[0;0m  |               1.0  |   +ve fixed   |        \n",
      "  \u001b[1mlayer_1.rbf.lengthscale         \u001b[0;0m  |               1.0  |      +ve      |        \n",
      "  \u001b[1mlayer_1.Gaussian_noise.variance \u001b[0;0m  |              0.01  |   +ve fixed   |        \n",
      "  \u001b[1mlayer_1.Kuu_var                 \u001b[0;0m  |             (50,)  |      +ve      |        \n"
     ]
    }
   ],
   "source": [
    "m = deepgp.DeepGP([y.shape[1],5,x.shape[1]],Y=y, X=x, inits=['PCA','PCA'], \n",
    "                  kernels=[GPy.kern.RBF(5,ARD=True),GPy.kern.RBF(x.shape[1],ARD=True)], # the kernels for each layer\n",
    "                  num_inducing=50, back_constraint=False)\n",
    "m.obslayer.likelihood.variance[:] = y.var()*0.01\n",
    "for layer in m.layers:\n",
    "    layer.kern.variance.fix(warning=False)\n",
    "    layer.likelihood.variance.fix(warning=False)\n",
    "print(m)"
   ]
  },
  {
   "cell_type": "code",
   "execution_count": 25,
   "metadata": {
    "scrolled": false
   },
   "outputs": [
    {
     "name": "stdout",
     "output_type": "stream",
     "text": [
      "Running L-BFGS-B (Scipy implementation) Code:\n",
      "  runtime   i     f              |g|        \n",
      "    00s12  003   4.235306e+02   4.749413e+03 \n",
      "    00s19  006   3.291568e+02   2.244141e+04 \n",
      "    01s32  102   5.064110e+01   1.839160e+01 \n",
      "Runtime:     01s32\n",
      "Optimization status: Maximum number of f evaluations reached\n",
      "\n",
      "Running L-BFGS-B (Scipy implementation) Code:\n",
      "  runtime   i     f              |g|        \n",
      "    00s16  007   4.596523e+01   3.343570e+01 \n",
      "    00s19  008   4.552505e+01   1.760747e+01 \n",
      "    01s57  102   3.332689e+01   1.118988e+02 \n",
      "Runtime:     01s57\n",
      "Optimization status: Maximum number of f evaluations reached\n",
      "\n",
      "Running L-BFGS-B (Scipy implementation) Code:\n",
      "  runtime   i       f              |g|        \n",
      "    00s01  00000   3.332689e+01   1.118988e+02 \n",
      "    00s07  00003   3.325153e+01   5.843045e+01 \n",
      "    00s19  00008   3.193705e+01   4.101236e+02 \n",
      "    02s21  00187   2.109787e+01   5.958302e+00 \n",
      "    08s24  00776   1.839448e+01   2.162329e+00 \n",
      "    23s32  02208   1.780019e+01   3.418300e-01 \n",
      " 01m27s94  06406   1.751581e+01   4.719123e-02 \n",
      " 02m07s39  10002   1.742120e+01   4.994756e-02 \n",
      "Runtime:  02m07s39\n",
      "Optimization status: Maximum number of f evaluations reached\n",
      "\n"
     ]
    }
   ],
   "source": [
    "m.optimize(messages=1,max_iters=100)\n",
    "for layer in m.layers:\n",
    "    layer.kern.variance.constrain_positive(warning=False)\n",
    "m.optimize(messages=1,max_iters=100)\n",
    "for layer in m.layers:\n",
    "    layer.likelihood.variance.constrain_positive(warning=False)\n",
    "m.optimize(messages=1,max_iters=10000)"
   ]
  },
  {
   "cell_type": "code",
   "execution_count": 29,
   "metadata": {},
   "outputs": [
    {
     "name": "stdout",
     "output_type": "stream",
     "text": [
      "\n",
      "Name : deepgp\n",
      "Objective : 17.421203356206945\n",
      "Number of Parameters : 680\n",
      "Number of Optimization Parameters : 680\n",
      "Updates : True\n",
      "Parameters:\n",
      "  \u001b[1mdeepgp.                         \u001b[0;0m  |              value  |  constraints  |  priors\n",
      "  \u001b[1mobslayer.inducing_inputs        \u001b[0;0m  |            (50, 5)  |               |        \n",
      "  \u001b[1mobslayer.rbf.variance           \u001b[0;0m  |      25.4476519269  |      +ve      |        \n",
      "  \u001b[1mobslayer.rbf.lengthscale        \u001b[0;0m  |               (5,)  |      +ve      |        \n",
      "  \u001b[1mobslayer.Gaussian_noise.variance\u001b[0;0m  |   0.00422398778185  |      +ve      |        \n",
      "  \u001b[1mobslayer.Kuu_var                \u001b[0;0m  |              (50,)  |      +ve      |        \n",
      "  \u001b[1mobslayer.latent_space.mean      \u001b[0;0m  |            (27, 5)  |               |        \n",
      "  \u001b[1mobslayer.latent_space.variance  \u001b[0;0m  |            (27, 5)  |      +ve      |        \n",
      "  \u001b[1mlayer_1.inducing_inputs         \u001b[0;0m  |            (50, 1)  |               |        \n",
      "  \u001b[1mlayer_1.rbf.variance            \u001b[0;0m  |  0.000985791887784  |      +ve      |        \n",
      "  \u001b[1mlayer_1.rbf.lengthscale         \u001b[0;0m  |      52.3003439223  |      +ve      |        \n",
      "  \u001b[1mlayer_1.Gaussian_noise.variance \u001b[0;0m  |  0.000746807909313  |      +ve      |        \n",
      "  \u001b[1mlayer_1.Kuu_var                 \u001b[0;0m  |              (50,)  |      +ve      |        \n"
     ]
    }
   ],
   "source": [
    "print(m)"
   ]
  },
  {
   "cell_type": "code",
   "execution_count": 36,
   "metadata": {},
   "outputs": [
    {
     "data": {
      "text/html": [
       "<style type=\"text/css\">\n",
       ".tg  {padding:2px 3px;word-break:normal;border-collapse:collapse;border-spacing:0;border-color:#DCDCDC;margin:0px auto;width:100%;}\n",
       ".tg td{font-family:\"Courier New\", Courier, monospace !important;font-weight:bold;color:#444;background-color:#F7FDFA;border-style:solid;border-width:1px;overflow:hidden;word-break:normal;border-color:#DCDCDC;}\n",
       ".tg th{font-family:\"Courier New\", Courier, monospace !important;font-weight:normal;color:#fff;background-color:#26ADE4;border-style:solid;border-width:1px;overflow:hidden;word-break:normal;border-color:#DCDCDC;}\n",
       ".tg .tg-left{font-family:\"Courier New\", Courier, monospace !important;font-weight:normal;text-align:left;}\n",
       ".tg .tg-right{font-family:\"Courier New\", Courier, monospace !important;font-weight:normal;text-align:right;}\n",
       "</style>\n",
       "<table class=\"tg\">\n",
       "\n",
       "<tr>\n",
       "  <th><b>index</b></th>\n",
       "  <th><b>deepgp.obslayer.rbf.lengthscale</b></th>\n",
       "  <th><b>constraints</b></th><th><b>priors</b></th>\n",
       "</tr>\n",
       "<tr><td class=tg-left>  [0]  </td><td class=tg-right>                     0.29867712</td><td class=tg-left>    +ve    </td><td class=tg-left>      </td></tr>\n",
       "<tr><td class=tg-left>  [1]  </td><td class=tg-right>                    41.37649454</td><td class=tg-left>    +ve    </td><td class=tg-left>      </td></tr>\n",
       "<tr><td class=tg-left>  [2]  </td><td class=tg-right>                    41.26505521</td><td class=tg-left>    +ve    </td><td class=tg-left>      </td></tr>\n",
       "<tr><td class=tg-left>  [3]  </td><td class=tg-right>                    41.23395843</td><td class=tg-left>    +ve    </td><td class=tg-left>      </td></tr>\n",
       "<tr><td class=tg-left>  [4]  </td><td class=tg-right>                    41.20768848</td><td class=tg-left>    +ve    </td><td class=tg-left>      </td></tr>"
      ],
      "text/plain": [
       "\u001b[1mdeepgp.obslayer.rbf.lengthscale\u001b[0;0m:\n",
       "Param([  0.29867712,  41.37649454,  41.26505521,  41.23395843,  41.20768848])"
      ]
     },
     "execution_count": 36,
     "metadata": {},
     "output_type": "execute_result"
    }
   ],
   "source": [
    "m.obslayer.kern.lengthscale"
   ]
  },
  {
   "cell_type": "markdown",
   "metadata": {},
   "source": [
    "### Plot the prediction"
   ]
  },
  {
   "cell_type": "code",
   "execution_count": 51,
   "metadata": {},
   "outputs": [
    {
     "data": {
      "image/png": "[encoded data removed]",
      "text/plain": [
       "<matplotlib.figure.Figure at 0x1a16994e80>"
      ]
     },
     "metadata": {},
     "output_type": "display_data"
    }
   ],
   "source": [
    "xt = np.linspace(x.min(),x.max(),200)[:,None]\n",
    "yt = m.predict(xt)\n",
    "gpplot(xt,yt[0],yt[0]-2*np.sqrt(yt[1]),yt[0]+2*np.sqrt(yt[1]))\n",
    "plot(x,y,'rx')\n",
    "xlabel('Year')\n",
    "_=ylabel('Time given in pace (min per km)')"
   ]
  },
  {
   "cell_type": "markdown",
   "metadata": {},
   "source": [
    "### Fitted GP for each layer"
   ]
  },
  {
   "cell_type": "code",
   "execution_count": 53,
   "metadata": {},
   "outputs": [
    {
     "data": {
      "image/png": "[encoded data removed]",
      "text/plain": [
       "<matplotlib.figure.Figure at 0x1a171b1898>"
      ]
     },
     "metadata": {},
     "output_type": "display_data"
    }
   ],
   "source": [
    "xt = np.linspace(x.min(),x.max(),200)[:,None]\n",
    "yt = m.layer_1.predict(xt)\n",
    "gpplot(xt,yt[0][:,0],yt[0][:,0:1]-2*np.sqrt(yt[1]),yt[0][:,0:1]+2*np.sqrt(yt[1]))\n",
    "xlabel('input (Year)')\n",
    "_=ylabel('hidden layer')"
   ]
  },
  {
   "cell_type": "code",
   "execution_count": 63,
   "metadata": {},
   "outputs": [
    {
     "data": {
      "image/png": "[encoded data removed]",
      "text/plain": [
       "<matplotlib.figure.Figure at 0x108aa70b8>"
      ]
     },
     "metadata": {},
     "output_type": "display_data"
    }
   ],
   "source": [
    "xt = np.zeros((200,5))\n",
    "xt[:,0] = np.linspace(-0.3,0.3,200)\n",
    "yt = m.obslayer.predict(xt)\n",
    "gpplot(xt[:,0],yt[0],yt[0]-2*np.sqrt(yt[1]),yt[0]+2*np.sqrt(yt[1]))\n",
    "xlabel('hidden layer')\n",
    "_=ylabel('output')"
   ]
  }
 ],
 "metadata": {
  "kernelspec": {
   "display_name": "Python 3",
   "language": "python",
   "name": "python3"
  },
  "language_info": {
   "codemirror_mode": {
    "name": "ipython",
    "version": 3
   },
   "file_extension": ".py",
   "mimetype": "text/x-python",
   "name": "python",
   "nbconvert_exporter": "python",
   "pygments_lexer": "ipython3",
   "version": "3.6.1"
  }
 },
 "nbformat": 4,
 "nbformat_minor": 2
}
