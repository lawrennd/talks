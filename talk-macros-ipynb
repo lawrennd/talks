\ifndef{talkMacrosIpynb}
\define{talkMacrosIpynb}


\define{\includegooglebook{id}{page}}{```
import pods
pods.notebook.display_google_book(id='\id', page='\page')
```}
\define{\includeyoutube{id}{width}{height}{time}}{```{.python}
from IPython.lib.display import YouTubeVideo
YouTubeVideo('\id')
```}

\define{\includesvg{filename}{align}{class}{style}}{<img src="\filename" class="\class" align="\align" style="vertical-align:middle;\style">}
\define{\includesvgclass{filename}{class}{align}}{<img src="\filename" class="\class" align="\align" style="vertical-align:middle">}

\endif