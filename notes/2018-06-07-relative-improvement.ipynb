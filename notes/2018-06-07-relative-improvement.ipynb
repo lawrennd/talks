{
 "cells": [
  {
   "cell_type": "markdown",
   "metadata": {},
   "source": [
    "$$\\newcommand{\\worth}{v}\n",
    "\\newcommand{\\gammaCdf}[3]{\\mathcal{GAMMA CDF}\\left(#1|#2,#3\\right)}\n",
    "\\newcommand{\\gammaDist}[3]{\\mathcal{G}\\left(#1|#2,#3\\right)}\n",
    "\\newcommand{\\gammaSamp}[2]{\\mathcal{G}\\left(#1,#2\\right)}\n",
    "\\newcommand{\\cdf}{\\text{cdf}}\n",
    "$$\n",
    "\n",
    "# Relative Improvement Decision Making\n",
    "   \n",
    "The idea of relative improvement is that our personal utility is related to our relative change in society. For example, our sensitivity to an increase in salary is dependent on how it situates us relative to our peers, rather than an absolute change in position.\n",
    "   \n",
    "How a change in circumstance effects us, is therefore related to our context, and how resources or income are distributed throughout our community.\n",
    "\n",
    "Firstly, we'll consider a worked example. \n",
    "\n",
    "As a starting example, consider the *logarithmic utility* as suggested by Daniel Bernoulli. If we are sensitive to the log of change, we can inverse engineer what our *assumption* about the underlying distribution of resources or income is.\n",
    "\n",
    "Expected gain under logarithmic utility is \n",
    "$$\n",
    "\\log \\worth_2 - \\log \\worth_1\n",
    "$$\n",
    "If we are interested in our relative position in the population, this implies our change in relative position is given by\n",
    "$$\n",
    "\\cdf(\\worth_2) - \\cdf(\\worth_1)\n",
    "$$\n",
    "which implies that we are assuming that the logarithm is the cumulative distribution function (CDF) of the underlying wealth distribution. To recover the probability density function (PDF) we differentiate the CDF and recover,\n",
    "$$\n",
    "p(\\worth) = \\frac{1}{\\worth}\n",
    "$$\n",
    "which is not a correctly normalized distribution, but is often used as an improper density covering the positive half space, i.e. if we don't have knowledge of the underlying density then defining the Gamma density as,\n",
    "$$\n",
    "\\gammaDist{\\worth}{a}{b} = \\frac{b^a \\worth^{a-1}e^{-b\\worth}}{\\Gamma(a)}\n",
    "$$\n",
    "we can take the limit as $a\\rightarrow 0$ and $b\\rightarrow 0$ and recover the improper prior over $\\worth$ of $\\frac{1}{\\worth}$ as suggested by Daniel Bernoulli's logarithmic utility.\n",
    "\n",
    "Given our starting example, which reverse engineered an existing marginal utility, we can now start from a more usual assumption of the distribution of resource or income, the Pareto distribution, and engineer directly a utility based on the idea of *relative improvement*. \n",
    "\n",
    "The Pareto distribution is a density proposed to model the wealth or income in a population. \n",
    "$$\n",
    "p(\\worth) = \\frac{\\alpha \\worth_m^\\alpha}{\\worth^{\\alpha+1}}\n",
    "$$\n",
    "The CDF for the Pareto density is given by\n",
    "$$\n",
    "\\cdf(\\worth) = 1 - \\left(\\frac{\\worth_m}{\\worth}\\right)^\\alpha\n",
    "$$\n",
    "So the marginal utility is given by\n",
    "$$\n",
    "m(\\worth_1, \\worth_2) = \\left(\\frac{\\worth_m}{\\worth_1}\\right)^\\alpha-\\left(\\frac{\\worth_m}{\\worth_2}\\right)^\\alpha\n",
    "$$\n",
    "\n",
    "\n"
   ]
  },
  {
   "cell_type": "markdown",
   "metadata": {},
   "source": [
    "$$\n",
    "m(\\worth_1, \\worth_2) = \\left(\\frac{\\worth_m}{\\worth_1}\\right)^\\alpha-\\left(\\frac{\\worth_m}{\\worth_2}\\right)^\\alpha\n",
    "$$\n",
    "$$\n",
    "m(\\worth_1, \\worth_2) = \\worth_m^\\alpha\\frac{\\worth_2^\\alpha - \\worth_1^\\alpha}{\\left(\\worth_1\\worth_2\\right)^\\alpha}\n",
    "$$\n",
    "$$\n",
    "m(\\worth_1, \\worth_2) = \\left(\\frac{\\worth_m}{\\worth_1}\\right)^\\alpha\\frac{\\worth_2^\\alpha - \\worth_1^\\alpha}{\\worth_2^\\alpha}\n",
    "$$\n",
    "$$\n",
    "m(\\worth_1, \\worth_2) = \\left(\\frac{\\worth_m}{\\worth_1}\\right)^\\alpha\\frac{(\\worth_1 + \\delta\\worth)^\\alpha - \\worth_1^\\alpha}{(\\worth_1+\\delta\\worth)^\\alpha}\n",
    "$$"
   ]
  },
  {
   "cell_type": "markdown",
   "metadata": {},
   "source": [
    "For the most exterme case $\\alpha=1$ we have\n",
    "$$\n",
    "m(\\worth_1, \\worth_2) = \\worth_m\\frac{\\worth_2 - \\worth_1}{\\worth_1\\worth_2}\n",
    "$$\n",
    "considering $\\delta \\worth$\n",
    "$$\n",
    "m(\\delta\\worth) = \\frac{\\worth_m}{\\worth_1}\\frac{\\delta \\worth}{(\\delta\\worth + \\worth_1)}\n",
    "$$"
   ]
  },
  {
   "cell_type": "code",
   "execution_count": 91,
   "metadata": {},
   "outputs": [
    {
     "name": "stderr",
     "output_type": "stream",
     "text": [
      "/Users/neil/anaconda3/lib/python3.6/site-packages/ipykernel_launcher.py:11: RuntimeWarning: divide by zero encountered in log\n",
      "  # This is added back by InteractiveShellApp.init_path()\n",
      "/Users/neil/anaconda3/lib/python3.6/site-packages/ipykernel_launcher.py:12: RuntimeWarning: divide by zero encountered in log\n",
      "  if sys.path[0] == '':\n"
     ]
    },
    {
     "data": {
      "image/png": "[encoded data removed]",
      "text/plain": [
       "<Figure size 720x504 with 1 Axes>"
      ]
     },
     "metadata": {},
     "output_type": "display_data"
    }
   ],
   "source": [
    "%matplotlib inline\n",
    "import matplotlib.pyplot as plt\n",
    "import numpy as np\n",
    "fig, ax = plt.subplots(figsize=(10, 7))\n",
    "vm = 1\n",
    "v1 = 40000\n",
    "alpha = 20\n",
    "a=9\n",
    "b=0.0003\n",
    "dv = np.linspace(-40000, 40000, 100)\n",
    "m = np.exp(alpha*np.log(vm/v1) - alpha*np.log(dv+v1))*((v1+dv)**alpha-v1**alpha)\n",
    "m2 = np.log(v1+dv)-np.log(v1)\n",
    "m3 = (gammainc(a, b*(v1+dv))-gammainc(a, b*v1))/gamma(a)\n",
    "#ax.plot(dv, m2*100)\n",
    "plt.ylabel('% change')\n",
    "plt.xlabel('$')\n",
    "#ax.plot(dv, m*100)\n",
    "_ = ax.plot(dv, m3*100)"
   ]
  },
  {
   "cell_type": "code",
   "execution_count": 76,
   "metadata": {},
   "outputs": [
    {
     "data": {
      "text/plain": [
       "9999999.422784435"
      ]
     },
     "execution_count": 76,
     "metadata": {},
     "output_type": "execute_result"
    }
   ],
   "source": [
    "gamma(0.0000001)"
   ]
  },
  {
   "cell_type": "code",
   "execution_count": 80,
   "metadata": {},
   "outputs": [],
   "source": [
    "from scipy.special import gammainc, gamma"
   ]
  },
  {
   "cell_type": "code",
   "execution_count": 79,
   "metadata": {},
   "outputs": [],
   "source": [
    "gammainc?"
   ]
  },
  {
   "cell_type": "code",
   "execution_count": 52,
   "metadata": {},
   "outputs": [
    {
     "data": {
      "text/plain": [
       "1.0"
      ]
     },
     "execution_count": 52,
     "metadata": {},
     "output_type": "execute_result"
    }
   ],
   "source": [
    "gamma(1)"
   ]
  },
  {
   "cell_type": "code",
   "execution_count": null,
   "metadata": {},
   "outputs": [],
   "source": []
  }
 ],
 "metadata": {
  "kernelspec": {
   "display_name": "Python 3",
   "language": "python",
   "name": "python3"
  },
  "language_info": {
   "codemirror_mode": {
    "name": "ipython",
    "version": 3
   },
   "file_extension": ".py",
   "mimetype": "text/x-python",
   "name": "python",
   "nbconvert_exporter": "python",
   "pygments_lexer": "ipython3",
   "version": "3.6.3"
  }
 },
 "nbformat": 4,
 "nbformat_minor": 2
}
