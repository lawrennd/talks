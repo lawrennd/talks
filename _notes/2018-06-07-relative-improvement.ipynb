{
 "cells": [
  {
   "cell_type": "markdown",
   "metadata": {},
   "source": [
    "$$\\newcommand{\\worth}{v}\n",
    "\\newcommand{\\gammaCdf}[3]{\\mathcal{GAMMA CDF}\\left(#1|#2,#3\\right)}\n",
    "\\newcommand{\\gammaDist}[3]{\\mathcal{G}\\left(#1|#2,#3\\right)}\n",
    "\\newcommand{\\gammaSamp}[2]{\\mathcal{G}\\left(#1,#2\\right)}\n",
    "\\newcommand{\\cdf}{\\text{cdf}}\n",
    "$$\n",
    "\n",
    "# Relative Improvement Decision Making\n",
    "   \n",
    "### 2018-06-07\n",
    "\n",
    "### Neil D. Lawrence\n",
    "\n",
    "The idea of relative improvement is that our personal utility is related to our relative change in society. For example, our sensitivity to an increase in salary is dependent on how it situates us relative to our peers, rather than an absolute change in position.\n",
    "   \n",
    "How a change in circumstance effects us, is therefore related to our context, and how resources or income are distributed throughout our community.\n",
    "\n",
    "Firstly, we'll consider a worked example. \n",
    "\n",
    "### Marginal Utility\n",
    "\n",
    "As a starting example, consider the *logarithmic utility* as suggested by Daniel Bernoulli. If we are sensitive to the log of change, we can inverse engineer what our *assumption* about the underlying distribution of resources or income is.\n",
    "\n",
    "Expected gain under logarithmic utility is \n",
    "$$\n",
    "\\log \\worth_2 - \\log \\worth_1\n",
    "$$\n",
    "If we are interested in our relative position in the population, this implies our change in relative position is given by\n",
    "$$\n",
    "\\cdf(\\worth_2) - \\cdf(\\worth_1)\n",
    "$$\n",
    "which implies that we are assuming that the logarithm is the cumulative distribution function (CDF) of the underlying wealth distribution. To recover the probability density function (PDF) we differentiate the CDF and recover,\n",
    "$$\n",
    "p(\\worth) = \\frac{1}{\\worth}\n",
    "$$\n",
    "which is not a correctly normalized distribution, but is often used as an improper density covering the positive half space, i.e. if we don't have knowledge of the underlying density then defining the Gamma density as,\n",
    "$$\n",
    "\\gammaDist{\\worth}{a}{b} = \\frac{b^a \\worth^{a-1}e^{-b\\worth}}{\\Gamma(a)}\n",
    "$$\n",
    "we can take the limit as $a\\rightarrow 0$ and $b\\rightarrow 0$ and recover the improper prior over $\\worth$ of $\\frac{1}{\\worth}$ as suggested by Daniel Bernoulli's logarithmic utility.\n",
    "\n",
    "Given our starting example, which reverse engineered an existing marginal utility, we can now start from a more usual assumption of the distribution of resource or income, the Pareto distribution, and engineer directly a utility based on the idea of *relative improvement*. \n",
    "\n",
    "The Pareto distribution is a density proposed to model the wealth or income in a population. \n",
    "$$\n",
    "p(\\worth) = \\frac{\\alpha \\worth_m^\\alpha}{\\worth^{\\alpha+1}}\n",
    "$$\n",
    "The CDF for the Pareto density is given by\n",
    "$$\n",
    "\\cdf(\\worth) = 1 - \\left(\\frac{\\worth_m}{\\worth}\\right)^\\alpha\n",
    "$$\n",
    "So the marginal utility is given by\n",
    "$$\n",
    "m(\\worth_1, \\worth_2) = \\left(\\frac{\\worth_m}{\\worth_1}\\right)^\\alpha-\\left(\\frac{\\worth_m}{\\worth_2}\\right)^\\alpha\n",
    "$$\n",
    "\n",
    "\n"
   ]
  },
  {
   "cell_type": "markdown",
   "metadata": {},
   "source": [
    "$$\n",
    "m(\\worth_1, \\worth_2) = \\left(\\frac{\\worth_m}{\\worth_1}\\right)^\\alpha-\\left(\\frac{\\worth_m}{\\worth_2}\\right)^\\alpha\n",
    "$$\n",
    "$$\n",
    "m(\\worth_1, \\worth_2) = \\worth_m^\\alpha\\frac{\\worth_2^\\alpha - \\worth_1^\\alpha}{\\left(\\worth_1\\worth_2\\right)^\\alpha}\n",
    "$$\n",
    "$$\n",
    "m(\\worth_1, \\worth_2) = \\left(\\frac{\\worth_m}{\\worth_1}\\right)^\\alpha\\frac{\\worth_2^\\alpha - \\worth_1^\\alpha}{\\worth_2^\\alpha}\n",
    "$$\n",
    "$$\n",
    "m(\\worth_1, \\worth_2) = \\left(\\frac{\\worth_m}{\\worth_1}\\right)^\\alpha\\frac{(\\worth_1 + \\delta\\worth)^\\alpha - \\worth_1^\\alpha}{(\\worth_1+\\delta\\worth)^\\alpha}\n",
    "$$"
   ]
  },
  {
   "cell_type": "markdown",
   "metadata": {},
   "source": [
    "For the most exterme case $\\alpha=1$ we have\n",
    "$$\n",
    "m(\\worth_1, \\worth_2) = \\worth_m\\frac{\\worth_2 - \\worth_1}{\\worth_1\\worth_2}\n",
    "$$\n",
    "considering $\\delta \\worth$\n",
    "$$\n",
    "m(\\delta\\worth) = \\frac{\\worth_m}{\\worth_1}\\frac{\\delta \\worth}{(\\delta\\worth + \\worth_1)}\n",
    "$$"
   ]
  },
  {
   "cell_type": "code",
   "execution_count": 6,
   "metadata": {},
   "outputs": [],
   "source": [
    "from scipy.special import gammainc, gamma"
   ]
  },
  {
   "cell_type": "code",
   "execution_count": null,
   "metadata": {},
   "outputs": [],
   "source": [
    "class Utility():\n",
    "    def __init__(self):\n",
    "        pass\n",
    "    \n",
    "    def u(self):\n",
    "        raise NotImplementedError\n",
    "        \n",
    "    def uprime(self):\n",
    "        raise NotImplementedError\n",
    "        \n",
    "    def A(self):\n",
    "        raise NotImplementedError\n",
    "        \n",
    "    def R(self, c):\n",
    "        return self.ara*c\n",
    "\n",
    "    def _repr_html_(self)\n",
    "        raise NotImplementedError\n",
    "        \n",
    "class Exponential(Utility):\n",
    "    def __init__(self, a=1.):\n",
    "        Utility.__init__(self)\n",
    "        self.a = 1.\n",
    "        \n",
    "    def u(self, c):\n",
    "        return 1-np.exp(-self.a*c)\n",
    "    \n",
    "    def uprime(self, c):\n",
    "        return self.a*np.exp(-self.a*c)\n",
    "    \n",
    "    def A(self, c):\n",
    "        return self.a*np.ones(c.shape)\n",
    "    \n",
    "class Log(Utility):\n",
    "    def __init__(self):\n",
    "        \"\"\"Log utility function. This utility funciton doesn't have an associated underlying PDF, but 1/c is often used as an uninformative prior across a space\"\"\"\n",
    "        Utility.__init__(self)\n",
    "        \n",
    "    def u(self, c):\n",
    "        return np.log(c)\n",
    "    \n",
    "    def uprime(self, c):\n",
    "        return 1./c\n",
    "    \n",
    "    def A(self, c):\n",
    "        return 1./c\n",
    "    \n",
    "    def R(self, c):\n",
    "        return np.ones(c.shape)\n",
    "    \n",
    "class Isoelastic(Utility):\n",
    "    def __init__(self, eta):\n",
    "        Utility.__init__(self)\n",
    "        self.eta=eta\n",
    "        \n",
    "    def u(self, c):\n",
    "        if self.eta==1:\n",
    "            return np.log(c)\n",
    "        else:\n",
    "            return (c**(1-self.eta) - 1)/(1-self.eta)\n",
    "        \n",
    "    def uprime(self, c):\n",
    "        if self.eta==1:\n",
    "            return c**(1-2*self.eta)\n",
    "        \n",
    "    def A(self, c):\n",
    "        return (2.*self.eta - 1.)/c\n",
    "    \n",
    "    def R(self, c):\n",
    "        return (2.*self.eta - 1)\n",
    "    \n",
    "    \n",
    "class LogLogistic(Utility):\n",
    "    def __init(self, alpha=1., beta=1.):\n",
    "        Utility.__init__(self)\n",
    "        self.alpha = alpha\n",
    "        self.beta = beta\n",
    "        \n",
    "    def u(self, c):\n",
    "        return 1/(1+(c/self.alpha)**-self.beta)\n",
    "    \n",
    "    def uprime(self, c):\n",
    "        return ((self.beta/self.alpha)*(c/self.alpha)**(self.beta-1))/(1+(c/self.alpha)**self.beta)**2\n",
    "    \n",
    "    def A(self, c):\n",
    "        return (self.beta-1.)/c - 2/(self.alpha + c)\n",
    "    \n",
    "    def R(self, c):\n",
    "        return self.beta -1. - 2/(self.alpha/c + 1.)\n"
   ]
  },
  {
   "cell_type": "code",
   "execution_count": 42,
   "metadata": {},
   "outputs": [
    {
     "data": {
      "text/plain": [
       "array([[1.],\n",
       "       [1.],\n",
       "       [1.],\n",
       "       [1.],\n",
       "       [1.],\n",
       "       [1.],\n",
       "       [1.],\n",
       "       [1.],\n",
       "       [1.],\n",
       "       [1.]])"
      ]
     },
     "execution_count": 42,
     "metadata": {},
     "output_type": "execute_result"
    }
   ],
   "source": [
    "c = np.random.randn(10, 1)\n",
    "np.ones(c.shape)"
   ]
  },
  {
   "cell_type": "code",
   "execution_count": 41,
   "metadata": {},
   "outputs": [
    {
     "name": "stderr",
     "output_type": "stream",
     "text": [
      "/Users/neil/anaconda3/lib/python3.6/site-packages/ipykernel_launcher.py:13: RuntimeWarning: divide by zero encountered in log\n",
      "  del sys.path[0]\n",
      "/Users/neil/anaconda3/lib/python3.6/site-packages/ipykernel_launcher.py:16: RuntimeWarning: divide by zero encountered in log\n",
      "  app.launch_new_instance()\n",
      "/Users/neil/anaconda3/lib/python3.6/site-packages/ipykernel_launcher.py:25: RuntimeWarning: divide by zero encountered in true_divide\n"
     ]
    },
    {
     "data": {
      "image/png": "[encoded data removed]",
      "text/plain": [
       "<Figure size 720x504 with 1 Axes>"
      ]
     },
     "metadata": {},
     "output_type": "display_data"
    }
   ],
   "source": [
    "%matplotlib inline\n",
    "import matplotlib.pyplot as plt\n",
    "import numpy as np\n",
    "fig, ax = plt.subplots(figsize=(10, 7))\n",
    "vm = 1\n",
    "v1 = 4000\n",
    "alpha = 20\n",
    "a=9\n",
    "b=0.0003\n",
    "dv = np.linspace(-4000, 5000, 100)\n",
    "\n",
    "# From CDF of Pareto density\n",
    "m = np.exp(alpha*np.log(vm/v1) - alpha*np.log(dv+v1))*((v1+dv)**alpha-v1**alpha)\n",
    "\n",
    "# From CDF of 1/x\n",
    "m2 = np.log(v1+dv)-np.log(v1)\n",
    "\n",
    "# From CDF of Gamma density\n",
    "m3 = (gammainc(a, b*(v1+dv))-gammainc(a, b*v1))/gamma(a)\n",
    "\n",
    "# Log Logistic (Dagum idstribution)\n",
    "alpha = 4000\n",
    "beta = 2\n",
    "p = 1\n",
    "m4 = (1+(alpha/(v1+dv))**beta)**-p - (1+(alpha/v1)**beta)**-p\n",
    "\n",
    "plt.ylabel('% change')\n",
    "plt.xlabel('$')\n",
    "#ax.plot(dv, m*100)\n",
    "_ = ax.plot(dv, m4*100)"
   ]
  },
  {
   "cell_type": "markdown",
   "metadata": {},
   "source": [
    "### Connections with Prospect Theory\n",
    "\n",
    "From reading [Prospect Theory](https://www.jstor.org/stable/1914185) [@Kahneman:prospect79], the main contribution seems to be the non-concavity of the value function (utility function). This arises in Relative Improvement when the probability density has a non zero mode. "
   ]
  },
  {
   "cell_type": "markdown",
   "metadata": {},
   "source": [
    "The study adds further experimental evidence that people who \"have\" make more risk-averse decisions, while the \"have-nots\" make more risk-seeking decisions. This phenomenon has frequently been observed from studies using hypothetical decision-making situations [@Thaler:gambling90] and agrees with the increased risk aversion principle of Prospect Theory. This theory predicts exactly what we found, that is, prior losses put the subject in the domain of losses and prior gains have the opposite effect. http://journal.sjdm.org/06137/jdm06137.htm"
   ]
  },
  {
   "cell_type": "markdown",
   "metadata": {},
   "source": [
    "https://core.ac.uk/download/pdf/7048428.pdf\n",
    "\n",
    "[@Ramsey:truth26]"
   ]
  },
  {
   "cell_type": "markdown",
   "metadata": {},
   "source": [
    "The Use of Distribution Functions to Represent Utility Functions\n",
    "https://www.jstor.org/stable/2629422?seq=1#page_scan_tab_contents [@Berhold:distribution73]"
   ]
  },
  {
   "cell_type": "markdown",
   "metadata": {},
   "source": [
    "Concavity of utility leads to decreasing marginal returns. \n",
    "\n",
    "von-Neumann-Morgenstern utility functions (VNM-utility functions) \n",
    "\n",
    "[@vonNeumann:games44]"
   ]
  }
 ],
 "metadata": {
  "kernelspec": {
   "display_name": "Python 3",
   "language": "python",
   "name": "python3"
  },
  "language_info": {
   "codemirror_mode": {
    "name": "ipython",
    "version": 3
   },
   "file_extension": ".py",
   "mimetype": "text/x-python",
   "name": "python",
   "nbconvert_exporter": "python",
   "pygments_lexer": "ipython3",
   "version": "3.6.3"
  }
 },
 "nbformat": 4,
 "nbformat_minor": 2
}
