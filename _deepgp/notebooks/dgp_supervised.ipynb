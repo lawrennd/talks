{
 "cells": [
  {
   "cell_type": "markdown",
   "metadata": {},
   "source": [
    "# Deep GP supervised learning\n",
    "\n",
    "This notebook depends on [GPy](https://github.com/SheffieldML/GPy) and [PyDeepGP](https://github.com/SheffieldML/PyDeepGP). These libraries can be installed via pip:\n",
    "```\n",
    "pip install GPy\n",
    "pip install git+https://github.com/SheffieldML/PyDeepGP.git\n",
    "```"
   ]
  },
  {
   "cell_type": "code",
   "execution_count": 1,
   "metadata": {
    "collapsed": false
   },
   "outputs": [],
   "source": [
    "import deepgp\n",
    "import GPy\n",
    "import numpy as np\n",
    "%matplotlib inline\n",
    "from pylab import *"
   ]
  },
  {
   "cell_type": "code",
   "execution_count": 2,
   "metadata": {
    "collapsed": true
   },
   "outputs": [],
   "source": [
    "# Visualization Utility Functions\n",
    "def ax_default(fignum, ax):\n",
    "    if ax is None:\n",
    "        fig = figure(fignum)\n",
    "        ax = fig.add_subplot(111)\n",
    "    else:\n",
    "        fig = ax.figure\n",
    "    return fig, ax\n",
    "\n",
    "def meanplot(x, mu, color='#3300FF', ax=None, fignum=None, linewidth=2,**kw):\n",
    "    _, axes = ax_default(fignum, ax)\n",
    "    return axes.plot(x,mu,color=color,linewidth=linewidth,**kw)\n",
    "\n",
    "def gpplot(x, mu, lower, upper, edgecol='#3300FF', fillcol='#33CCFF', ax=None, fignum=None, **kwargs):\n",
    "    _, axes = ax_default(fignum, ax)\n",
    "\n",
    "    mu = mu.flatten()\n",
    "    x = x.flatten()\n",
    "    lower = lower.flatten()\n",
    "    upper = upper.flatten()\n",
    "\n",
    "    plots = []\n",
    "\n",
    "    #here's the mean\n",
    "    plots.append(meanplot(x, mu, edgecol, axes))\n",
    "\n",
    "    #here's the box\n",
    "    kwargs['linewidth']=0.5\n",
    "    if not 'alpha' in kwargs.keys():\n",
    "        kwargs['alpha'] = 0.3\n",
    "    plots.append(axes.fill(np.hstack((x,x[::-1])),np.hstack((upper,lower[::-1])),color=fillcol,**kwargs))\n",
    "\n",
    "    #this is the edge:\n",
    "    plots.append(meanplot(x, upper,color=edgecol,linewidth=0.2,ax=axes))\n",
    "    plots.append(meanplot(x, lower,color=edgecol,linewidth=0.2,ax=axes))\n",
    "\n",
    "    return plots"
   ]
  },
  {
   "cell_type": "code",
   "execution_count": 3,
   "metadata": {
    "collapsed": false
   },
   "outputs": [
    {
     "name": "stdout",
     "output_type": "stream",
     "text": [
      "Acquiring resource: olympic_marathon_men\n",
      "\n",
      "Details of data: \n",
      "Olympic mens' marathon gold medal winning times from 1896 to 2012. Time given in pace (minutes per kilometer). Data is originally downloaded and collated from Wikipedia, we are not responsible for errors in the data\n",
      "\n",
      "After downloading the data will take up 584 bytes of space.\n",
      "\n",
      "Data will be stored in /Users/lawrennd/tmp/GPy-datasets/olympic_marathon_men.\n",
      "\n",
      "Do you wish to proceed with the download? [yes/no]\n",
      "yes\n",
      "olympicMarathonTimes.csv\n",
      "Downloading  http://staffwww.dcs.shef.ac.uk/people/N.Lawrence/dataset_mirror/olympic_marathon_men/olympicMarathonTimes.csv -> /Users/lawrennd/tmp/GPy-datasets/olympic_marathon_men/olympicMarathonTimes.csv\n",
      "[==============================]   0.001/0.001MB                                                \n"
     ]
    }
   ],
   "source": [
    "data = GPy.util.datasets.olympic_marathon_men()\n",
    "x = data['X']\n",
    "y = data['Y']"
   ]
  },
  {
   "cell_type": "code",
   "execution_count": 4,
   "metadata": {
    "collapsed": false
   },
   "outputs": [
    {
     "name": "stdout",
     "output_type": "stream",
     "text": [
      "\n",
      "Name : deepgp\n",
      "Objective : 861.2417113363451\n",
      "Number of Parameters : 680\n",
      "Number of Optimization Parameters : 676\n",
      "Updates : True\n",
      "Parameters:\n",
      "  \u001b[1mdeepgp.                         \u001b[0;0m  |             value  |  constraints  |  priors\n",
      "  \u001b[1mobslayer.inducing_inputs        \u001b[0;0m  |           (50, 5)  |               |        \n",
      "  \u001b[1mobslayer.rbf.variance           \u001b[0;0m  |               1.0  |   +ve fixed   |        \n",
      "  \u001b[1mobslayer.rbf.lengthscale        \u001b[0;0m  |              (5,)  |      +ve      |        \n",
      "  \u001b[1mobslayer.Gaussian_noise.variance\u001b[0;0m  |  0.00285998869872  |   +ve fixed   |        \n",
      "  \u001b[1mobslayer.Kuu_var                \u001b[0;0m  |             (50,)  |      +ve      |        \n",
      "  \u001b[1mobslayer.latent_space.mean      \u001b[0;0m  |           (27, 5)  |               |        \n",
      "  \u001b[1mobslayer.latent_space.variance  \u001b[0;0m  |           (27, 5)  |      +ve      |        \n",
      "  \u001b[1mlayer_1.inducing_inputs         \u001b[0;0m  |           (50, 1)  |               |        \n",
      "  \u001b[1mlayer_1.rbf.variance            \u001b[0;0m  |               1.0  |   +ve fixed   |        \n",
      "  \u001b[1mlayer_1.rbf.lengthscale         \u001b[0;0m  |               1.0  |      +ve      |        \n",
      "  \u001b[1mlayer_1.Gaussian_noise.variance \u001b[0;0m  |              0.01  |   +ve fixed   |        \n",
      "  \u001b[1mlayer_1.Kuu_var                 \u001b[0;0m  |             (50,)  |      +ve      |        \n"
     ]
    }
   ],
   "source": [
    "m = deepgp.DeepGP([y.shape[1],5,x.shape[1]],Y=y, X=x, inits=['PCA','PCA'], \n",
    "                  kernels=[GPy.kern.RBF(5,ARD=True),GPy.kern.RBF(x.shape[1],ARD=True)], # the kernels for each layer\n",
    "                  num_inducing=50, back_constraint=False)\n",
    "m.obslayer.likelihood.variance[:] = y.var()*0.01\n",
    "for layer in m.layers:\n",
    "    layer.kern.variance.fix(warning=False)\n",
    "    layer.likelihood.variance.fix(warning=False)\n",
    "print(m)"
   ]
  },
  {
   "cell_type": "code",
   "execution_count": 5,
   "metadata": {
    "collapsed": false,
    "scrolled": false
   },
   "outputs": [],
   "source": [
    "m.optimize(messages=1,max_iters=100)\n",
    "for layer in m.layers:\n",
    "    layer.kern.variance.constrain_positive(warning=False)\n",
    "m.optimize(messages=1,max_iters=100)\n",
    "for layer in m.layers:\n",
    "    layer.likelihood.variance.constrain_positive(warning=False)\n",
    "m.optimize(messages=1,max_iters=10000)"
   ]
  },
  {
   "cell_type": "code",
   "execution_count": 6,
   "metadata": {
    "collapsed": false
   },
   "outputs": [
    {
     "name": "stdout",
     "output_type": "stream",
     "text": [
      "\n",
      "Name : deepgp\n",
      "Objective : 17.345529248770163\n",
      "Number of Parameters : 680\n",
      "Number of Optimization Parameters : 680\n",
      "Updates : True\n",
      "Parameters:\n",
      "  \u001b[1mdeepgp.                         \u001b[0;0m  |              value  |  constraints  |  priors\n",
      "  \u001b[1mobslayer.inducing_inputs        \u001b[0;0m  |            (50, 5)  |               |        \n",
      "  \u001b[1mobslayer.rbf.variance           \u001b[0;0m  |      27.9588844697  |      +ve      |        \n",
      "  \u001b[1mobslayer.rbf.lengthscale        \u001b[0;0m  |               (5,)  |      +ve      |        \n",
      "  \u001b[1mobslayer.Gaussian_noise.variance\u001b[0;0m  |   0.00410605913376  |      +ve      |        \n",
      "  \u001b[1mobslayer.Kuu_var                \u001b[0;0m  |              (50,)  |      +ve      |        \n",
      "  \u001b[1mobslayer.latent_space.mean      \u001b[0;0m  |            (27, 5)  |               |        \n",
      "  \u001b[1mobslayer.latent_space.variance  \u001b[0;0m  |            (27, 5)  |      +ve      |        \n",
      "  \u001b[1mlayer_1.inducing_inputs         \u001b[0;0m  |            (50, 1)  |               |        \n",
      "  \u001b[1mlayer_1.rbf.variance            \u001b[0;0m  |  0.000702239064208  |      +ve      |        \n",
      "  \u001b[1mlayer_1.rbf.lengthscale         \u001b[0;0m  |      51.8901653296  |      +ve      |        \n",
      "  \u001b[1mlayer_1.Gaussian_noise.variance \u001b[0;0m  |  0.000540442214432  |      +ve      |        \n",
      "  \u001b[1mlayer_1.Kuu_var                 \u001b[0;0m  |              (50,)  |      +ve      |        \n"
     ]
    }
   ],
   "source": [
    "print(m)"
   ]
  },
  {
   "cell_type": "code",
   "execution_count": 7,
   "metadata": {
    "collapsed": false
   },
   "outputs": [
    {
     "data": {
      "text/html": [
       "<style type=\"text/css\">\n",
       ".tg  {padding:2px 3px;word-break:normal;border-collapse:collapse;border-spacing:0;border-color:#DCDCDC;margin:0px auto;width:100%;}\n",
       ".tg td{font-family:\"Courier New\", Courier, monospace !important;font-weight:bold;color:#444;background-color:#F7FDFA;border-style:solid;border-width:1px;overflow:hidden;word-break:normal;border-color:#DCDCDC;}\n",
       ".tg th{font-family:\"Courier New\", Courier, monospace !important;font-weight:normal;color:#fff;background-color:#26ADE4;border-style:solid;border-width:1px;overflow:hidden;word-break:normal;border-color:#DCDCDC;}\n",
       ".tg .tg-left{font-family:\"Courier New\", Courier, monospace !important;font-weight:normal;text-align:left;}\n",
       ".tg .tg-right{font-family:\"Courier New\", Courier, monospace !important;font-weight:normal;text-align:right;}\n",
       "</style>\n",
       "<table class=\"tg\">\n",
       "\n",
       "<tr>\n",
       "  <th><b>index</b></th>\n",
       "  <th><b>deepgp.obslayer.rbf.lengthscale</b></th>\n",
       "  <th><b>constraints</b></th><th><b>priors</b></th>\n",
       "</tr>\n",
       "<tr><td class=tg-left>  [0]  </td><td class=tg-right>                     0.26066207</td><td class=tg-left>    +ve    </td><td class=tg-left>      </td></tr>\n",
       "<tr><td class=tg-left>  [1]  </td><td class=tg-right>                    43.49754919</td><td class=tg-left>    +ve    </td><td class=tg-left>      </td></tr>\n",
       "<tr><td class=tg-left>  [2]  </td><td class=tg-right>                    43.62949444</td><td class=tg-left>    +ve    </td><td class=tg-left>      </td></tr>\n",
       "<tr><td class=tg-left>  [3]  </td><td class=tg-right>                    43.47473531</td><td class=tg-left>    +ve    </td><td class=tg-left>      </td></tr>\n",
       "<tr><td class=tg-left>  [4]  </td><td class=tg-right>                    43.30625478</td><td class=tg-left>    +ve    </td><td class=tg-left>      </td></tr>"
      ],
      "text/plain": [
       "\u001b[1mdeepgp.obslayer.rbf.lengthscale\u001b[0;0m:\n",
       "Param([  0.26066207,  43.49754919,  43.62949444,  43.47473531,  43.30625478])"
      ]
     },
     "execution_count": 7,
     "metadata": {},
     "output_type": "execute_result"
    }
   ],
   "source": [
    "m.obslayer.kern.lengthscale"
   ]
  },
  {
   "cell_type": "markdown",
   "metadata": {},
   "source": [
    "### Plot the prediction"
   ]
  },
  {
   "cell_type": "code",
   "execution_count": 8,
   "metadata": {
    "collapsed": false
   },
   "outputs": [
    {
     "data": {
      "image/png": "[encoded data removed]",
      "text/plain": [
       "<matplotlib.figure.Figure at 0x115f87748>"
      ]
     },
     "metadata": {},
     "output_type": "display_data"
    }
   ],
   "source": [
    "xt = np.linspace(x.min(),x.max(),200)[:,None]\n",
    "yt = m.predict(xt)\n",
    "gpplot(xt,yt[0],yt[0]-2*np.sqrt(yt[1]),yt[0]+2*np.sqrt(yt[1]))\n",
    "plot(x,y,'rx')\n",
    "xlabel('Year')\n",
    "_=ylabel('Time given in pace (min per km)')"
   ]
  },
  {
   "cell_type": "markdown",
   "metadata": {},
   "source": [
    "### Fitted GP for each layer"
   ]
  },
  {
   "cell_type": "code",
   "execution_count": 9,
   "metadata": {
    "collapsed": false
   },
   "outputs": [
    {
     "data": {
      "image/png": "[encoded data removed]",
      "text/plain": [
       "<matplotlib.figure.Figure at 0x1151a75c0>"
      ]
     },
     "metadata": {},
     "output_type": "display_data"
    }
   ],
   "source": [
    "xt = np.linspace(x.min(),x.max(),200)[:,None]\n",
    "yt = m.layer_1.predict(xt)\n",
    "gpplot(xt,yt[0][:,0],yt[0][:,0:1]-2*np.sqrt(yt[1]),yt[0][:,0:1]+2*np.sqrt(yt[1]))\n",
    "xlabel('input (Year)')\n",
    "_=ylabel('hidden layer')"
   ]
  },
  {
   "cell_type": "code",
   "execution_count": 10,
   "metadata": {
    "collapsed": false
   },
   "outputs": [
    {
     "data": {
      "image/png": "[encoded data removed]",
      "text/plain": [
       "<matplotlib.figure.Figure at 0x116dee2b0>"
      ]
     },
     "metadata": {},
     "output_type": "display_data"
    }
   ],
   "source": [
    "xt = np.zeros((200,5))\n",
    "xt[:,0] = np.linspace(-0.3,0.3,200)\n",
    "yt = m.obslayer.predict(xt)\n",
    "gpplot(xt[:,0],yt[0],yt[0]-2*np.sqrt(yt[1]),yt[0]+2*np.sqrt(yt[1]))\n",
    "xlabel('hidden layer')\n",
    "_=ylabel('output')"
   ]
  },
  {
   "cell_type": "code",
   "execution_count": null,
   "metadata": {
    "collapsed": true
   },
   "outputs": [],
   "source": []
  }
 ],
 "metadata": {
  "anaconda-cloud": {},
  "kernelspec": {
   "display_name": "Python [default]",
   "language": "python",
   "name": "python3"
  },
  "language_info": {
   "codemirror_mode": {
    "name": "ipython",
    "version": 3
   },
   "file_extension": ".py",
   "mimetype": "text/x-python",
   "name": "python",
   "nbconvert_exporter": "python",
   "pygments_lexer": "ipython3",
   "version": "3.4.5"
  }
 },
 "nbformat": 4,
 "nbformat_minor": 2
}
