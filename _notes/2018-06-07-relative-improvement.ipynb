{
 "cells": [
  {
   "cell_type": "markdown",
   "metadata": {},
   "source": [
    "$$\\newcommand{\\worth}{v}\n",
    "\\newcommand{\\gammaCdf}[3]{\\mathcal{GAMMA CDF}\\left(#1|#2,#3\\right)}\n",
    "\\newcommand{\\gammaDist}[3]{\\mathcal{G}\\left(#1|#2,#3\\right)}\n",
    "\\newcommand{\\gammaSamp}[2]{\\mathcal{G}\\left(#1,#2\\right)}\n",
    "\\newcommand{\\cdf}{\\text{cdf}}\n",
    "$$\n",
    "\n",
    "# Relative Improvement Decision Making\n",
    "   \n",
    "### 2018-06-07\n",
    "\n",
    "### Neil D. Lawrence\n",
    "\n",
    "The idea of relative improvement is that our personal utility is related to our relative change in society. For example, our sensitivity to an increase in salary is dependent on how it situates us relative to our peers, rather than an absolute change in position.\n",
    "   \n",
    "How a change in circumstance effects us, is therefore related to our context, and how resources or income are distributed throughout our community.\n",
    "\n",
    "Firstly, we'll consider a worked example. \n",
    "\n",
    "### Marginal Utility\n",
    "\n",
    "As a starting example, consider the *logarithmic utility* as suggested by Daniel Bernoulli. If we are sensitive to the log of change, we can inverse engineer what our *assumption* about the underlying distribution of resources or income is.\n",
    "\n",
    "Expected gain under logarithmic utility is \n",
    "$$\n",
    "\\log \\worth_2 - \\log \\worth_1\n",
    "$$\n",
    "If we are interested in our relative position in the population, this implies our change in relative position is given by\n",
    "$$\n",
    "\\cdf(\\worth_2) - \\cdf(\\worth_1)\n",
    "$$\n",
    "which implies that we are assuming that the logarithm is the cumulative distribution function (CDF) of the underlying wealth distribution. To recover the probability density function (PDF) we differentiate the CDF and recover,\n",
    "$$\n",
    "p(\\worth) = \\frac{1}{\\worth}\n",
    "$$\n",
    "which is not a correctly normalized distribution, but is often used as an improper density covering the positive half space, i.e. if we don't have knowledge of the underlying density then defining the Gamma density as,\n",
    "$$\n",
    "\\gammaDist{\\worth}{a}{b} = \\frac{b^a \\worth^{a-1}e^{-b\\worth}}{\\Gamma(a)}\n",
    "$$\n",
    "we can take the limit as $a\\rightarrow 0$ and $b\\rightarrow 0$ and recover the improper prior over $\\worth$ of $\\frac{1}{\\worth}$ as suggested by Daniel Bernoulli's logarithmic utility.\n",
    "\n",
    "Given our starting example, which reverse engineered an existing marginal utility, we can now start from a more usual assumption of the distribution of resource or income, the Pareto distribution, and engineer directly a utility based on the idea of *relative improvement*. \n",
    "\n",
    "The Pareto distribution is a density proposed to model the wealth or income in a population. \n",
    "$$\n",
    "p(\\worth) = \\frac{\\alpha \\worth_m^\\alpha}{\\worth^{\\alpha+1}}\n",
    "$$\n",
    "The CDF for the Pareto density is given by\n",
    "$$\n",
    "\\cdf(\\worth) = 1 - \\left(\\frac{\\worth_m}{\\worth}\\right)^\\alpha\n",
    "$$\n",
    "So the marginal utility is given by\n",
    "$$\n",
    "m(\\worth_1, \\worth_2) = \\left(\\frac{\\worth_m}{\\worth_1}\\right)^\\alpha-\\left(\\frac{\\worth_m}{\\worth_2}\\right)^\\alpha\n",
    "$$\n",
    "\n",
    "\n"
   ]
  },
  {
   "cell_type": "markdown",
   "metadata": {},
   "source": [
    "$$\n",
    "m(\\worth_1, \\worth_2) = \\left(\\frac{\\worth_m}{\\worth_1}\\right)^\\alpha-\\left(\\frac{\\worth_m}{\\worth_2}\\right)^\\alpha\n",
    "$$\n",
    "$$\n",
    "m(\\worth_1, \\worth_2) = \\worth_m^\\alpha\\frac{\\worth_2^\\alpha - \\worth_1^\\alpha}{\\left(\\worth_1\\worth_2\\right)^\\alpha}\n",
    "$$\n",
    "$$\n",
    "m(\\worth_1, \\worth_2) = \\left(\\frac{\\worth_m}{\\worth_1}\\right)^\\alpha\\frac{\\worth_2^\\alpha - \\worth_1^\\alpha}{\\worth_2^\\alpha}\n",
    "$$\n",
    "$$\n",
    "m(\\worth_1, \\worth_2) = \\left(\\frac{\\worth_m}{\\worth_1}\\right)^\\alpha\\frac{(\\worth_1 + \\delta\\worth)^\\alpha - \\worth_1^\\alpha}{(\\worth_1+\\delta\\worth)^\\alpha}\n",
    "$$"
   ]
  },
  {
   "cell_type": "markdown",
   "metadata": {},
   "source": [
    "For the most exterme case $\\alpha=1$ we have\n",
    "$$\n",
    "m(\\worth_1, \\worth_2) = \\worth_m\\frac{\\worth_2 - \\worth_1}{\\worth_1\\worth_2}\n",
    "$$\n",
    "considering $\\delta \\worth$\n",
    "$$\n",
    "m(\\delta\\worth) = \\frac{\\worth_m}{\\worth_1}\\frac{\\delta \\worth}{(\\delta\\worth + \\worth_1)}\n",
    "$$"
   ]
  },
  {
   "cell_type": "code",
   "execution_count": 6,
   "metadata": {},
   "outputs": [],
   "source": [
    "from scipy.special import gammainc, gamma"
   ]
  },
  {
   "cell_type": "code",
   "execution_count": 23,
   "metadata": {},
   "outputs": [],
   "source": [
    "class Utility():\n",
    "    def __init__(self):\n",
    "        pass\n",
    "    \n",
    "    def u(self, c):\n",
    "        \"\"\"Utility function\"\"\"\n",
    "        raise NotImplementedError\n",
    "        \n",
    "    def uprime(self, c):\n",
    "        raise NotImplementedError\n",
    "\n",
    "    def v(self, cstar, deltac):\n",
    "        \"\"\"Value function\"\"\"\n",
    "        return self.u(cstar+deltac) - self.u(cstar)    \n",
    "        \n",
    "    def A(self, c):\n",
    "        \"\"\"Absolute risk aversion\"\"\"\n",
    "        raise NotImplementedError\n",
    "        \n",
    "    def R(self, c):\n",
    "        \"\"\"Relative risk aversion\"\"\"\n",
    "        return self.ara*c\n",
    "    \n",
    "    def G(self):\n",
    "        \"\"\"Gini coefficient\"\"\"\n",
    "        raise NotImplementedError\n",
    "\n",
    "    def _repr_html_(self):\n",
    "        raise NotImplementedError\n",
    "        \n",
    "class Exponential(Utility):\n",
    "    def __init__(self, a=1.):\n",
    "        Utility.__init__(self)\n",
    "        self.a = 1.\n",
    "        \n",
    "    def u(self, c):\n",
    "        return 1-np.exp(-self.a*c)\n",
    "    \n",
    "    def uprime(self, c):\n",
    "        return self.a*np.exp(-self.a*c)\n",
    "    \n",
    "    def A(self, c):\n",
    "        return self.a*np.ones(c.shape)\n",
    "    \n",
    "    def R(self, c):\n",
    "        \"\"\"Relative risk aversion\"\"\"\n",
    "        return self.a/c\n",
    "    \n",
    "    def G(self):\n",
    "        \"\"\"Gini coefficient\"\"\"\n",
    "        return 0.5\n",
    "    \n",
    "class Log(Utility):\n",
    "    def __init__(self, a=1., b=0.):\n",
    "        \"\"\"Log utility function. This utility funciton doesn't have an associated underlying PDF, but 1/c is often used as an uninformative prior across a space\"\"\"\n",
    "        Utility.__init__(self)\n",
    "        self.a = a\n",
    "        self.b = b\n",
    "        \n",
    "    def u(self, c):\n",
    "        return np.log(self.a*c + self.b)\n",
    "    \n",
    "    def uprime(self, c):\n",
    "        return 1./(self.a*c + self.b)\n",
    "    \n",
    "    def A(self, c):\n",
    "        \"\"\"Absolute risk aversion\"\"\"\n",
    "        return 1./(self.a*c + self.b)\n",
    "    \n",
    "    def R(self, c):\n",
    "        \"\"\"Relative risk aversion\"\"\"\n",
    "        if self.b == 0:\n",
    "            return np.ones(c.shape)/self.a\n",
    "        else:\n",
    "            return c/(self.a*c + self.b) \n",
    "\n",
    "class Linear(Utility):\n",
    "    def __init__(self, a=1., b=0.):\n",
    "        Utility.__init__(self)\n",
    "        self.a=a\n",
    "        self.b=b\n",
    "    \n",
    "    def u(self, c):\n",
    "        return self.a*c + self.b\n",
    "    \n",
    "        \n",
    "class Isoelastic(Utility):\n",
    "    def __init__(self, eta):\n",
    "        Utility.__init__(self)\n",
    "        self.eta=eta\n",
    "        \n",
    "    def u(self, c):\n",
    "        if self.eta==1:\n",
    "            return np.log(c)\n",
    "        else:\n",
    "            return (c**(1-self.eta) - 1)/(1-self.eta)\n",
    "        \n",
    "    def uprime(self, c):\n",
    "        if self.eta==1:\n",
    "            return c**(1-2*self.eta)\n",
    "        \n",
    "    def A(self, c):\n",
    "        \"\"\"Absolute risk aversion\"\"\"\n",
    "        return (2.*self.eta - 1.)/c\n",
    "    \n",
    "    def R(self, c):\n",
    "        \"\"\"Relative risk aversion\"\"\"\n",
    "        return (2.*self.eta - 1)\n",
    "    \n",
    "    \n",
    "class LogLogistic(Utility):\n",
    "    def __init(self, alpha=1., beta=1.):\n",
    "        Utility.__init__(self)\n",
    "        self.alpha = alpha\n",
    "        self.beta = beta\n",
    "        \n",
    "    def u(self, c):\n",
    "        return 1/(1+(c/self.alpha)**-self.beta)\n",
    "    \n",
    "    def uprime(self, c):\n",
    "        return ((self.beta/self.alpha)*(c/self.alpha)**(self.beta-1))/(1+(c/self.alpha)**self.beta)**2\n",
    "    \n",
    "    def A(self, c):\n",
    "        \"\"\"Absolute risk aversion\"\"\"\n",
    "        return (self.beta-1.)/c - 2/(self.alpha + c)\n",
    "    \n",
    "    def R(self, c):\n",
    "        \"\"\"Relative risk aversion\"\"\"\n",
    "        return self.beta -1. - 2/(self.alpha/c + 1.)\n",
    "    \n",
    "    def G(self):\n",
    "        \"\"\"Gini coefficient\"\"\"\n",
    "        return 1./self.beta\n",
    "\n",
    "class Pareto(Utility):\n",
    "    def __init__(self, c_m=0., alpha=1.):\n",
    "        Utility.__init__()\n",
    "        self.c_m = c_m\n",
    "        self.alpha = alpha\n",
    "\n",
    "    def _lims(self, c):\n",
    "        return np.where(c<self.c_m), np.where(c>=self.c_m), np.zeros(c.shape)\n",
    "\n",
    "    def u(self, c):\n",
    "        ind1, ind2, ret = self._lims(c)\n",
    "        ret[ind2] = 1-(self.c_m/c)**self.alpha\n",
    "        ret[ind1] = 0\n",
    "        return ret\n",
    "    \n",
    "    def uprime(self, c):\n",
    "        ind1, ind2, ret = self._lims(c)\n",
    "        ret[ind2] = self.alpha*self.c_m**self.alpha/c**(self.alpha+1)\n",
    "        ret[ind1] = 0\n",
    "        return ret\n",
    "    \n",
    "    def A(self, c):\n",
    "        \"\"\"Absolute risk aversion\"\"\"\n",
    "        ind1, ind2, ret = self._lims(c)\n",
    "        ret[ind2] = (self.alpha + 1.)/self.c\n",
    "        ret[ind1] = np.NaN\n",
    "        \n",
    "    def R(self, c):\n",
    "        \"\"\"Relative risk aversion\"\"\"\n",
    "        ind1, ind2, ret = self._lims(c)\n",
    "        ret[ind2] = self.alpha + 1.\n",
    "        ret[ind1] = np.NaN\n",
    "        \n",
    "    def G(self):\n",
    "        \"\"\"Gini coefficient\"\"\"\n",
    "        if self.alpha > 1.:\n",
    "            return 1/(2*self.alpha-1)\n",
    "        elif self.alpha > 0:\n",
    "            return 1.\n",
    "        \n",
    "class Gamma(Utility):\n",
    "    def __init__(self, c, a=1., b=1.):\n",
    "        Utility.__init__()\n",
    "        self.a = a\n",
    "        self.b = b\n",
    "        \n",
    "    def u(self, c):\n",
    "        \"\"\"Utility\"\"\"\n",
    "        sp.special.gammainc(self.a, self.b*c)/sp.special.gamma(self.a)\n",
    "        \n",
    "    def uprime(self, c):\n",
    "        \"\"\"pdf\"\"\"\n",
    "        return self.b**self.a/sp.special.gamma(self.a)*c**(self.a-1)*np.exp(-self.b*c)\n",
    "        \n",
    "    def A(self, c):\n",
    "        \"\"\"Absolute risk aversion\"\"\"\n",
    "        return (self.a-1)/c - self.b\n",
    "    \n",
    "    def R(self, c):\n",
    "        \"\"\"Relative risk aversion\"\"\"\n",
    "        return (self.a-1) - self.b*c\n",
    "        \n",
    "    def G(self):\n",
    "        \"\"\"Gini coefficient\"\"\"\n",
    "        return sp.special.gamma((2*a+1)/2)/(a*sp.special.gamma(a)*np.sqrt(np.pi))\n",
    "    \n",
    "class LogNormal(Utility):\n",
    "    def __init__(self, mu=1., sigma=1.):\n",
    "        Utility.__init__()\n",
    "        self.mu = mu\n",
    "        self.sigma = sigma\n",
    "        self.sigma2 = sigma*sigma\n",
    "        \n",
    "    def u(self, c):\n",
    "        \"\"\"Utility\"\"\"\n",
    "        return 0.5 + 0.5*sp.special.erf((np.log(c)-self.mu)/(np.sqrt(2)*self.sigma))\n",
    "        \n",
    "    def uprime(self, c):\n",
    "        \"\"\"pdf\"\"\"\n",
    "        return 1./(c*self.sigma*np.sqrt(2*np.pi))*np.exp(-((np.log(c)-self.mu)**2)/(2*self.sigma2))\n",
    "        \n",
    "    def A(self, c):\n",
    "        \"\"\"Absolute risk aversion\"\"\"\n",
    "        return 1./c*(1+ (np.log(c)-self.mu)/(2*self.sigma2))\n",
    "        \n",
    "    def R(self, c):\n",
    "        \"\"\"Relative risk aversion\"\"\"\n",
    "        return (1+ (np.log(c)-self.mu)/(2*self.sigma2))\n",
    "    def G(self):\n",
    "        \"\"\"Gini coefficient\"\"\"\n",
    "        return sp.special.erf(self.sigma/2)\n",
    "    \n",
    "class LogCauchy(Utility):\n",
    "    def __init__(self, mu=1., sigma=1.):\n",
    "        Utility.__init__()\n",
    "        self.mu = mu\n",
    "        self.sigma = sigma\n",
    "        self.sigma2 = sigma*sigma\n",
    "        \n",
    "    def u(self, c):\n",
    "        \"\"\"Utility\"\"\"\n",
    "        return 1./np.pi *np.atan((np.log(c)-self.mu)/self.sigma)\n",
    "    \n",
    "    def uprime(self, c):\n",
    "        \"\"\"pdf\"\"\"\n",
    "        return 1./(c*np.pi)*(self.sigma/((np.log(c)-self.mu)**2 + self.sigma2))\n",
    "        \n",
    "    def A(self, c):\n",
    "        \"\"\"Absolute risk aversion\"\"\"\n",
    "        return 1./c + 2./c*(np.log(c)-self.mu)/((np.log(c)-self.mu)**2 + self.sigma2)\n",
    "        \n",
    "    def R(self, c):\n",
    "        \"\"\"Relative risk aversion\"\"\"\n",
    "        return 1 + 2.*(np.log(c)-self.mu)/((np.log(c)-self.mu)**2 + self.sigma2)\n",
    "\n",
    "    \n",
    "class Weibull(Utility):\n",
    "    def __init__(self, k=1., lambd=1.):\n",
    "        Utility.__init__()\n",
    "        self.k = k\n",
    "        self.lambd = lambd\n",
    "        \n",
    "    def u(self, c):\n",
    "        \"\"\"Utility\"\"\"\n",
    "        return 1-np.exp(-(self.lambd*c)**self.k)\n",
    "        \n",
    "    def uprime(self, c):\n",
    "        \"\"\"pdf\"\"\"\n",
    "        return self.k/self.lambd*(c/self.lambd)**(self.k-1)*np.exp(-(c/self.lambd)**self.k)\n",
    "        \n",
    "    def A(self, c):\n",
    "        \"\"\"Absolute risk aversion\"\"\"\n",
    "        return -(self.k-1)/c + (self.k-1)*(c/self.lambd)**(self.k-1)\n",
    "        \n",
    "    def R(self, c):\n",
    "        \"\"\"Relative risk aversion\"\"\"\n",
    "        return -(self.k-1) + c*(self.k-1)*(c/self.lambd)**(self.k-1)\n",
    "    \n",
    "    def G(self):\n",
    "        \"\"\"Gini coefficient\"\"\"\n",
    "        return 1-2**(-1/self.k)"
   ]
  },
  {
   "cell_type": "code",
   "execution_count": 42,
   "metadata": {},
   "outputs": [
    {
     "data": {
      "text/plain": [
       "array([[1.],\n",
       "       [1.],\n",
       "       [1.],\n",
       "       [1.],\n",
       "       [1.],\n",
       "       [1.],\n",
       "       [1.],\n",
       "       [1.],\n",
       "       [1.],\n",
       "       [1.]])"
      ]
     },
     "execution_count": 42,
     "metadata": {},
     "output_type": "execute_result"
    }
   ],
   "source": [
    "c = np.random.randn(10, 1)\n",
    "np.ones(c.shape)"
   ]
  },
  {
   "cell_type": "code",
   "execution_count": null,
   "metadata": {},
   "outputs": [],
   "source": [
    "%matplotlib inline\n",
    "import matplotlib.pyplot as plt\n",
    "import numpy as np\n",
    "fig, ax = plt.subplots(figsize=(10, 7))\n",
    "vm = 1\n",
    "v1 = 4000\n",
    "alpha = 20\n",
    "a=9\n",
    "b=0.0003\n",
    "dv = np.linspace(-4000, 5000, 100)"
   ]
  },
  {
   "cell_type": "code",
   "execution_count": null,
   "metadata": {},
   "outputs": [],
   "source": [
    "# From CDF of Pareto density\n",
    "m = Pareto(c_m = 1, alpha=20).v(v1, dv)\n",
    "m = np.exp(alpha*np.log(vm/v1) - alpha*np.log(dv+v1))*((v1+dv)**alpha-v1**alpha)"
   ]
  },
  {
   "cell_type": "code",
   "execution_count": null,
   "metadata": {},
   "outputs": [],
   "source": [
    "# From CDF of 1/x\n",
    "m = Logarithmic().v(v1, dv)\n",
    "m2 = np.log(v1+dv)-np.log(v1)"
   ]
  },
  {
   "cell_type": "code",
   "execution_count": null,
   "metadata": {},
   "outputs": [],
   "source": [
    "# From CDF of Gamma density\n",
    "m3 = Gamma(a=a, b=b).v(v1, dv)\n",
    "m3 = (gammainc(a, b*(v1+dv))-gammainc(a, b*v1))/gamma(a)"
   ]
  },
  {
   "cell_type": "code",
   "execution_count": 41,
   "metadata": {},
   "outputs": [
    {
     "name": "stderr",
     "output_type": "stream",
     "text": [
      "/Users/neil/anaconda3/lib/python3.6/site-packages/ipykernel_launcher.py:13: RuntimeWarning: divide by zero encountered in log\n",
      "  del sys.path[0]\n",
      "/Users/neil/anaconda3/lib/python3.6/site-packages/ipykernel_launcher.py:16: RuntimeWarning: divide by zero encountered in log\n",
      "  app.launch_new_instance()\n",
      "/Users/neil/anaconda3/lib/python3.6/site-packages/ipykernel_launcher.py:25: RuntimeWarning: divide by zero encountered in true_divide\n"
     ]
    },
    {
     "data": {
      "image/png": "[encoded data removed]",
      "text/plain": [
       "<Figure size 720x504 with 1 Axes>"
      ]
     },
     "metadata": {},
     "output_type": "display_data"
    }
   ],
   "source": [
    "# Log Logistic (Dagum idstribution)\n",
    "alpha = 4000\n",
    "beta = 2\n",
    "p = 1\n",
    "m4 = LogLogistic(alpha=alpha, beta=beta, p=p).v(v1, dv)\n",
    "m4 = (1+(alpha/(v1+dv))**beta)**-p - (1+(alpha/v1)**beta)**-p\n",
    "\n",
    "plt.ylabel('% change')\n",
    "plt.xlabel('$')\n",
    "#ax.plot(dv, m*100)\n",
    "_ = ax.plot(dv, m4*100)"
   ]
  },
  {
   "cell_type": "markdown",
   "metadata": {},
   "source": [
    "### Connections with Prospect Theory\n",
    "\n",
    "From reading [Prospect Theory](https://www.jstor.org/stable/1914185) [@Kahneman:prospect79], the main contribution seems to be the non-concavity of the value function (utility function). This arises in Relative Improvement when the probability density has a non zero mode. "
   ]
  },
  {
   "cell_type": "markdown",
   "metadata": {},
   "source": [
    "The study adds further experimental evidence that people who \"have\" make more risk-averse decisions, while the \"have-nots\" make more risk-seeking decisions. This phenomenon has frequently been observed from studies using hypothetical decision-making situations [@Thaler:gambling90] and agrees with the increased risk aversion principle of Prospect Theory. This theory predicts exactly what we found, that is, prior losses put the subject in the domain of losses and prior gains have the opposite effect. http://journal.sjdm.org/06137/jdm06137.htm\n",
    "\n",
    " An essential feature of the present theory is that the carriers of value are\n",
    " changes in wealth or welfare, rather than final states. This assumption is compati-\n",
    " ble with basic principles of perception and judgment. Our perceptual apparatus is\n",
    " attuned to the evaluation of changes or differences rather than to the evaluation of\n",
    " absolute magnitudes. When we respond to attributes such as brightness, loudness,\n",
    " or temperature, the past and present context of experience defines an adaptation\n",
    " level, or reference point, and stimuli are perceived in relation to this reference\n",
    " point [23]. Thus, an object at a given temperature may be experienced as hot or\n",
    " cold to the touch depending on the temperature to which one has adapted. The\n",
    " same principle applies to non-sensory attributes such as health, prestige, and\n",
    " wealth. The same level of wealth, for example, may imply abject poverty for one\n",
    " person and great riches for another-depending on their current assets.\n",
    " \n",
    "  Many elements of the evaluation model have appeared in previous attempts to\n",
    " modify expected utility theory. Markowitz [29] was the first to propose that utility\n",
    " be defined on gains and losses rather than on final asset positions, an assumption\n",
    " which has been implicitly accepted in most experimental measurements of utility\n",
    " (see, e.g., [7, 32]). Markowitz also noted the presence of risk seeking in pref-\n",
    " erences among positive as well as among negative prospects, and he proposed a\n",
    " utility function which has convex and concave regions in both the positive and the\n",
    " negative domains. His treatment, however, retains the expectation principle;\n",
    " hence it cannot account for the many violations of this principle; see, e.g., Table I.\n",
    " The replacement of probabilities by more general weights was proposed by\n",
    " Edwards [9], and this model was investigated in several empirical studies (e.g.,  [3, 42]). Similar models were developed by Fellner [12], who introduced the concept of decision weight to explain aversion for ambiguity, and by van Dam [46]\n",
    " who attempted to scale decision weights. For other critical analyses of expected\n",
    " utility theory and alternative choice models, see Allais [2], Coombs [6], Fishburn\n",
    " [13], and Hansson [22].\n",
    " \n",
    "  The equations of prospect theory retain the general bilinear form that underlies\n",
    " expected utility theory. However, in order to accomodate the effects described in\n",
    " the first part of the paper, we are compelled to assume that values are attached to\n",
    " changes rather than to final states, and that decision weights do not coincide with\n",
    " stated probabilities. These departures from expected utility theory must lead to\n",
    " normatively unacceptable consequences, such as inconsistencies, intransitivities,\n",
    " and violations of dominance. Such anomalies of preference are normally cor-\n",
    " rected by the decision maker when he realizes that his preferences are inconsis-\n",
    " tent, intransitive, or inadmissible. In many situations, however, the decision\n",
    " maker does not have the opportunity to discover that his preferences could violate\n",
    " decision rules that he wishes to obey. In these circumstances the anomalies\n",
    " implied by prospect theory are expected to occur."
   ]
  },
  {
   "cell_type": "markdown",
   "metadata": {},
   "source": [
    "https://core.ac.uk/download/pdf/7048428.pdf\n",
    "\n",
    "[@Ramsey:truth26]"
   ]
  },
  {
   "cell_type": "markdown",
   "metadata": {},
   "source": [
    "The Use of Distribution Functions to Represent Utility Functions\n",
    "https://www.jstor.org/stable/2629422?seq=1#page_scan_tab_contents [@Berhold:distribution73]"
   ]
  },
  {
   "cell_type": "markdown",
   "metadata": {},
   "source": [
    "Concavity of utility leads to decreasing marginal returns. \n",
    "\n",
    "von-Neumann-Morgenstern utility functions (VNM-utility functions) \n",
    "\n",
    "[@vonNeumann:games44]"
   ]
  },
  {
   "cell_type": "code",
   "execution_count": 75,
   "metadata": {},
   "outputs": [],
   "source": [
    "import numpy as np"
   ]
  },
  {
   "cell_type": "code",
   "execution_count": 77,
   "metadata": {},
   "outputs": [
    {
     "data": {
      "text/plain": [
       "1"
      ]
     },
     "execution_count": 77,
     "metadata": {},
     "output_type": "execute_result"
    }
   ],
   "source": [
    "len(prospects)"
   ]
  },
  {
   "cell_type": "code",
   "execution_count": 81,
   "metadata": {},
   "outputs": [
    {
     "data": {
      "text/plain": [
       "array([[0.89],\n",
       "       [0.1 ]])"
      ]
     },
     "execution_count": 81,
     "metadata": {},
     "output_type": "execute_result"
    }
   ],
   "source": [
    "p_vec"
   ]
  },
  {
   "cell_type": "code",
   "execution_count": 113,
   "metadata": {},
   "outputs": [
    {
     "name": "stdout",
     "output_type": "stream",
     "text": [
      "[[-250000.]]\n"
     ]
    }
   ],
   "source": [
    "utility = Linear()\n",
    "prospects = [(1e6, 0.89), (5e6, 0.11)]\n",
    "#prospects = [(1e6, 1)]\n",
    "prospects= [(5e6, 0.10)]\n",
    "denom = 0.\n",
    "p_vec = np.zeros((len(prospects), 1))\n",
    "c_vec = np.zeros((len(prospects), 1))\n",
    "for i, (c, p) in enumerate(prospects):\n",
    "    p_vec[i] = p\n",
    "    c_vec[i] = c\n",
    "    \n",
    "u_vec = utility.u(c_vec)\n",
    "expec = p_vec.T@u_vec\n",
    "sd = np.sqrt(u_vec.T@(np.diag(p_vec.flatten())-p_vec@p_vec.T)@u_vec)\n",
    "print(expec - 0.5*sd)"
   ]
  },
  {
   "cell_type": "code",
   "execution_count": 106,
   "metadata": {},
   "outputs": [
    {
     "name": "stdout",
     "output_type": "stream",
     "text": [
      "[[422889.75694324]]\n"
     ]
    }
   ],
   "source": [
    "print(expec+sd)"
   ]
  },
  {
   "cell_type": "code",
   "execution_count": 103,
   "metadata": {},
   "outputs": [
    {
     "data": {
      "text/plain": [
       "array([[1440000.]])"
      ]
     },
     "execution_count": 103,
     "metadata": {},
     "output_type": "execute_result"
    }
   ],
   "source": [
    "expec"
   ]
  },
  {
   "cell_type": "code",
   "execution_count": 25,
   "metadata": {},
   "outputs": [
    {
     "name": "stdout",
     "output_type": "stream",
     "text": [
      "1.0\n",
      "999999.9999999995\n"
     ]
    }
   ],
   "source": [
    "utility = Linear()\n",
    "prospects = [(1e6, 0.89), (5e6, 0.1)]\n",
    "prospects = [(1e6, 1)]\n",
    "\n",
    "denom = 0.\n",
    "for v, p in prospects:\n",
    "    denom += utility.u(v)*p\n",
    "    \n",
    "lnexpec = 0.\n",
    "for v, p in prospects:\n",
    "    num = utility.u(v)*p\n",
    "    print(num/denom)\n",
    "    lnexpec += num/denom*np.log(utility.u(v))\n",
    "\n",
    "expec = np.exp(lnexpec)\n",
    "\n",
    "print(expec)"
   ]
  },
  {
   "cell_type": "code",
   "execution_count": 17,
   "metadata": {},
   "outputs": [
    {
     "data": {
      "text/plain": [
       "15.424948470398375"
      ]
     },
     "execution_count": 17,
     "metadata": {},
     "output_type": "execute_result"
    }
   ],
   "source": [
    "np.log(5e6)"
   ]
  },
  {
   "cell_type": "code",
   "execution_count": 53,
   "metadata": {},
   "outputs": [],
   "source": [
    "p = np.random.rand(10, 1)\n",
    "p /= p.sum()"
   ]
  },
  {
   "cell_type": "code",
   "execution_count": 54,
   "metadata": {},
   "outputs": [
    {
     "data": {
      "text/plain": [
       "<matplotlib.image.AxesImage at 0x11282d208>"
      ]
     },
     "execution_count": 54,
     "metadata": {},
     "output_type": "execute_result"
    },
    {
     "data": {
      "image/png": "[encoded data removed]",
      "text/plain": [
       "<Figure size 432x288 with 1 Axes>"
      ]
     },
     "metadata": {},
     "output_type": "display_data"
    }
   ],
   "source": [
    "import matplotlib.pyplot as plt\n",
    "plt.imshow(np.eye(10)-np.sqrt(p)@np.sqrt(p).T)"
   ]
  },
  {
   "cell_type": "code",
   "execution_count": 55,
   "metadata": {},
   "outputs": [],
   "source": [
    "U, V = np.linalg.eig(np.eye(10) - np.sqrt(p)@np.sqrt(p).T)"
   ]
  },
  {
   "cell_type": "code",
   "execution_count": 56,
   "metadata": {},
   "outputs": [
    {
     "data": {
      "text/plain": [
       "array([[1.]])"
      ]
     },
     "execution_count": 56,
     "metadata": {},
     "output_type": "execute_result"
    }
   ],
   "source": [
    "np.sqrt(p).T@np.sqrt(p)"
   ]
  },
  {
   "cell_type": "code",
   "execution_count": 73,
   "metadata": {},
   "outputs": [
    {
     "data": {
      "text/plain": [
       "array([[-1., -1., -1., -1., -1., -1., -1., -1., -1., -1.]])"
      ]
     },
     "execution_count": 73,
     "metadata": {},
     "output_type": "execute_result"
    }
   ],
   "source": [
    "V[:, 1]/np.sqrt(p).T"
   ]
  },
  {
   "cell_type": "code",
   "execution_count": 40,
   "metadata": {},
   "outputs": [
    {
     "data": {
      "text/plain": [
       "array([ 1.        +0.00000000e+00j, -3.72629585+0.00000000e+00j,\n",
       "        1.        +1.01029669e-16j,  1.        -1.01029669e-16j,\n",
       "        1.        +0.00000000e+00j,  1.        +0.00000000e+00j,\n",
       "        1.        +0.00000000e+00j,  1.        +0.00000000e+00j,\n",
       "        1.        +0.00000000e+00j,  1.        +0.00000000e+00j])"
      ]
     },
     "execution_count": 40,
     "metadata": {},
     "output_type": "execute_result"
    }
   ],
   "source": [
    "plt."
   ]
  },
  {
   "cell_type": "code",
   "execution_count": null,
   "metadata": {},
   "outputs": [],
   "source": []
  }
 ],
 "metadata": {
  "kernelspec": {
   "display_name": "Python 3",
   "language": "python",
   "name": "python3"
  }
 },
 "nbformat": 4,
 "nbformat_minor": 2
}
