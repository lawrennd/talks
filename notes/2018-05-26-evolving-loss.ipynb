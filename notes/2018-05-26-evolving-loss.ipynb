{
 "cells": [
  {
   "cell_type": "markdown",
   "metadata": {},
   "source": [
    "$$\n",
    "\\newcommand{\\Amatrix}{\\mathbf{A}}\n",
    "\\newcommand{\\KL}[2]{\\text{KL}\\left( #1\\,\\|\\,#2 \\right)}\n",
    "\\newcommand{\\Kaast}{\\kernelMatrix_{\\mathbf{ \\ast}\\mathbf{ \\ast}}}\n",
    "\\newcommand{\\Kastu}{\\kernelMatrix_{\\mathbf{\\ast} \\inducingVector}}\n",
    "\\newcommand{\\Kff}{\\kernelMatrix_{\\mappingFunctionVector \\mappingFunctionVector}}\n",
    "\\newcommand{\\Kfu}{\\kernelMatrix_{\\mappingFunctionVector \\inducingVector}}\n",
    "\\newcommand{\\Kuast}{\\kernelMatrix_{\\inducingVector \\bf\\ast}}\n",
    "\\newcommand{\\Kuf}{\\kernelMatrix_{\\inducingVector \\mappingFunctionVector}}\n",
    "\\newcommand{\\Kuu}{\\kernelMatrix_{\\inducingVector \\inducingVector}}\n",
    "\\newcommand{\\Kuui}{\\Kuu^{-1}}\n",
    "\\newcommand{\\Qaast}{{\\bf Q}_{\\bf \\ast \\ast}}\n",
    "\\newcommand{\\Qastf}{{\\bf Q}_{\\ast \\mappingFunction}}\n",
    "\\newcommand{\\Qfast}{{\\bf Q}_{\\mappingFunctionVector \\bf \\ast}}\n",
    "\\newcommand{\\Qff}{{\\bf Q}_{\\mappingFunctionVector \\mappingFunctionVector}}\n",
    "\\newcommand{\\aMatrix}{\\mathbf{A}}\n",
    "\\newcommand{\\aScalar}{a}\n",
    "\\newcommand{\\aVector}{\\mathbf{a}}\n",
    "\\newcommand{\\acceleration}{a}\n",
    "\\newcommand{\\bMatrix}{\\mathbf{B}}\n",
    "\\newcommand{\\bScalar}{b}\n",
    "\\newcommand{\\bVector}{\\mathbf{b}}\n",
    "\\newcommand{\\basisFunc}{\\phi}\n",
    "\\newcommand{\\basisFuncVector}{\\boldsymbol{\\basisFunc}}\n",
    "\\newcommand{\\basisFunction}{\\phi}\n",
    "\\newcommand{\\basisLocation}{\\mu}\n",
    "\\newcommand{\\basisMatrix}{\\boldsymbol{\\Phi}}\n",
    "\\newcommand{\\basisScalar}{\\basisFunction}\n",
    "\\newcommand{\\basisVector}{\\boldsymbol{\\basisFunction}}\n",
    "\\newcommand{\\activationFunction}{\\phi}\n",
    "\\newcommand{\\activationMatrix}{\\boldsymbol{\\Phi}}\n",
    "\\newcommand{\\activationScalar}{\\basisFunction}\n",
    "\\newcommand{\\activationVector}{\\boldsymbol{\\basisFunction}}\n",
    "\\newcommand{\\bigO}{\\mathcal{O}}\n",
    "\\newcommand{\\binomProb}{\\pi}\n",
    "\\newcommand{\\cMatrix}{\\mathbf{C}}\n",
    "\\newcommand{\\cbasisMatrix}{\\hat{\\boldsymbol{\\Phi}}}\n",
    "\\newcommand{\\cdataMatrix}{\\hat{\\dataMatrix}}\n",
    "\\newcommand{\\cdataScalar}{\\hat{\\dataScalar}}\n",
    "\\newcommand{\\cdataVector}{\\hat{\\dataVector}}\n",
    "\\newcommand{\\centeredKernelMatrix}{\\mathbf{\\MakeUppercase{\\centeredKernelScalar}}}\n",
    "\\newcommand{\\centeredKernelScalar}{b}\n",
    "\\newcommand{\\centeredKernelVector}{\\centeredKernelScalar}\n",
    "\\newcommand{\\centeringMatrix}{\\mathbf{H}}\n",
    "\\newcommand{\\chiSquaredDist}[2]{\\chi_{#1}^{2}\\left(#2\\right)}\n",
    "\\newcommand{\\chiSquaredSamp}[1]{\\chi_{#1}^{2}}\n",
    "\\newcommand{\\conditionalCovariance}{\\boldsymbol{\\Sigma}}\n",
    "\\newcommand{\\coregionalizationMatrix}{\\mathbf{B}}\n",
    "\\newcommand{\\coregionalizationScalar}{b}\n",
    "\\newcommand{\\coregionalizationVector}{\\mathbf{\\coregionalizationScalar}}\n",
    "\\newcommand{\\covDist}[2]{\\text{cov}_{#2}\\left(#1\\right)}\n",
    "\\newcommand{\\covSamp}[1]{\\text{cov}\\left(#1\\right)}\n",
    "\\newcommand{\\covarianceScalar}{c}\n",
    "\\newcommand{\\covarianceVector}{\\mathbf{\\covarianceScalar}}\n",
    "\\newcommand{\\covarianceMatrix}{\\mathbf{C}}\n",
    "\\newcommand{\\covarianceMatrixTwo}{\\boldsymbol{\\Sigma}}\n",
    "\\newcommand{\\croupierScalar}{s}\n",
    "\\newcommand{\\croupierVector}{\\mathbf{\\croupierScalar}}\n",
    "\\newcommand{\\croupierMatrix}{\\mathbf{\\MakeUppercase{\\croupierScalar}}}\n",
    "\\newcommand{\\dataDim}{p}\n",
    "\\newcommand{\\dataIndex}{i}\n",
    "\\newcommand{\\dataIndexTwo}{j}\n",
    "\\newcommand{\\dataMatrix}{\\mathbf{Y}}\n",
    "\\newcommand{\\dataScalar}{y}\n",
    "\\newcommand{\\dataSet}{\\mathcal{D}}\n",
    "\\newcommand{\\dataStd}{\\sigma}\n",
    "\\newcommand{\\dataVector}{\\mathbf{\\dataScalar}}\n",
    "\\newcommand{\\decayRate}{d}\n",
    "\\newcommand{\\degreeMatrix}{\\mathbf{\\MakeUppercase{\\degreeScalar}}}\n",
    "\\newcommand{\\degreeScalar}{d}\n",
    "\\newcommand{\\degreeVector}{\\mathbf{\\degreeScalar}}\n",
    "% Already defined by latex\n",
    "%\\newcommand{\\det}[1]{\\left|#1\\right|}\n",
    "\\newcommand{\\diag}[1]{\\text{diag}\\left(#1\\right)}\n",
    "\\newcommand{\\diagonalMatrix}{\\mathbf{D}}\n",
    "\\newcommand{\\diff}[2]{\\frac{\\text{d}#1}{\\text{d}#2}}\n",
    "\\newcommand{\\diffTwo}[2]{\\frac{\\text{d}^2#1}{\\text{d}#2^2}}\n",
    "\\newcommand{\\displacement}{x}\n",
    "\\newcommand{\\displacementVector}{\\textbf{\\displacement}}\n",
    "\\newcommand{\\distanceMatrix}{\\mathbf{\\MakeUppercase{\\distanceScalar}}}\n",
    "\\newcommand{\\distanceScalar}{d}\n",
    "\\newcommand{\\distanceVector}{\\mathbf{\\distanceScalar}}\n",
    "\\newcommand{\\eigenvaltwo}{\\ell}\n",
    "\\newcommand{\\eigenvaltwoMatrix}{\\mathbf{L}}\n",
    "\\newcommand{\\eigenvaltwoVector}{\\mathbf{l}}\n",
    "\\newcommand{\\eigenvalue}{\\lambda}\n",
    "\\newcommand{\\eigenvalueMatrix}{\\boldsymbol{\\Lambda}}\n",
    "\\newcommand{\\eigenvalueVector}{\\boldsymbol{\\lambda}}\n",
    "\\newcommand{\\eigenvector}{\\mathbf{\\eigenvectorScalar}}\n",
    "\\newcommand{\\eigenvectorMatrix}{\\mathbf{U}}\n",
    "\\newcommand{\\eigenvectorScalar}{u}\n",
    "\\newcommand{\\eigenvectwo}{\\mathbf{v}}\n",
    "\\newcommand{\\eigenvectwoMatrix}{\\mathbf{V}}\n",
    "\\newcommand{\\eigenvectwoScalar}{v}\n",
    "\\newcommand{\\entropy}[1]{\\mathcal{H}\\left(#1\\right)}\n",
    "\\newcommand{\\errorFunction}{E}\n",
    "\\newcommand{\\expDist}[2]{\\left<#1\\right>_{#2}}\n",
    "\\newcommand{\\expSamp}[1]{\\left<#1\\right>}\n",
    "\\newcommand{\\expectation}[1]{\\left\\langle #1 \\right\\rangle }\n",
    "\\newcommand{\\expectationDist}[2]{\\left\\langle #1 \\right\\rangle _{#2}}\n",
    "\\newcommand{\\expectedDistanceMatrix}{\\mathcal{D}}\n",
    "\\newcommand{\\eye}{\\mathbf{I}}\n",
    "\\newcommand{\\fantasyDim}{r}\n",
    "\\newcommand{\\fantasyMatrix}{\\mathbf{\\MakeUppercase{\\fantasyScalar}}}\n",
    "\\newcommand{\\fantasyScalar}{z}\n",
    "\\newcommand{\\fantasyVector}{\\mathbf{\\fantasyScalar}}\n",
    "\\newcommand{\\featureStd}{\\varsigma}\n",
    "\\newcommand{\\gammaCdf}[3]{\\mathcal{GAMMA CDF}\\left(#1|#2,#3\\right)}\n",
    "\\newcommand{\\gammaDist}[3]{\\mathcal{G}\\left(#1|#2,#3\\right)}\n",
    "\\newcommand{\\gammaSamp}[2]{\\mathcal{G}\\left(#1,#2\\right)}\n",
    "\\newcommand{\\gaussianDist}[3]{\\mathcal{N}\\left(#1|#2,#3\\right)}\n",
    "\\newcommand{\\gaussianSamp}[2]{\\mathcal{N}\\left(#1,#2\\right)}\n",
    "\\newcommand{\\given}{|}\n",
    "\\newcommand{\\half}{\\frac{1}{2}}\n",
    "\\newcommand{\\heaviside}{H}\n",
    "\\newcommand{\\hiddenMatrix}{\\mathbf{\\MakeUppercase{\\hiddenScalar}}}\n",
    "\\newcommand{\\hiddenScalar}{h}\n",
    "\\newcommand{\\hiddenVector}{\\mathbf{\\hiddenScalar}}\n",
    "\\newcommand{\\identityMatrix}{\\eye}\n",
    "\\newcommand{\\inducingInputScalar}{z}\n",
    "\\newcommand{\\inducingInputVector}{\\mathbf{\\inducingInputScalar}}\n",
    "\\newcommand{\\inducingInputMatrix}{\\mathbf{Z}}\n",
    "\\newcommand{\\inducingScalar}{u}\n",
    "\\newcommand{\\inducingVector}{\\mathbf{\\inducingScalar}}\n",
    "\\newcommand{\\inducingMatrix}{\\mathbf{U}}\n",
    "\\newcommand{\\inlineDiff}[2]{\\text{d}#1/\\text{d}#2}\n",
    "\\newcommand{\\inputDim}{q}\n",
    "\\newcommand{\\inputMatrix}{{\\bf X}}\n",
    "\\newcommand{\\inputScalar}{x}\n",
    "\\newcommand{\\inputSpace}{\\mathcal{X}}\n",
    "\\newcommand{\\inputVals}{\\inputVector}\n",
    "\\newcommand{\\inputVector}{{\\bf \\inputScalar}}\n",
    "\\newcommand{\\iterNum}{k}\n",
    "\\newcommand{\\kernel}{\\kernelScalar}\n",
    "\\newcommand{\\kernelMatrix}{\\mathbf{K}}\n",
    "\\newcommand{\\kernelScalar}{k}\n",
    "\\newcommand{\\kernelVector}{\\mathbf{\\kernelScalar}}\n",
    "\\newcommand{\\kff}{\\kernelScalar_{\\mappingFunction \\mappingFunction}}\n",
    "\\newcommand{\\kfu}{\\kernelVector_{\\mappingFunction \\inducingScalar}}\n",
    "\\newcommand{\\kuf}{\\kernelVector_{\\inducingScalar \\mappingFunction}}\n",
    "\\newcommand{\\kuu}{\\kernelVector_{\\inducingScalar \\inducingScalar}}\n",
    "\\newcommand{\\lagrangeMultiplier}{\\lambda}\n",
    "\\newcommand{\\lagrangeMultiplierMatrix}{\\boldsymbol{\\Lambda}}\n",
    "\\newcommand{\\lagrangian}{L}\n",
    "\\newcommand{\\laplacianFactor}{\\mathbf{\\MakeUppercase{\\laplacianFactorScalar}}}\n",
    "\\newcommand{\\laplacianFactorScalar}{m}\n",
    "\\newcommand{\\laplacianFactorVector}{\\mathbf{\\laplacianFactorScalar}}\n",
    "\\newcommand{\\laplacianMatrix}{\\mathbf{L}}\n",
    "\\newcommand{\\laplacianScalar}{\\ell}\n",
    "\\newcommand{\\laplacianVector}{\\mathbf{\\ell}}\n",
    "\\newcommand{\\latentDim}{q}\n",
    "\\newcommand{\\latentDistanceMatrix}{\\boldsymbol{\\Delta}}\n",
    "\\newcommand{\\latentDistanceScalar}{\\delta}\n",
    "\\newcommand{\\latentDistanceVector}{\\boldsymbol{\\delta}}\n",
    "\\newcommand{\\latentForce}{f}\n",
    "\\newcommand{\\latentFunction}{u}\n",
    "\\newcommand{\\latentFunctionVector}{\\mathbf{\\latentFunction}}\n",
    "\\newcommand{\\latentFunctionMatrix}{\\mathbf{\\MakeUppercase{\\latentFunction}}}\n",
    "\\newcommand{\\latentIndex}{j}\n",
    "\\newcommand{\\latentScalar}{z}\n",
    "\\newcommand{\\latentVector}{\\mathbf{\\latentScalar}}\n",
    "\\newcommand{\\latentMatrix}{\\mathbf{Z}}\n",
    "\\newcommand{\\learnRate}{\\eta}\n",
    "\\newcommand{\\lengthScale}{\\ell}\n",
    "\\newcommand{\\rbfWidth}{\\ell}\n",
    "\\newcommand{\\likelihoodBound}{\\mathcal{L}}\n",
    "\\newcommand{\\likelihoodFunction}{L}\n",
    "\\newcommand{\\locationScalar}{\\mu}\n",
    "\\newcommand{\\locationVector}{\\boldsymbol{\\locationScalar}}\n",
    "\\newcommand{\\locationMatrix}{\\mathbf{M}}\n",
    "\\newcommand{\\variance}[1]{\\text{var}\\left( #1 \\right)}\n",
    "\\newcommand{\\mappingFunction}{f}\n",
    "\\newcommand{\\mappingFunctionMatrix}{\\mathbf{F}}\n",
    "\\newcommand{\\mappingFunctionTwo}{g}\n",
    "\\newcommand{\\mappingFunctionTwoMatrix}{\\mathbf{G}}\n",
    "\\newcommand{\\mappingFunctionTwoVector}{\\mathbf{\\mappingFunctionTwo}}\n",
    "\\newcommand{\\mappingFunctionVector}{\\mathbf{\\mappingFunction}}\n",
    "\\newcommand{\\mappingScalar}{w}\n",
    "\\newcommand{\\mappingVector}{\\mathbf{\\mappingScalar}}\n",
    "\\newcommand{\\mappingMatrix}{\\mathbf{W}}\n",
    "\\newcommand{\\mappingScalarTwo}{v}\n",
    "\\newcommand{\\mappingVectorTwo}{\\mathbf{\\mappingScalarTwo}}\n",
    "\\newcommand{\\mappingMatrixTwo}{\\mathbf{V}}\n",
    "\\newcommand{\\maxIters}{K}\n",
    "\\newcommand{\\meanMatrix}{\\mathbf{M}}\n",
    "\\newcommand{\\meanScalar}{\\mu}\n",
    "\\newcommand{\\meanTwoMatrix}{\\mathbf{M}}\n",
    "\\newcommand{\\meanTwoScalar}{m}\n",
    "\\newcommand{\\meanTwoVector}{\\mathbf{\\meanTwoScalar}}\n",
    "\\newcommand{\\meanVector}{\\boldsymbol{\\meanScalar}}\n",
    "\\newcommand{\\mrnaConcentration}{m}\n",
    "\\newcommand{\\naturalFrequency}{\\omega}\n",
    "\\newcommand{\\neighborhood}[1]{\\mathcal{N}\\left( #1 \\right)}\n",
    "\\newcommand{\\neilurl}{http://inverseprobability.com/}\n",
    "\\newcommand{\\noiseMatrix}{\\boldsymbol{E}}\n",
    "\\newcommand{\\noiseScalar}{\\epsilon}\n",
    "\\newcommand{\\noiseVector}{\\boldsymbol{\\epsilon}}\n",
    "\\newcommand{\\norm}[1]{\\left\\Vert #1 \\right\\Vert}\n",
    "\\newcommand{\\normalizedLaplacianMatrix}{\\hat{\\mathbf{L}}}\n",
    "\\newcommand{\\normalizedLaplacianScalar}{\\hat{\\ell}}\n",
    "\\newcommand{\\normalizedLaplacianVector}{\\hat{\\mathbf{\\ell}}}\n",
    "\\newcommand{\\numActive}{m}\n",
    "\\newcommand{\\numBasisFunc}{m}\n",
    "\\newcommand{\\numComponents}{m}\n",
    "\\newcommand{\\numComps}{K}\n",
    "\\newcommand{\\numData}{n}\n",
    "\\newcommand{\\numFeatures}{K}\n",
    "\\newcommand{\\numHidden}{h}\n",
    "\\newcommand{\\numInducing}{m}\n",
    "\\newcommand{\\numLayers}{\\ell}\n",
    "\\newcommand{\\numNeighbors}{K}\n",
    "\\newcommand{\\numSequences}{s}\n",
    "\\newcommand{\\numSuccess}{s}\n",
    "\\newcommand{\\numTasks}{m}\n",
    "\\newcommand{\\numTime}{T}\n",
    "\\newcommand{\\numTrials}{S}\n",
    "\\newcommand{\\outputIndex}{j}\n",
    "\\newcommand{\\paramVector}{\\boldsymbol{\\theta}}\n",
    "\\newcommand{\\parameterMatrix}{\\boldsymbol{\\Theta}}\n",
    "\\newcommand{\\parameterScalar}{\\theta}\n",
    "\\newcommand{\\parameterVector}{\\boldsymbol{\\parameterScalar}}\n",
    "\\newcommand{\\partDiff}[2]{\\frac{\\partial#1}{\\partial#2}}\n",
    "\\newcommand{\\precisionScalar}{j}\n",
    "\\newcommand{\\precisionVector}{\\mathbf{\\precisionScalar}}\n",
    "\\newcommand{\\precisionMatrix}{\\mathbf{J}}\n",
    "\\newcommand{\\pseudotargetScalar}{\\widetilde{y}}\n",
    "\\newcommand{\\pseudotargetVector}{\\mathbf{\\pseudotargetScalar}}\n",
    "\\newcommand{\\pseudotargetMatrix}{\\mathbf{\\widetilde{Y}}}\n",
    "\\newcommand{\\rank}[1]{\\text{rank}\\left(#1\\right)}\n",
    "\\newcommand{\\rayleighDist}[2]{\\mathcal{R}\\left(#1|#2\\right)}\n",
    "\\newcommand{\\rayleighSamp}[1]{\\mathcal{R}\\left(#1\\right)}\n",
    "\\newcommand{\\responsibility}{r}\n",
    "\\newcommand{\\rotationScalar}{r}\n",
    "\\newcommand{\\rotationVector}{\\mathbf{\\rotationScalar}}\n",
    "\\newcommand{\\rotationMatrix}{\\mathbf{R}}\n",
    "\\newcommand{\\sampleCovScalar}{s}\n",
    "\\newcommand{\\sampleCovVector}{\\mathbf{\\sampleCovScalar}}\n",
    "\\newcommand{\\sampleCovMatrix}{\\mathbf{s}}\n",
    "\\newcommand{\\scalarProduct}[2]{\\left\\langle{#1},{#2}\\right\\rangle}\n",
    "\\newcommand{\\sign}[1]{\\text{sign}\\left(#1\\right)}\n",
    "\\newcommand{\\sigmoid}[1]{\\sigma\\left(#1\\right)}\n",
    "\\newcommand{\\singularvalue}{\\ell}\n",
    "\\newcommand{\\singularvalueMatrix}{\\mathbf{L}}\n",
    "\\newcommand{\\singularvalueVector}{\\mathbf{l}}\n",
    "\\newcommand{\\sorth}{\\mathbf{u}}\n",
    "\\newcommand{\\spar}{\\lambda}\n",
    "\\newcommand{\\trace}[1]{\\text{tr}\\left(#1\\right)}\n",
    "\\newcommand{\\BasalRate}{B}\n",
    "\\newcommand{\\DampingCoefficient}{C}\n",
    "\\newcommand{\\DecayRate}{D}\n",
    "\\newcommand{\\Displacement}{X}\n",
    "\\newcommand{\\LatentForce}{F}\n",
    "\\newcommand{\\Mass}{M}\n",
    "\\newcommand{\\Sensitivity}{S}\n",
    "\\newcommand{\\basalRate}{b}\n",
    "\\newcommand{\\dampingCoefficient}{c}\n",
    "\\newcommand{\\mass}{m}\n",
    "\\newcommand{\\sensitivity}{s}\n",
    "\\newcommand{\\springScalar}{\\kappa}\n",
    "\\newcommand{\\springVector}{\\boldsymbol{\\kappa}}\n",
    "\\newcommand{\\springMatrix}{\\boldsymbol{\\mathcal{K}}}\n",
    "\\newcommand{\\tfConcentration}{p}\n",
    "\\newcommand{\\tfDecayRate}{\\delta}\n",
    "\\newcommand{\\tfMrnaConcentration}{f}\n",
    "\\newcommand{\\tfVector}{{\\bf \\tfConcentration}}\n",
    "\\newcommand{\\velocity}{v}\n",
    "\\newcommand{\\sufficientStatsScalar}{g}\n",
    "\\newcommand{\\sufficientStatsVector}{\\mathbf{\\sufficientStatsScalar}}\n",
    "\\newcommand{\\sufficientStatsMatrix}{\\mathbf{G}}\n",
    "\\newcommand{\\switchScalar}{s}\n",
    "\\newcommand{\\switchVector}{\\mathbf{\\switchScalar}}\n",
    "\\newcommand{\\switchMatrix}{\\mathbf{S}}\n",
    "\\newcommand{\\tr}[1]{\\text{tr}\\left(#1\\right)}\n",
    "\\newcommand{\\loneNorm}[1]{\\left\\Vert #1 \\right\\Vert_1}\n",
    "\\newcommand{\\ltwoNorm}[1]{\\left\\Vert #1 \\right\\Vert_2}\n",
    "\\newcommand{\\onenorm}[1]{\\left\\vert#1\\right\\vert_1}\n",
    "\\newcommand{\\twonorm}[1]{\\left\\Vert #1 \\right\\Vert}\n",
    "\\newcommand{\\vScalar}{v}\n",
    "\\newcommand{\\vVector}{\\mathbf{v}}\n",
    "\\newcommand{\\vMatrix}{\\mathbf{V}}\n",
    "\\newcommand{\\varianceDist}[2]{\\text{var}_{#2}\\left( #1 \\right)}\n",
    "% Already defined by latex\n",
    "%\\newcommand{\\vec}{#1:}\n",
    "\\newcommand{\\vecb}[1]{\\left(#1\\right):}\n",
    "\\newcommand{\\scaleScalar}{s}\n",
    "\\newcommand{\\weightScalar}{w}\n",
    "\\newcommand{\\weightVector}{\\mathbf{\\weightScalar}}\n",
    "\\newcommand{\\weightMatrix}{\\mathbf{W}}\n",
    "\\newcommand{\\weightedAdjacencyMatrix}{\\mathbf{A}}\n",
    "\\newcommand{\\weightedAdjacencyScalar}{a}\n",
    "\\newcommand{\\weightedAdjacencyVector}{\\mathbf{\\weightedAdjacencyScalar}}\n",
    "\\newcommand{\\onesVector}{\\mathbf{1}}\n",
    "\\newcommand{\\zerosVector}{\\mathbf{0}}\n",
    "$$"
   ]
  },
  {
   "cell_type": "markdown",
   "metadata": {},
   "source": [
    "# Evolving Loss\n",
    "\n",
    "Uncertainty in models is handled by Bayesian inference, here we consider uncertainty arising in loss functions.\n",
    "\n",
    "Consider a loss function which decomposes across individual observations, $\\dataScalar_{k,j}$, each of which is dependent on some set of features, $\\inputVector_k$. \n",
    "$$\n",
    "\\sum_{k}\\sum_{j} L(\\dataScalar_{k,j}, \\inputVector_k)\n",
    "$$\n",
    "\n",
    "Assume that the loss function depends on the features through some mapping function, $\\mappingFunction_j(\\cdot)$ which we call the *prediction function*. \n",
    "$$\n",
    "\\sum_{k}\\sum_{j} L(\\dataScalar_{k,j}, \\mappingFunction_j(\\inputVector_k))\n",
    "$$\n",
    "without loss of generality, we can move the index to the inputs, so we have $\\inputVector_i =\\left[\\inputVector \\quad j\\right]$, and we set $\\dataScalar_i = \\dataScalar_{k, j}$. So we have\n",
    "$$\n",
    "\\sum_{i} L(\\dataScalar_i, \\mappingFunction(\\inputVector_i))\n",
    "$$\n",
    "Bayesian inference considers uncertainty in $\\mappingFunction$, often through parameterizing it, $\\mappingFunction(\\inputVector; \\parameterVector)$, and considering a *prior* distribution for the parameters, $p(\\parameterVector)$, this in turn implies a distribution over functions, $p(\\mappingFunction)$. Process models, such as Gaussian processes specify this distribution, known as a process, directly. \n",
    "\n",
    "Bayesian inference proceeds by specifying a *likelihood* which relates the data, $\\dataScalar$, to the parameters. Here we choose not to do this, but instead we only consider the *loss* function for our objective. The loss is the cost we pay for a misclassification. \n",
    "\n",
    "The *risk function* is the expectation of the loss under the distribution of the data. Here we are using the framework of *empirical risk* minimization, because we have a sample based approximation. The new expectation we are considering is around the loss function itself, not the uncertainty in the data.\n",
    "\n",
    "The loss function and the log likelihood may take a mathematically similar form but they are philosophically very different. The log likelihood assumes something about the *generating* function of the data, whereas the loss function assumes something about the cost we pay. Importantly the loss function in Bayesian inference only normally enters at the point of decision.\n",
    "\n",
    "The key idea in Bayesian inference is that the probabilistic inference can be performed *without* knowing the loss becasue if the model is correct, then the form of the loss function is irrelevant when performing inference. In practice, however, the model is *never* correct.\n",
    "\n",
    "Some of the maths below looks similar to the maths we can find in Bayesian methods, in particular variational Bayes, but that is merely a consequence of the availability of analytical mathematics. There are only particular ways of developing tractable algorithms, one route involves linear algebra. However, the similarity of the mathematics belies a difference in interpretation. It is similar to travelling a road (e.g. Ermine Street) in a wild landscape. We travel together because that is where efficient progress is to be made, but in practice a our destinations (Lincoln, York), may be different. \n",
    "\n",
    "To introduce uncertainty we consider a weighted version of the loss function, we introduce positive weights, $\\left\\{\\scaleScalar_i\\right\\}_{i=1}^\\numData$.\n",
    "$$\n",
    "\\sum_{i} \\scaleScalar_i L(\\dataScalar_i, \\mappingFunction(\\inputVector_i))\n",
    "$$\n",
    "We now assume that tmake the assumption that these weights are drawn from a distribution, $q(\\scaleScalar)$. Instead of looking to minimize the loss direction, we look at the expected loss under this distribution.\n",
    "$$\n",
    "\\begin{align*}\n",
    "& \\sum_{i}\\expectationDist{\\scaleScalar_i L(\\dataScalar_i, \\mappingFunction(\\inputVector_i))}{q(\\scaleScalar)}\\\\\n",
    "& \\sum_{i}\\expectationDist{\\scaleScalar_i }{q(\\scaleScalar)}L(\\dataScalar_i, \\mappingFunction(\\inputVector_i))\n",
    "\\end{align*}\n",
    "$$"
   ]
  },
  {
   "cell_type": "markdown",
   "metadata": {},
   "source": [
    "We will assume that our process, $q(\\scaleScalar)$ can depend on a variety of inputs such as $\\dataVector$, $\\inputMatrix$ and time, $t$. "
   ]
  },
  {
   "cell_type": "markdown",
   "metadata": {},
   "source": [
    "To maximize uncertainty in $q(w)$ we maximize its entropy. Following Jaynes formalism of maximum entropy, in the continuous space we do this with respect to an invariant measure,\n",
    "$$\n",
    "H(\\scaleScalar)= - \\int q(\\scaleScalar) \\log \\frac{q(\\scaleScalar)}{m(\\scaleScalar)} \\text{d}\\scaleScalar\n",
    "$$\n",
    "and since we minimize the loss, we balance this by adding in this term to form\n",
    "$$\n",
    "\\begin{align*}\n",
    "& \\beta\\sum_{i}\\expectationDist{\\scaleScalar_i }{q(\\scaleScalar)}L(\\dataScalar_i, \\mappingFunction(\\inputVector_i)) -  H(\\scaleScalar)\\\\\n",
    "&\\propto \\beta\\sum_{i}\\expectationDist{\\scaleScalar_i }{q(\\scaleScalar)}L(\\dataScalar_i, \\mappingFunction(\\inputVector_i)) +  \\int q(\\scaleScalar) \\log \\frac{q(\\scaleScalar)}{m(\\scaleScalar)} \\text{d}\\scaleScalar\n",
    "\\end{align*}\n",
    "$$\n",
    "where $\\beta$ serves to weight the relative contribution of the entropy term and the loss term.\n"
   ]
  },
  {
   "cell_type": "markdown",
   "metadata": {},
   "source": [
    "We can now minimize this modified loss with respect to the density $q(\\scaleScalar)$, the freeform optimization over this term leads to \n",
    "$$\n",
    "\\begin{align*}\n",
    "q(\\scaleScalar) \\propto & \\exp\\left(- \\beta \\sum_{i=1}^\\numData \\scaleScalar_i L(\\dataScalar_i, \\mappingFunction(\\inputVector_i)) \\right) m(\\scaleScalar)\\\\\n",
    " \\propto & \\prod_{i=1}^\\numData \\exp\\left(- \\beta \\scaleScalar_i L(\\dataScalar_i, \\mappingFunction(\\inputVector_i)) \\right) m(\\scaleScalar)\n",
    "\\end{align*}\n",
    "$$"
   ]
  },
  {
   "cell_type": "markdown",
   "metadata": {},
   "source": [
    "## Example\n",
    "\n",
    "Assume \n",
    "$$\n",
    "m(\\scaleScalar) = \\prod_i \\lambda\\exp\\left(-\\lambda\\scaleScalar_i\\right)\n",
    "$$\n",
    "which is the distribution with the maximum entropy for a given mean, $\\scaleScalar$. Then we have\n",
    "$$\n",
    "q(\\scaleScalar) = \\prod_i q(\\scaleScalar_i)\n",
    "$$\n",
    "$$\n",
    "q(\\scaleScalar_i) \\propto \\frac{1}{\\lambda+\\beta L_i} \\exp\\left(-(\\lambda+\\beta L_i) w_i\\right)\n",
    "$$\n",
    "and we can compute \n",
    "$$\n",
    "\\expectationDist{\\scaleScalar_i}{q(\\scaleScalar)} = \\frac{1}{\\lambda + \\beta L_i}\n",
    "$$\n",
    "\n",
    "## Algorithmic Optimization\n",
    "\n",
    "We can optimize the expected loss by iterating between an E-step, setting the expectation correctly,\n",
    "$$\n",
    "q(\\scaleScalar_i) = \\frac{1}{\\lambda+\\beta L_i} \\exp\\left(-(\\lambda+\\beta L_i) w_i\\right)\n",
    "$$\n",
    "which implies \n",
    "$$\n",
    "\\expectationDist{\\scaleScalar_i}{q(\\scaleScalar_i)} = \\frac{1}{\\lambda+\\beta L_i}\n",
    "$$\n",
    "and an M-step, optimizing with respect to $\\mappingFunction(\\cdot)$ the expected loss under the expectation, \n",
    "$$\n",
    "\\beta \\sum_{i=1}^\\numData \\expectationDist{\\scaleScalar_i}{q(\\scaleScalar_i)} L(\\dataScalar_i, \\mappingFunction(\\inputVector_i))\n",
    "$$\n",
    "This is recognized as a *reweighted least squares algorithm*.\n",
    "\n",
    "In addition to the above, in our example below, we updated $\\beta$ to normalize the expected loss to be $\\numData$ at each iteration, so we have\n",
    "$$\n",
    "\\beta = \\frac{\\numData}{\\sum_{i=1}^\\numData \\expectationDist{\\scaleScalar_i}{q(\\scaleScalar_i)} L(\\dataScalar_i, \\mappingFunction(\\inputVector_i))}\n",
    "$$"
   ]
  },
  {
   "cell_type": "code",
   "execution_count": 2134,
   "metadata": {},
   "outputs": [],
   "source": [
    "import mlai\n",
    "import numpy as np\n",
    "import scipy as sp"
   ]
  },
  {
   "cell_type": "markdown",
   "metadata": {},
   "source": [
    "Create a weighted linear regression class, inheriting from the ```mlai.LM``` class."
   ]
  },
  {
   "cell_type": "code",
   "execution_count": 2136,
   "metadata": {},
   "outputs": [],
   "source": [
    "class LML(mlai.LM):\n",
    "    \"\"\"Linear model with evolving loss\n",
    "    :param X: input values\n",
    "    :type X: numpy.ndarray\n",
    "    :param y: target values\n",
    "    :type y: numpy.ndarray\n",
    "    :param basis: basis function \n",
    "    :param type: function\n",
    "    :param beta: weight of the loss function\n",
    "    :param type: float\"\"\"\n",
    "\n",
    "    def __init__(self, X, y, basis=None, beta=1.0, lambd=1.0):\n",
    "        \"Initialise\"\n",
    "        if basis is None:\n",
    "            basis = mlai.basis(mlai.polynomial, number=2)\n",
    "        mlai.LM.__init__(self, X, y, basis)\n",
    "        self.v = np.ones((self.num_data, 1))#np.random.rand(self.num_data, 1)>0.5       \n",
    "        self.update_w()\n",
    "        self.sigma2 = 1/beta\n",
    "        self.beta = beta\n",
    "        self.name = 'LML_'+basis.function.__name__\n",
    "        self.objective_name = 'Weighted Sum of Square Training Error'\n",
    "        self.lambd = lambd\n",
    "\n",
    "    def update_QR(self):\n",
    "        \"Perform the QR decomposition on the basis matrix.\"\n",
    "        self.Q, self.R = np.linalg.qr(self.Phi*np.sqrt(self.v))\n",
    "\n",
    "    def fit(self):\n",
    "        \"\"\"Minimize the objective function with respect to the parameters\"\"\"\n",
    "        for i in range(30):\n",
    "            self.update_w() # In the linear regression clas\n",
    "            self.update_v()\n",
    "        \n",
    "    def update_w(self):\n",
    "        self.update_QR()\n",
    "        self.w_star = sp.linalg.solve_triangular(self.R, np.dot(self.Q.T, self.y*np.sqrt(self.v)))\n",
    "        self.update_losses()\n",
    "\n",
    "    def predict(self, X):\n",
    "        \"\"\"Return the result of the prediction function.\"\"\"\n",
    "        return np.dot(self.basis.Phi(X), self.w_star), None\n",
    "        \n",
    "    def update_v(self):\n",
    "        \"\"\"Update the weights\"\"\"\n",
    "        self.v = 1/(self.lambd + self.beta*self.losses)\n",
    "                                                 \n",
    "    def update_losses(self):\n",
    "        \"\"\"Compute the loss functions for each data point.\"\"\"\n",
    "        self.update_f()\n",
    "        self.losses = ((self.y-self.f)**2)\n",
    "        self.beta = 1/(self.losses*self.v).mean()\n",
    "        \n",
    "    def objective(self):\n",
    "        \"\"\"Compute the objective function.\"\"\"\n",
    "        self.update_losses()\n",
    "        return (self.losses*self.v).sum()\n",
    "\n",
    " "
   ]
  },
  {
   "cell_type": "markdown",
   "metadata": {},
   "source": [
    "Include the olympic marathon data. "
   ]
  },
  {
   "cell_type": "code",
   "execution_count": 2137,
   "metadata": {},
   "outputs": [],
   "source": [
    "import pods\n",
    "data = pods.datasets.olympic_marathon_men()\n",
    "x = data['X']\n",
    "y = data['Y']"
   ]
  },
  {
   "cell_type": "markdown",
   "metadata": {},
   "source": [
    "Set up a linear model (polynomial with two basis functions). "
   ]
  },
  {
   "cell_type": "code",
   "execution_count": 2148,
   "metadata": {},
   "outputs": [],
   "source": [
    "num_basis=2 \n",
    "data_limits=[1896, 2020]\n",
    "basis = mlai.basis(mlai.polynomial, num_basis, data_limits=data_limits)\n",
    "model = LML(x, y, basis=basis, lambd=1, beta=1)\n",
    "model2 = mlai.LM(x, y, basis=basis)"
   ]
  },
  {
   "cell_type": "code",
   "execution_count": 2149,
   "metadata": {},
   "outputs": [],
   "source": [
    "model.fit()\n",
    "model2.fit()"
   ]
  },
  {
   "cell_type": "code",
   "execution_count": 2150,
   "metadata": {},
   "outputs": [],
   "source": [
    "import matplotlib.pyplot as plt"
   ]
  },
  {
   "cell_type": "code",
   "execution_count": 2152,
   "metadata": {},
   "outputs": [],
   "source": [
    "x_test = np.linspace(data_limits[0], data_limits[1], 130)[:, None]\n",
    "f_test, f_var = model.predict(x_test)\n",
    "f2_test, f2_var = model2.predict(x_test)"
   ]
  },
  {
   "cell_type": "code",
   "execution_count": 2170,
   "metadata": {},
   "outputs": [],
   "source": [
    "import teaching_plots as plot"
   ]
  },
  {
   "cell_type": "code",
   "execution_count": 2191,
   "metadata": {},
   "outputs": [
    {
     "data": {
      "image/png": "[encoded data removed]",
      "text/plain": [
       "<Figure size 864x432 with 2 Axes>"
      ]
     },
     "metadata": {},
     "output_type": "display_data"
    }
   ],
   "source": [
    "fig, ax = plt.subplots(figsize=plot.big_wide_figsize)\n",
    "from matplotlib import rc, rcParams\n",
    "rcParams.update({'font.size': 22})\n",
    "rc('text', usetex=True)\n",
    "ax.plot(x_test, f2_test, linewidth=3, color='r')\n",
    "ax.plot(x, y, 'g.', markersize=10)\n",
    "ax.set_xlabel('year')\n",
    "ax.set_ylabel('pace km/min')\n",
    "_ = ax.set_ylim(2, 6)\n",
    "mlai.write_figure('../slides/diagrams/ml/olympic-loss-linear-regression000.svg', transparent=True)\n",
    "ax.plot(x_test, f_test, linewidth=3, color='b')\n",
    "ax.plot(x, y, 'g.', markersize=10)\n",
    "ax2 = ax.twinx()\n",
    "ax2.bar(x.flatten(), model.v.flatten(), width=2, color='b')\n",
    "ax2.set_ylim(0, 4)\n",
    "ax2.set_yticks([0, 1, 2])\n",
    "ax2.set_ylabel('$\\langle s_i \\\\rangle$')\n",
    "mlai.write_figure('../slides/diagrams/ml/olympic-loss-linear-regression001.svg', transparent=True)\n"
   ]
  },
  {
   "cell_type": "code",
   "execution_count": 2195,
   "metadata": {},
   "outputs": [
    {
     "data": {
      "application/vnd.jupyter.widget-view+json": {
       "model_id": "e9ce0088465f4882a4fe2105ee4c3551",
       "version_major": 2,
       "version_minor": 0
      },
      "text/plain": [
       "interactive(children=(IntSlider(value=0, description='number', max=1), Output()), _dom_classes=('widget-intera…"
      ]
     },
     "metadata": {},
     "output_type": "display_data"
    }
   ],
   "source": [
    "import pods\n",
    "pods.notebook.display_plots('olympic-loss-linear-regression{number:0>3}.svg', \n",
    "                            directory='../slides/diagrams/ml', number=(0, 1))"
   ]
  },
  {
   "cell_type": "markdown",
   "metadata": {},
   "source": [
    "## Parameter Uncertainty\n",
    "\n",
    "Classical Bayesian inference is concerned with parameter uncertainty, which equates to uncertainty in the *prediction function*, $\\mappingFunction(\\inputVector)$. The prediction function is normally an estimate of the value of $\\dataScalar$ or constructs a probability density for $\\dataScalar$. \n",
    "\n",
    "Uncertainty in the prediction function can arise through uncertainty in our loss function, but also through uncertainty in parameters in the classical Bayesian sense. The full maximum entropy formalism would now be\n",
    "$$\n",
    "\\expectationDist{\\beta \\scaleScalar_i L(\\dataScalar_i, \\mappingFunction(\\inputVector_i))}{q(\\scaleScalar, \\mappingFunction)} + \\int q(\\scaleScalar, \\mappingFunction) \\log \\frac{q(\\scaleScalar, \\mappingFunction)}{m(\\scaleScalar)m(\\mappingFunction)}\\text{d}\\scaleScalar \\text{d}\\mappingFunction\n",
    "$$\n",
    "$$\n",
    "q(\\mappingFunction, \\scaleScalar) \\propto  \\prod_{i=1}^\\numData \\exp\\left(- \\beta \\scaleScalar_i L(\\dataScalar_i, \\mappingFunction(\\inputVector_i)) \\right) m(\\scaleScalar)m(\\mappingFunction)\n",
    "$$"
   ]
  },
  {
   "cell_type": "markdown",
   "metadata": {},
   "source": [
    "To make progress, we need to choose the invariante measure. One choice is to assume that it factorizes across $\\scaleScalar_i$ giving\n",
    "$$\n",
    "\\begin{align*}\n",
    "q(\\scaleScalar) = \\prod_{i=1}^\\numData q(\\scaleScalar_i)\\\\\n",
    "q(\\scaleScalar_i) \\propto \\exp\\left(-\\beta \\scaleScalar_i^2 L_i\\right)m(\\scaleScalar_i)\n",
    "\\end{align*}\n",
    "$$\n",
    "Optimization of the system can proceed by updating for $q(\\scaleScalar_i)$, and then maximizing the expected loss. Under particular cases we can recover existing classical algorithms, for example if\n",
    "$$\n",
    "\\ell_i = \\left(\\dataScalar_i - \\mappingFunction(\\inputVector_i; \\parameterVector)\\right)^2\n",
    "$$\n",
    "and we choose the measure,\n",
    "$m(\\scaleScalar_i)$ such that\n",
    "$$\n",
    "\\scaleScalar_i^2 \\sim \\gammaSamp{a}{b}\n",
    "$$\n",
    "then\n",
    "$$\n",
    "q(\\scaleScalar^2_i) = \\gammaDist{\\scaleScalar^2_i}{a}{b + \\beta\\ell_i}\n",
    "$$\n",
    "then we have\n",
    "$$\n",
    "\\expectationDist{\\scaleScalar^2_i}{q(\\scaleScalar^2_i)} = \\frac{a}{b + \\beta\\ell_i}\n",
    "$$\n",
    "and the algorithm would consist of computing initializing the parameters of $\\parameterVector$, computing $\\ell_i$ for all data, updating according to the update above, and fit the parameters of $\\parameterVector$. \n",
    "\n"
   ]
  },
  {
   "cell_type": "code",
   "execution_count": 1988,
   "metadata": {},
   "outputs": [],
   "source": [
    "class BLML(mlai.BLM):\n",
    "    \"\"\"Linear model with evolving loss\n",
    "    :param X: input values\n",
    "    :type X: numpy.ndarray\n",
    "    :param y: target values\n",
    "    :type y: numpy.ndarray\n",
    "    :param basis: basis function \n",
    "    :param type: function\n",
    "    :param beta: weight of the loss function\n",
    "    :param type: float\"\"\"\n",
    "\n",
    "    def __init__(self, X, y, basis=None, alpha=1.0, beta=1.0, a=1.0, b=1.0):\n",
    "        \"Initialise\"\n",
    "        if basis is None:\n",
    "            basis = mlai.basis(mlai.polynomial, number=2)\n",
    "        mlai.BLM.__init__(self, X, y, basis=basis, alpha=alpha, sigma2=1/beta)\n",
    "        self.v = np.ones((self.num_data, 1))#np.random.rand(self.num_data, 1)>0.5       \n",
    "        self.update_w()\n",
    "        self.beta = beta\n",
    "        self.name = 'BLML_'+basis.function.__name__\n",
    "        self.objective_name = 'Weighted Sum of Square Training Error'\n",
    "        self.a = a\n",
    "        self.b = b     \n",
    "\n",
    "    def update_QR(self):\n",
    "        \"Perform the QR decomposition on the basis matrix.\"\n",
    "        self.Q, self.R = np.linalg.qr(np.vstack([self.Phi*np.sqrt(self.v), np.sqrt(self.sigma2/self.alpha)*np.eye(self.basis.number)]))\n",
    "\n",
    "    def fit(self):\n",
    "        \"\"\"Minimize the objective function with respect to the parameters\"\"\"\n",
    "        for i in range(30):\n",
    "            self.update_w()\n",
    "            self.update_v()\n",
    "        \n",
    "    def update_w(self):\n",
    "        self.update_QR()\n",
    "        self.QTy = np.dot(self.Q[:self.y.shape[0], :].T, self.y*np.sqrt(self.v))\n",
    "        self.mu_w = sp.linalg.solve_triangular(self.R, self.QTy)\n",
    "        self.RTinv = sp.linalg.solve_triangular(self.R, np.eye(self.R.shape[0]), trans='T')\n",
    "        self.C_w = np.dot(self.RTinv, self.RTinv.T)\n",
    "        self.update_losses()\n",
    "\n",
    "    def update_v(self):\n",
    "        \"\"\"Update the weights\"\"\"\n",
    "        self.v = self.a/(self.b + self.beta*self.losses)\n",
    "                                                 \n",
    "    def update_losses(self):\n",
    "        \"\"\"Compute the loss functions for each data point.\"\"\"\n",
    "        self.update_f()\n",
    "        self.losses = ((self.y-self.f_bar)**2) + self.f_cov[:, np.newaxis]\n",
    "        self.beta = 1/(self.losses*self.v).mean()\n",
    "        self.sigma2=1/self.beta\n",
    "        \n",
    "\n",
    " "
   ]
  },
  {
   "cell_type": "code",
   "execution_count": 2008,
   "metadata": {},
   "outputs": [],
   "source": [
    "# %load -s eq_cov mlai.py\n",
    "def eq_cov(x, x_prime, variance=1., lengthscale=1.):\n",
    "    \"\"\"Exponentiated quadratic covariance function.\"\"\"\n",
    "    diffx = x - x_prime\n",
    "    return variance*np.exp(-0.5*np.dot(diffx, diffx)/lengthscale**2)\n"
   ]
  },
  {
   "cell_type": "code",
   "execution_count": 2009,
   "metadata": {},
   "outputs": [],
   "source": [
    "class GPL(mlai.GP):\n",
    "    def __init__(self, X, losses, kernel, beta=1.0, mu=0.0, X_star=None, v_star=None):\n",
    "        # Bring together locations\n",
    "        y = np.ones((X.shape[0], 1))*mu\n",
    "        self.v_star=v_star\n",
    "        self.X_star=X_star\n",
    "        if X_star is None:\n",
    "            Xaug = X\n",
    "        else:\n",
    "            Xaug = np.vstack((X, X_star))\n",
    "        if self.v_star is None:\n",
    "            yaug = y\n",
    "            self.d = 1.0/losses\n",
    "        else: \n",
    "            yaug = np.vstack((y, self.v_star))\n",
    "            self.d = np.vstack((1.0/losses, np.zeros((self.v_star.shape[0], 1))))\n",
    "        self.beta = beta\n",
    "        self.mu = mu\n",
    "        mlai.GP.__init__(self, Xaug, yaug, kernel=kernel, sigma2=0.0)\n",
    "        self.name = 'GPL_'+kernel.function.__name__\n",
    "        self.objective_name = 'Negative Marginal Likelihood'\n",
    "\n",
    "    def update_inverse(self):\n",
    "        # Pre-compute the inverse covariance and some quantities of interest\n",
    "        ## NOTE: This is *not* the correct *numerical* way to compute this! It is for ease of mapping onto the maths.\n",
    "        self.Linv = np.diag(self.d.flatten())\n",
    "        self.Kinv = np.linalg.inv(self.K+self.Linv/self.beta)\n",
    "        # the log determinant of the covariance matrix.\n",
    "        self.logdetK = np.linalg.det(self.K+self.Linv/self.beta)\n",
    "        # The matrix inner product of the inverse covariance\n",
    "        self.Kinvy = np.dot(self.Kinv, self.y)\n",
    "        self.yKinvy = (self.y*self.Kinvy).sum()\n"
   ]
  },
  {
   "cell_type": "code",
   "execution_count": 2030,
   "metadata": {},
   "outputs": [],
   "source": [
    "class GPL(mlai.GP):\n",
    "    def __init__(self, X, losses, kernel, beta=1.0, mu=0.0, X_star=None, v_star=None):\n",
    "        # Bring together locations\n",
    "        self.kernel = kernel\n",
    "        self.K = self.kernel.K(X)\n",
    "        self.mu = np.ones((X.shape[0],1))*mu\n",
    "        self.beta = beta\n",
    "        if X_star is not None:\n",
    "            kstar = kernel.K(X, X_star)\n",
    "            kstarstar = kernel.K(X_star, X_star)\n",
    "            kstarstarInv = np.linalg.inv(kstarstar)\n",
    "            kskssInv = np.dot(kstar, kstarstarInv)\n",
    "            self.K -= np.dot(kskssInv,kstar.T)\n",
    "            if v_star is not None:\n",
    "                self.mu = kskssInv*(v_star-self.mu)+self.mu\n",
    "                Xaug = np.vstack((X, X_star))\n",
    "            else:\n",
    "                raise ValueError(\"v_star should not be None when X_star is None\") \n"
   ]
  },
  {
   "cell_type": "code",
   "execution_count": null,
   "metadata": {},
   "outputs": [],
   "source": []
  },
  {
   "cell_type": "code",
   "execution_count": 2018,
   "metadata": {},
   "outputs": [],
   "source": [
    "class LMLGP(BLML):\n",
    "    def __init__(self, X, y, basis=None, kernel=None, beta=1.0, mu=0.0, alpha=1.0, X_star=None, v_star=None):\n",
    "        BLML.__init__(self, X, y, basis=basis, alpha=alpha, beta=beta, a=None, b=None)\n",
    "        self.gp_model=GPL(self.X, self.losses, kernel=kernel, beta=beta, mu=mu, X_star=X_star, v_star=v_star)\n",
    "    def update_v(self):\n",
    "        \"\"\"Update the weights\"\"\"\n",
    "        self.gp_model.C = sp.linalg.inv(sp.linalg.inv(self.gp_model.K+np.eye(self.X.shape[0])*1e-6) + np.diag(self.losses.flatten()))\n",
    "        self.gp_model.v = np.diag(self.gp_model.C)[:, np.newaxis]\n",
    "        self.gp_model.f = self.gp_model.beta*np.dot(np.dot(self.gp_model.C,np.diag(self.losses.flatten())),self.gp_model.mu) +self.gp_model.mu\n",
    "        \n",
    "        #f, v = self.gp_model.K self.gp_model.predict(self.X)\n",
    "        self.v = self.gp_model.f*self.gp_model.f + self.gp_model.v # + 1.0/(self.losses*self.gp_model.beta)\n",
    " "
   ]
  },
  {
   "cell_type": "code",
   "execution_count": 2111,
   "metadata": {},
   "outputs": [],
   "source": [
    "m2 = LMLGP(x, y, \n",
    "           basis=basis, \n",
    "           kernel=mlai.kernel(eq_cov, lengthscale=10, variance=0.5),\n",
    "           mu=0.5,\n",
    "           beta=1, \n",
    "           alpha=1000,\n",
    "           X_star=np.asarray([[2020]]), \n",
    "           v_star=np.asarray([[1]]))"
   ]
  },
  {
   "cell_type": "code",
   "execution_count": 2112,
   "metadata": {},
   "outputs": [
    {
     "data": {
      "text/plain": [
       "(27, 27)"
      ]
     },
     "execution_count": 2112,
     "metadata": {},
     "output_type": "execute_result"
    }
   ],
   "source": [
    "md.K.shape"
   ]
  },
  {
   "cell_type": "code",
   "execution_count": 2113,
   "metadata": {},
   "outputs": [],
   "source": [
    "m2.fit()"
   ]
  },
  {
   "cell_type": "code",
   "execution_count": 2114,
   "metadata": {},
   "outputs": [
    {
     "data": {
      "image/png": "[encoded data removed]",
      "text/plain": [
       "<Figure size 432x288 with 1 Axes>"
      ]
     },
     "metadata": {},
     "output_type": "display_data"
    }
   ],
   "source": [
    "_ = plt.bar(x.flatten(), m2.v.flatten())"
   ]
  },
  {
   "cell_type": "code",
   "execution_count": 2115,
   "metadata": {},
   "outputs": [
    {
     "data": {
      "text/plain": [
       "7.945916198276198"
      ]
     },
     "execution_count": 2115,
     "metadata": {},
     "output_type": "execute_result"
    }
   ],
   "source": [
    "m2.beta"
   ]
  },
  {
   "cell_type": "code",
   "execution_count": 2116,
   "metadata": {},
   "outputs": [
    {
     "data": {
      "image/png": "[encoded data removed]",
      "text/plain": [
       "<Figure size 432x288 with 1 Axes>"
      ]
     },
     "metadata": {},
     "output_type": "display_data"
    }
   ],
   "source": [
    "num_samps=10\n",
    "samps=np.random.multivariate_normal(m2.gp_model.f.flatten(), m2.gp_model.C, size=10).T**2\n",
    "_ = plt.plot(x, samps)"
   ]
  },
  {
   "cell_type": "code",
   "execution_count": 2117,
   "metadata": {},
   "outputs": [
    {
     "data": {
      "image/png": "[encoded data removed]",
      "text/plain": [
       "<Figure size 432x288 with 1 Axes>"
      ]
     },
     "metadata": {},
     "output_type": "display_data"
    }
   ],
   "source": [
    "fig, ax = plt.subplots()\n",
    "ax.plot(x, y, 'r.')\n",
    "_ = ax.set_ylim(2, 6)\n",
    "x_test = np.linspace(data_limits[0], data_limits[1], 130)[:, np.newaxis]\n",
    "for i in range(samps.shape[1]):\n",
    "    m2.v = samps[:, i:i+1]\n",
    "    m2.update_w()\n",
    "    f_bar, f_cov =m2.predict(x_test, full_cov=True)\n",
    "    f_test = np.random.multivariate_normal(f_bar.flatten(), f_cov, size=1).T\n",
    "    ax.plot(x_test, f_test)\n",
    "\n"
   ]
  },
  {
   "cell_type": "code",
   "execution_count": 2110,
   "metadata": {},
   "outputs": [
    {
     "data": {
      "text/plain": [
       "array([0.01548983, 0.02166308, 0.0272782 , 0.03265831, 0.03730403,\n",
       "       0.0467381 , 0.05208672, 0.05756718, 0.06420016, 0.07016523,\n",
       "       0.08275562, 0.08296571, 0.08060129, 0.07646635, 0.07163097,\n",
       "       0.06684171, 0.06305754, 0.06151729, 0.0630633 , 0.06838735,\n",
       "       0.07828754, 0.09226568, 0.1101168 , 0.12882311, 0.14516847,\n",
       "       0.15323291, 0.14961777])"
      ]
     },
     "execution_count": 2110,
     "metadata": {},
     "output_type": "execute_result"
    }
   ],
   "source": [
    "m2.f_cov"
   ]
  },
  {
   "cell_type": "code",
   "execution_count": 2094,
   "metadata": {},
   "outputs": [
    {
     "data": {
      "text/plain": [
       "5.582583518946719"
      ]
     },
     "execution_count": 2094,
     "metadata": {},
     "output_type": "execute_result"
    }
   ],
   "source": [
    "m2.beta"
   ]
  },
  {
   "cell_type": "code",
   "execution_count": 2095,
   "metadata": {},
   "outputs": [
    {
     "data": {
      "image/png": "[encoded data removed]",
      "text/plain": [
       "<Figure size 432x288 with 1 Axes>"
      ]
     },
     "metadata": {},
     "output_type": "display_data"
    }
   ],
   "source": [
    "fig, ax = plt.subplots()\n",
    "ax.plot(x_test, f_test)\n",
    "ax.plot(x, y, 'r.')\n",
    "_ = ax.set_ylim(2, 6)"
   ]
  },
  {
   "cell_type": "code",
   "execution_count": 2096,
   "metadata": {},
   "outputs": [
    {
     "ename": "AttributeError",
     "evalue": "'GPL' object has no attribute 'X'",
     "output_type": "error",
     "traceback": [
      "\u001b[0;31m--------------------------------------------------------------\u001b[0m",
      "\u001b[0;31mAttributeError\u001b[0m               Traceback (most recent call last)",
      "\u001b[0;32m<ipython-input-2096-d7b127e97f8f>\u001b[0m in \u001b[0;36m<module>\u001b[0;34m()\u001b[0m\n\u001b[1;32m      1\u001b[0m \u001b[0;32mimport\u001b[0m \u001b[0mgp_tutorial\u001b[0m\u001b[0;34m\u001b[0m\u001b[0m\n\u001b[0;32m----> 2\u001b[0;31m \u001b[0mf\u001b[0m\u001b[0;34m,\u001b[0m \u001b[0mv\u001b[0m \u001b[0;34m=\u001b[0m \u001b[0mm2\u001b[0m\u001b[0;34m.\u001b[0m\u001b[0mgp_model\u001b[0m\u001b[0;34m.\u001b[0m\u001b[0mpredict\u001b[0m\u001b[0;34m(\u001b[0m\u001b[0mx_test\u001b[0m\u001b[0;34m)\u001b[0m\u001b[0;34m\u001b[0m\u001b[0m\n\u001b[0m\u001b[1;32m      3\u001b[0m \u001b[0mgp_tutorial\u001b[0m\u001b[0;34m.\u001b[0m\u001b[0mgpplot\u001b[0m\u001b[0;34m(\u001b[0m\u001b[0mx_test\u001b[0m\u001b[0;34m,\u001b[0m \u001b[0mf\u001b[0m\u001b[0;34m,\u001b[0m \u001b[0mf\u001b[0m \u001b[0;34m-\u001b[0m \u001b[0;36m2\u001b[0m\u001b[0;34m*\u001b[0m\u001b[0mnp\u001b[0m\u001b[0;34m.\u001b[0m\u001b[0msqrt\u001b[0m\u001b[0;34m(\u001b[0m\u001b[0mv\u001b[0m\u001b[0;34m)\u001b[0m\u001b[0;34m,\u001b[0m \u001b[0mf\u001b[0m \u001b[0;34m+\u001b[0m \u001b[0;36m2\u001b[0m\u001b[0;34m*\u001b[0m\u001b[0mnp\u001b[0m\u001b[0;34m.\u001b[0m\u001b[0msqrt\u001b[0m\u001b[0;34m(\u001b[0m\u001b[0mv\u001b[0m\u001b[0;34m)\u001b[0m\u001b[0;34m)\u001b[0m\u001b[0;34m\u001b[0m\u001b[0m\n\u001b[1;32m      4\u001b[0m \u001b[0;31m#plt.plot(x_test, f*f + v, 'r-')\u001b[0m\u001b[0;34m\u001b[0m\u001b[0;34m\u001b[0m\u001b[0m\n\u001b[1;32m      5\u001b[0m \u001b[0m_\u001b[0m \u001b[0;34m=\u001b[0m \u001b[0mplt\u001b[0m\u001b[0;34m.\u001b[0m\u001b[0mplot\u001b[0m\u001b[0;34m(\u001b[0m\u001b[0mx\u001b[0m\u001b[0;34m,\u001b[0m \u001b[0mnp\u001b[0m\u001b[0;34m.\u001b[0m\u001b[0msqrt\u001b[0m\u001b[0;34m(\u001b[0m\u001b[0mm2\u001b[0m\u001b[0;34m.\u001b[0m\u001b[0mv\u001b[0m\u001b[0;34m)\u001b[0m\u001b[0;34m)\u001b[0m\u001b[0;34m\u001b[0m\u001b[0m\n",
      "\u001b[0;32m~/lawrennd/talks/notebooks/mlai.py\u001b[0m in \u001b[0;36mpredict\u001b[0;34m(self, X_test, full_cov)\u001b[0m\n\u001b[1;32m    617\u001b[0m     \u001b[0;32mdef\u001b[0m \u001b[0mpredict\u001b[0m\u001b[0;34m(\u001b[0m\u001b[0mself\u001b[0m\u001b[0;34m,\u001b[0m \u001b[0mX_test\u001b[0m\u001b[0;34m,\u001b[0m \u001b[0mfull_cov\u001b[0m\u001b[0;34m=\u001b[0m\u001b[0;32mFalse\u001b[0m\u001b[0;34m)\u001b[0m\u001b[0;34m:\u001b[0m\u001b[0;34m\u001b[0m\u001b[0m\n\u001b[1;32m    618\u001b[0m         \u001b[0;34m\"Give a mean and a variance of the prediction.\"\u001b[0m\u001b[0;34m\u001b[0m\u001b[0m\n\u001b[0;32m--> 619\u001b[0;31m         \u001b[0mK_star\u001b[0m \u001b[0;34m=\u001b[0m \u001b[0mself\u001b[0m\u001b[0;34m.\u001b[0m\u001b[0mkernel\u001b[0m\u001b[0;34m.\u001b[0m\u001b[0mK\u001b[0m\u001b[0;34m(\u001b[0m\u001b[0mself\u001b[0m\u001b[0;34m.\u001b[0m\u001b[0mX\u001b[0m\u001b[0;34m,\u001b[0m \u001b[0mX_test\u001b[0m\u001b[0;34m)\u001b[0m\u001b[0;34m\u001b[0m\u001b[0m\n\u001b[0m\u001b[1;32m    620\u001b[0m         \u001b[0mA\u001b[0m \u001b[0;34m=\u001b[0m \u001b[0mnp\u001b[0m\u001b[0;34m.\u001b[0m\u001b[0mdot\u001b[0m\u001b[0;34m(\u001b[0m\u001b[0mself\u001b[0m\u001b[0;34m.\u001b[0m\u001b[0mKinv\u001b[0m\u001b[0;34m,\u001b[0m \u001b[0mK_star\u001b[0m\u001b[0;34m)\u001b[0m\u001b[0;34m\u001b[0m\u001b[0m\n\u001b[1;32m    621\u001b[0m         \u001b[0mmu_f\u001b[0m \u001b[0;34m=\u001b[0m \u001b[0mnp\u001b[0m\u001b[0;34m.\u001b[0m\u001b[0mdot\u001b[0m\u001b[0;34m(\u001b[0m\u001b[0mA\u001b[0m\u001b[0;34m.\u001b[0m\u001b[0mT\u001b[0m\u001b[0;34m,\u001b[0m \u001b[0mself\u001b[0m\u001b[0;34m.\u001b[0m\u001b[0my\u001b[0m\u001b[0;34m)\u001b[0m\u001b[0;34m\u001b[0m\u001b[0m\n",
      "\u001b[0;31mAttributeError\u001b[0m: 'GPL' object has no attribute 'X'"
     ]
    }
   ],
   "source": [
    "import gp_tutorial\n",
    "f, v = m2.gp_model.predict(x_test)\n",
    "gp_tutorial.gpplot(x_test, f, f - 2*np.sqrt(v), f + 2*np.sqrt(v))\n",
    "#plt.plot(x_test, f*f + v, 'r-')\n",
    "_ = plt.plot(x, np.sqrt(m2.v))"
   ]
  },
  {
   "cell_type": "markdown",
   "metadata": {},
   "source": [
    "Going beyond independence between weights, we now consider $m(\\scaleScalar)$ to be a Gaussian process, that gives us\n",
    "$$\n",
    "q(\\scaleScalar) \\propto \\prod_{i=1}^\\numData \\exp\\left(- \\beta \\scaleScalar_i^2 L(\\dataScalar_i, \\inputVector_i) \\right) \\exp\\left(-\\frac{1}{2}(\\weightVector-\\meanVector)^\\top \\kernelMatrix^{-1} (\\weightVector-\\meanVector)\\right)\n",
    "$$\n",
    "where $\\kernelMatrix$ is the covariance of the process made up of elements taken from the covariance function, $\\kernelScalar(\\inputVector, t, \\dataVector; \\inputVector^\\prime, t^\\prime, \\dataVector^\\prime)$ so $q(\\scaleScalar)$ itself is a Gaussian process with covariance \n",
    "$$\n",
    "\\covarianceMatrix = \\left(\\beta\\mathbf{L} + \\kernelMatrix^{-1}\\right)^{-1}\n",
    "$$\n",
    "and mean\n",
    "$$\n",
    "\\meanTwoVector = \\beta\\covarianceMatrix\\mathbf{L}\\meanVector\n",
    "$$\n",
    "where $\\mathbf{L}$ is a matrix containing the loss functions, $L(\\dataScalar_i, \\inputVector_i)$ along its diagonal elements with zeros elsewhere.\n",
    "\n",
    "The update is given by $\\expectationDist{\\scaleScalar_i^2}{q(\\scaleScalar)} = \\meanTwoScalar_i^2 + \\covarianceScalar_{i, i}$\n"
   ]
  },
  {
   "cell_type": "markdown",
   "metadata": {},
   "source": [
    "Adding in a an observation\n",
    "\n",
    "Sometimes, we might wish to focus on a particular region, e.g. around a test point. In this region, we can consider a different measure. \n",
    "$$\n",
    "q(\\scaleScalar) \\propto \\prod_{i=1}^\\numData \\exp\\left(- \\beta \\scaleScalar_i^2 L(\\dataScalar_i, \\inputVector_i) \\right) \\delta\\left(\\scaleScalar_j - \\hat{\\scaleScalar}_j\\right) \\exp\\left(-\\frac{1}{2}(\\weightVector-\\meanVector)^\\top \\kernelMatrix^{-1} (\\weightVector-\\meanVector)\\right)\n",
    "$$\n"
   ]
  },
  {
   "cell_type": "markdown",
   "metadata": {},
   "source": [
    "$$\n",
    "\\covarianceMatrix = \\kernelMatrix_{*,*} - \\kernelMatrix_*^\\top \\left(\\kernelMatrix + \\beta^{-1}\\mathbf{L}^{-1} \\right)^{-1}\\kernelMatrix_*\n",
    "$$"
   ]
  },
  {
   "cell_type": "markdown",
   "metadata": {},
   "source": [
    "$$\n",
    "\\meanTwoVector = \\kernelMatrix_* ^\\top\\left(\\kernelMatrix + \\beta^{-1}\\mathbf{L}^{-1}\\right)^{-1} \\onesVector \\meanScalar\n",
    "$$"
   ]
  },
  {
   "cell_type": "markdown",
   "metadata": {},
   "source": [
    "## Some Special Cases\n",
    "\n",
    "If the base measure is diagonal covariance, or spherical covariance, $\\covarianceMatrix=\\tau\\eye$, and we take $\\meanVector=\\onesVector\\mu$  then we have\n",
    "$$\n",
    "\\covarianceScalar_{i,i}=\\frac{1}{\\beta L_i + \\tau^{-1}}\n",
    "$$\n",
    "and\n",
    "$$\n",
    "\\meanTwoScalar_{i} = \\meanScalar\\frac{\\beta L_i}{\\beta L_i + \\tau^{-1}} = \\meanScalar\\frac{\\beta\\tau L_i}{\\beta\\tau L_i + 1}\n",
    "$$\n",
    "\n",
    "$$\n",
    "\\meanTwoScalar_{i} = \\meanScalar\\frac{\\beta\\tau L_i}{\\beta\\tau L_i + 1} \n",
    "\\quad\\covarianceScalar_{i, i} = \\frac{\\tau}{\\beta\\tau L_i + 1}\n",
    "$$\n"
   ]
  },
  {
   "cell_type": "markdown",
   "metadata": {},
   "source": [
    "Set $a_i = \\beta\\tau L_i + 1$ and we have\n",
    "$$\n",
    "\\expectationDist{\\scaleScalar^2_i}{q(\\scaleScalar)} = \\frac{\\meanScalar^2 \\beta^2\\tau^2 L^2_i + \\beta\\tau^2L_i +\\tau}{a_i^2}\n",
    "$$"
   ]
  }
 ],
 "metadata": {
  "kernelspec": {
   "display_name": "Python 3",
   "language": "python",
   "name": "python3"
  },
  "language_info": {
   "codemirror_mode": {
    "name": "ipython",
    "version": 3
   },
   "file_extension": ".py",
   "mimetype": "text/x-python",
   "name": "python",
   "nbconvert_exporter": "python",
   "pygments_lexer": "ipython3",
   "version": "3.6.3"
  }
 },
 "nbformat": 4,
 "nbformat_minor": 2
}
