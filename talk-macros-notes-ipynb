\ifndef{talkMacrosNotesIpynb}
\define{talkMacrosNotesIpynb}


\define{\caption{block}}{<center>*\block *</center>}
\define{\aligncenter{block}}{<center>\block</center>}
\define{\alignright{block}}{<span style="text-align:right">\block</span>}
\define{\alignleft{block}}{<span style="text-align:left">\block</span>}
\define{\largetext{block}}{<large>\block</large>}
\define{\smalltext{block}}{<small>\block</small>}

\define{\includempfour{filename}{width}{height}}{<video width="\width" height="\height" controls preload="none">
<source src="\filename" type="video/mp4"/>
</video>}
\define{\includeimg{filename}{width}{class}{align}}{<img class="\class" src="\filename" width="\width" height="auto" align="\align" style="background:none; border:none; box-shadow:none; display:block; margin-left:auto; margin-right:auto;vertical-align:middle">}
\define{\includeimgclip{filename}{top}{right}{bottom}{left}{width}{class}{align}}{<img class="\class" src="\filename" width="\width" align="\align" style="background:none; border:none; box-shadow:none; position:absolute; clip:rect(\top,\right,\bottom,\left);vertical-align:middle">}
\define{\includesvg{filename}{align}{class}{style}}{<object class="svgplot \class" align="\align" data="\filename" style="vertical-align:middle;\style"></object>}
\define{\includesvgclass{filename}{class}{align}}{<object class="\class" align="\align" data="\filename" style="vertical-align:middle"></object>}
\define{\includehtml{filename}{width}{height}}{<iframe src="\filename" width="\width" height="\height" allowtransparency="true" frameborder="0">
</iframe>}

\endif